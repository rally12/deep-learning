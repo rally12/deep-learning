{
 "cells": [
  {
   "cell_type": "markdown",
   "metadata": {
    "collapsed": true
   },
   "source": [
    "# Image Classification\n",
    "In this project, you'll classify images from the [CIFAR-10 dataset](https://www.cs.toronto.edu/~kriz/cifar.html).  The dataset consists of airplanes, dogs, cats, and other objects. You'll preprocess the images, then train a convolutional neural network on all the samples. The images need to be normalized and the labels need to be one-hot encoded.  You'll get to apply what you learned and build a convolutional, max pooling, dropout, and fully connected layers.  At the end, you'll get to see your neural network's predictions on the sample images.\n",
    "## Get the Data\n",
    "Run the following cell to download the [CIFAR-10 dataset for python](https://www.cs.toronto.edu/~kriz/cifar-10-python.tar.gz)."
   ]
  },
  {
   "cell_type": "code",
   "execution_count": 1,
   "metadata": {
    "collapsed": false
   },
   "outputs": [
    {
     "name": "stdout",
     "output_type": "stream",
     "text": [
      "All files found!\n"
     ]
    }
   ],
   "source": [
    "\"\"\"\n",
    "DON'T MODIFY ANYTHING IN THIS CELL THAT IS BELOW THIS LINE\n",
    "\"\"\"\n",
    "from urllib.request import urlretrieve\n",
    "from os.path import isfile, isdir\n",
    "from tqdm import tqdm\n",
    "import problem_unittests as tests\n",
    "import tarfile\n",
    "\n",
    "cifar10_dataset_folder_path = 'cifar-10-batches-py'\n",
    "\n",
    "class DLProgress(tqdm):\n",
    "    last_block = 0\n",
    "\n",
    "    def hook(self, block_num=1, block_size=1, total_size=None):\n",
    "        self.total = total_size\n",
    "        self.update((block_num - self.last_block) * block_size)\n",
    "        self.last_block = block_num\n",
    "\n",
    "if not isfile('cifar-10-python.tar.gz'):\n",
    "    with DLProgress(unit='B', unit_scale=True, miniters=1, desc='CIFAR-10 Dataset') as pbar:\n",
    "        urlretrieve(\n",
    "            'https://www.cs.toronto.edu/~kriz/cifar-10-python.tar.gz',\n",
    "            'cifar-10-python.tar.gz',\n",
    "            pbar.hook)\n",
    "\n",
    "if not isdir(cifar10_dataset_folder_path):\n",
    "    with tarfile.open('cifar-10-python.tar.gz') as tar:\n",
    "        tar.extractall()\n",
    "        tar.close()\n",
    "\n",
    "\n",
    "tests.test_folder_path(cifar10_dataset_folder_path)"
   ]
  },
  {
   "cell_type": "markdown",
   "metadata": {},
   "source": [
    "## Explore the Data\n",
    "The dataset is broken into batches to prevent your machine from running out of memory.  The CIFAR-10 dataset consists of 5 batches, named `data_batch_1`, `data_batch_2`, etc.. Each batch contains the labels and images that are one of the following:\n",
    "* airplane\n",
    "* automobile\n",
    "* bird\n",
    "* cat\n",
    "* deer\n",
    "* dog\n",
    "* frog\n",
    "* horse\n",
    "* ship\n",
    "* truck\n",
    "\n",
    "Understanding a dataset is part of making predictions on the data.  Play around with the code cell below by changing the `batch_id` and `sample_id`. The `batch_id` is the id for a batch (1-5). The `sample_id` is the id for a image and label pair in the batch.\n",
    "\n",
    "Ask yourself \"What are all possible labels?\", \"What is the range of values for the image data?\", \"Are the labels in order or random?\".  Answers to questions like these will help you preprocess the data and end up with better predictions."
   ]
  },
  {
   "cell_type": "code",
   "execution_count": 2,
   "metadata": {
    "collapsed": false
   },
   "outputs": [
    {
     "name": "stdout",
     "output_type": "stream",
     "text": [
      "\n",
      "Stats of batch 1:\n",
      "Samples: 10000\n",
      "Label Counts: {0: 1005, 1: 974, 2: 1032, 3: 1016, 4: 999, 5: 937, 6: 1030, 7: 1001, 8: 1025, 9: 981}\n",
      "First 20 Labels: [6, 9, 9, 4, 1, 1, 2, 7, 8, 3, 4, 7, 7, 2, 9, 9, 9, 3, 2, 6]\n",
      "\n",
      "Example of Image 5:\n",
      "Image - Min Value: 0 Max Value: 252\n",
      "Image - Shape: (32, 32, 3)\n",
      "Label - Label Id: 1 Name: automobile\n"
     ]
    },
    {
     "data": {
      "image/png": "[encoded data removed]",
      "text/plain": [
       "<matplotlib.figure.Figure at 0x7f8319876320>"
      ]
     },
     "metadata": {
      "image/png": {
       "height": 250,
       "width": 253
      }
     },
     "output_type": "display_data"
    }
   ],
   "source": [
    "%matplotlib inline\n",
    "%config InlineBackend.figure_format = 'retina'\n",
    "\n",
    "import helper\n",
    "import numpy as np\n",
    "\n",
    "# Explore the dataset\n",
    "batch_id = 1\n",
    "sample_id = 5\n",
    "helper.display_stats(cifar10_dataset_folder_path, batch_id, sample_id)"
   ]
  },
  {
   "cell_type": "markdown",
   "metadata": {},
   "source": [
    "## Implement Preprocess Functions\n",
    "### Normalize\n",
    "In the cell below, implement the `normalize` function to take in image data, `x`, and return it as a normalized Numpy array. The values should be in the range of 0 to 1, inclusive.  The return object should be the same shape as `x`."
   ]
  },
  {
   "cell_type": "code",
   "execution_count": 3,
   "metadata": {
    "collapsed": false
   },
   "outputs": [
    {
     "name": "stdout",
     "output_type": "stream",
     "text": [
      "Tests Passed\n"
     ]
    }
   ],
   "source": [
    "def normalize(x):\n",
    "    \"\"\"\n",
    "    Normalize a list of sample image data in the range of 0 to 1\n",
    "    : x: List of image data.  The image shape is (32, 32, 3)\n",
    "    : return: Numpy array of normalize data\n",
    "    \"\"\"\n",
    "    # TODO: Implement Function\n",
    "    return x/255\n",
    "\n",
    "\n",
    "\"\"\"\n",
    "DON'T MODIFY ANYTHING IN THIS CELL THAT IS BELOW THIS LINE\n",
    "\"\"\"\n",
    "tests.test_normalize(normalize)"
   ]
  },
  {
   "cell_type": "markdown",
   "metadata": {},
   "source": [
    "### One-hot encode\n",
    "Just like the previous code cell, you'll be implementing a function for preprocessing.  This time, you'll implement the `one_hot_encode` function. The input, `x`, are a list of labels.  Implement the function to return the list of labels as One-Hot encoded Numpy array.  The possible values for labels are 0 to 9. The one-hot encoding function should return the same encoding for each value between each call to `one_hot_encode`.  Make sure to save the map of encodings outside the function.\n",
    "\n",
    "Hint: Don't reinvent the wheel."
   ]
  },
  {
   "cell_type": "code",
   "execution_count": 4,
   "metadata": {
    "collapsed": false
   },
   "outputs": [
    {
     "name": "stdout",
     "output_type": "stream",
     "text": [
      "Tests Passed\n"
     ]
    }
   ],
   "source": [
    "def one_hot_encode(x):\n",
    "    \"\"\"\n",
    "    One hot encode a list of sample labels. Return a one-hot encoded vector for each label.\n",
    "    : x: List of sample Labels\n",
    "    : return: Numpy array of one-hot encoded labels\n",
    "    \"\"\"\n",
    "    \n",
    "    ret = np.zeros((len(x),10))\n",
    "    data = zip(ret,x)\n",
    "    for rete,label in data:\n",
    "        rete[label]=1\n",
    "    return ret\n",
    "\n",
    "\n",
    "\"\"\"\n",
    "DON'T MODIFY ANYTHING IN THIS CELL THAT IS BELOW THIS LINE\n",
    "\"\"\"\n",
    "tests.test_one_hot_encode(one_hot_encode)"
   ]
  },
  {
   "cell_type": "markdown",
   "metadata": {},
   "source": [
    "### Randomize Data\n",
    "As you saw from exploring the data above, the order of the samples are randomized.  It doesn't hurt to randomize it again, but you don't need to for this dataset."
   ]
  },
  {
   "cell_type": "markdown",
   "metadata": {},
   "source": [
    "## Preprocess all the data and save it\n",
    "Running the code cell below will preprocess all the CIFAR-10 data and save it to file. The code below also uses 10% of the training data for validation."
   ]
  },
  {
   "cell_type": "code",
   "execution_count": 5,
   "metadata": {
    "collapsed": false
   },
   "outputs": [],
   "source": [
    "\"\"\"\n",
    "DON'T MODIFY ANYTHING IN THIS CELL\n",
    "\"\"\"\n",
    "# Preprocess Training, Validation, and Testing Data\n",
    "helper.preprocess_and_save_data(cifar10_dataset_folder_path, normalize, one_hot_encode)"
   ]
  },
  {
   "cell_type": "markdown",
   "metadata": {},
   "source": [
    "# Check Point\n",
    "This is your first checkpoint.  If you ever decide to come back to this notebook or have to restart the notebook, you can start from here.  The preprocessed data has been saved to disk."
   ]
  },
  {
   "cell_type": "code",
   "execution_count": 6,
   "metadata": {
    "collapsed": true
   },
   "outputs": [],
   "source": [
    "\"\"\"\n",
    "DON'T MODIFY ANYTHING IN THIS CELL\n",
    "\"\"\"\n",
    "import pickle\n",
    "import problem_unittests as tests\n",
    "import helper\n",
    "\n",
    "# Load the Preprocessed Validation data\n",
    "valid_features, valid_labels = pickle.load(open('preprocess_validation.p', mode='rb'))"
   ]
  },
  {
   "cell_type": "markdown",
   "metadata": {},
   "source": [
    "## Build the network\n",
    "For the neural network, you'll build each layer into a function.  Most of the code you've seen has been outside of functions. To test your code more thoroughly, we require that you put each layer in a function.  This allows us to give you better feedback and test for simple mistakes using our unittests before you submit your project.\n",
    "\n",
    ">**Note:** If you're finding it hard to dedicate enough time for this course each week, we've provided a small shortcut to this part of the project. In the next couple of problems, you'll have the option to use classes from the [TensorFlow Layers](https://www.tensorflow.org/api_docs/python/tf/layers) or [TensorFlow Layers (contrib)](https://www.tensorflow.org/api_guides/python/contrib.layers) packages to build each layer, except the layers you build in the \"Convolutional and Max Pooling Layer\" section.  TF Layers is similar to Keras's and TFLearn's abstraction to layers, so it's easy to pickup.\n",
    "\n",
    ">However, if you would like to get the most out of this course, try to solve all the problems _without_ using anything from the TF Layers packages. You **can** still use classes from other packages that happen to have the same name as ones you find in TF Layers! For example, instead of using the TF Layers version of the `conv2d` class, [tf.layers.conv2d](https://www.tensorflow.org/api_docs/python/tf/layers/conv2d), you would want to use the TF Neural Network version of `conv2d`, [tf.nn.conv2d](https://www.tensorflow.org/api_docs/python/tf/nn/conv2d). \n",
    "\n",
    "Let's begin!\n",
    "\n",
    "### Input\n",
    "The neural network needs to read the image data, one-hot encoded labels, and dropout keep probability. Implement the following functions\n",
    "* Implement `neural_net_image_input`\n",
    " * Return a [TF Placeholder](https://www.tensorflow.org/api_docs/python/tf/placeholder)\n",
    " * Set the shape using `image_shape` with batch size set to `None`.\n",
    " * Name the TensorFlow placeholder \"x\" using the TensorFlow `name` parameter in the [TF Placeholder](https://www.tensorflow.org/api_docs/python/tf/placeholder).\n",
    "* Implement `neural_net_label_input`\n",
    " * Return a [TF Placeholder](https://www.tensorflow.org/api_docs/python/tf/placeholder)\n",
    " * Set the shape using `n_classes` with batch size set to `None`.\n",
    " * Name the TensorFlow placeholder \"y\" using the TensorFlow `name` parameter in the [TF Placeholder](https://www.tensorflow.org/api_docs/python/tf/placeholder).\n",
    "* Implement `neural_net_keep_prob_input`\n",
    " * Return a [TF Placeholder](https://www.tensorflow.org/api_docs/python/tf/placeholder) for dropout keep probability.\n",
    " * Name the TensorFlow placeholder \"keep_prob\" using the TensorFlow `name` parameter in the [TF Placeholder](https://www.tensorflow.org/api_docs/python/tf/placeholder).\n",
    "\n",
    "These names will be used at the end of the project to load your saved model.\n",
    "\n",
    "Note: `None` for shapes in TensorFlow allow for a dynamic size."
   ]
  },
  {
   "cell_type": "code",
   "execution_count": 7,
   "metadata": {
    "collapsed": false
   },
   "outputs": [
    {
     "name": "stdout",
     "output_type": "stream",
     "text": [
      "Image Input Tests Passed.\n",
      "Label Input Tests Passed.\n",
      "Keep Prob Tests Passed.\n"
     ]
    }
   ],
   "source": [
    "import tensorflow as tf\n",
    "\n",
    "global std_dev\n",
    "std_dev = 0.05\n",
    "\n",
    "def neural_net_image_input(image_shape):\n",
    "    \"\"\"\n",
    "    Return a Tensor for a bach of image input\n",
    "    : image_shape: Shape of the images\n",
    "    : return: Tensor for image input.\n",
    "    \"\"\"\n",
    "    # TODO: Implement Function\n",
    "    return tf.placeholder(tf.float32,\n",
    "        shape=(None, image_shape[0], image_shape[1], image_shape[2]), name='x')\n",
    "\n",
    "\n",
    "def neural_net_label_input(n_classes):\n",
    "    \"\"\"\n",
    "    Return a Tensor for a batch of label input\n",
    "    : n_classes: Number of classes\n",
    "    : return: Tensor for label input.\n",
    "    \"\"\"\n",
    "    # TODO: Implement Function\n",
    "    return tf.placeholder(tf.float32,\n",
    "        shape=(None,n_classes), name='y')\n",
    "\n",
    "\n",
    "def neural_net_keep_prob_input():\n",
    "    \"\"\"\n",
    "    Return a Tensor for keep probability\n",
    "    : return: Tensor for keep probability.\n",
    "    \"\"\"\n",
    "    # TODO: Implement Function\n",
    "    return tf.placeholder(tf.float32, name='keep_prob')\n",
    "\n",
    "\n",
    "\"\"\"\n",
    "DON'T MODIFY ANYTHING IN THIS CELL THAT IS BELOW THIS LINE\n",
    "\"\"\"\n",
    "tf.reset_default_graph()\n",
    "tests.test_nn_image_inputs(neural_net_image_input)\n",
    "tests.test_nn_label_inputs(neural_net_label_input)\n",
    "tests.test_nn_keep_prob_inputs(neural_net_keep_prob_input)"
   ]
  },
  {
   "cell_type": "markdown",
   "metadata": {},
   "source": [
    "### Convolution and Max Pooling Layer\n",
    "Convolution layers have a lot of success with images. For this code cell, you should implement the function `conv2d_maxpool` to apply convolution then max pooling:\n",
    "* Create the weight and bias using `conv_ksize`, `conv_num_outputs` and the shape of `x_tensor`.\n",
    "* Apply a convolution to `x_tensor` using weight and `conv_strides`.\n",
    " * We recommend you use same padding, but you're welcome to use any padding.\n",
    "* Add bias\n",
    "* Add a nonlinear activation to the convolution.\n",
    "* Apply Max Pooling using `pool_ksize` and `pool_strides`.\n",
    " * We recommend you use same padding, but you're welcome to use any padding.\n",
    "\n",
    "**Note:** You **can't** use [TensorFlow Layers](https://www.tensorflow.org/api_docs/python/tf/layers) or [TensorFlow Layers (contrib)](https://www.tensorflow.org/api_guides/python/contrib.layers) for **this** layer, but you can still use TensorFlow's [Neural Network](https://www.tensorflow.org/api_docs/python/tf/nn) package. You may still use the shortcut option for all the **other** layers."
   ]
  },
  {
   "cell_type": "code",
   "execution_count": 8,
   "metadata": {
    "collapsed": false
   },
   "outputs": [
    {
     "name": "stdout",
     "output_type": "stream",
     "text": [
      " 32x32 -> 8.5x8.5 -> 4.25x4.25 - ret_shape =  [None, 4, 4, 10]\n",
      "Tests Passed\n"
     ]
    }
   ],
   "source": [
    "def conv2d_maxpool(x_tensor, conv_num_outputs, conv_ksize, conv_strides, pool_ksize, pool_strides):\n",
    "    \"\"\"\n",
    "    Apply convolution then max pooling to x_tensor\n",
    "    :param x_tensor: TensorFlow Tensor\n",
    "    :param conv_num_outputs: Number of outputs for the convolutional layer\n",
    "    :param conv_ksize: kernal size 2-D Tuple for the convolutional layer\n",
    "    :param conv_strides: Stride 2-D Tuple for convolution\n",
    "    :param pool_ksize: kernal size 2-D Tuple for pool\n",
    "    :param pool_strides: Stride 2-D Tuple for pool\n",
    "    : return: A tensor that represents convolution and max pooling of x_tensor\n",
    "    \"\"\"\n",
    "    # TODO: Implement Function\n",
    "    tensor_shape = x_tensor.get_shape().as_list()\n",
    "    tensor_depth = tensor_shape[3]\n",
    "    weights_shape = [\n",
    "        conv_ksize[0], conv_ksize[1], \n",
    "        tensor_depth, conv_num_outputs]\n",
    "    #print (\"weights_shape = \", weights_shape)\n",
    "    x=(tensor_shape[1]-conv_ksize[0])/(conv_strides[0])+1\n",
    "    y=(tensor_shape[2]-conv_ksize[1])/(conv_strides[1])+1\n",
    "    xm=(x-pool_ksize[0])/(pool_strides[0])+1\n",
    "    ym=(y-pool_ksize[1])/(pool_strides[1])+1\n",
    "    print (\" {0}x{1} -> {2}x{3} -> {4}x{5}\".format(\n",
    "        tensor_shape[1], tensor_shape[2],\n",
    "        x,y,\n",
    "        xm,ym),\n",
    "        end=\" - \")\n",
    "    \n",
    "    weights = tf.Variable(tf.random_normal( weights_shape, stddev=std_dev, seed=42))\n",
    "    bias = tf.Variable(tf.random_normal([conv_num_outputs], stddev=std_dev, seed=42))\n",
    "    ret = tf.nn.conv2d(x_tensor, weights, \n",
    "        strides=[1, conv_strides[0], conv_strides[1], 1],\n",
    "        padding='VALID')\n",
    "    ret = tf.nn.bias_add(ret,bias)\n",
    "    ret = tf.nn.relu(ret)\n",
    "    ret = tf.nn.max_pool(ret, ksize=[1, pool_ksize[0], pool_ksize[1], 1], \n",
    "                        strides=[1, pool_strides[0], pool_strides[1], 1],\n",
    "                        padding='VALID')\n",
    "    print (\"ret_shape = \", ret.get_shape().as_list())\n",
    "    return ret \n",
    "\n",
    "\n",
    "\"\"\"\n",
    "DON'T MODIFY ANYTHING IN THIS CELL THAT IS BELOW THIS LINE\n",
    "\"\"\"\n",
    "tests.test_con_pool(conv2d_maxpool)"
   ]
  },
  {
   "cell_type": "markdown",
   "metadata": {},
   "source": [
    "### Flatten Layer\n",
    "Implement the `flatten` function to change the dimension of `x_tensor` from a 4-D tensor to a 2-D tensor.  The output should be the shape (*Batch Size*, *Flattened Image Size*). Shortcut option: you can use classes from the [TensorFlow Layers](https://www.tensorflow.org/api_docs/python/tf/layers) or [TensorFlow Layers (contrib)](https://www.tensorflow.org/api_guides/python/contrib.layers) packages for this layer. For more of a challenge, only use other TensorFlow packages."
   ]
  },
  {
   "cell_type": "code",
   "execution_count": 9,
   "metadata": {
    "collapsed": false
   },
   "outputs": [
    {
     "name": "stdout",
     "output_type": "stream",
     "text": [
      "flattening shape [None, 10, 30, 6] -> 1800 inputs\n",
      "Tests Passed\n"
     ]
    }
   ],
   "source": [
    "def flatten(x_tensor):\n",
    "    \"\"\"\n",
    "    Flatten x_tensor to (Batch Size, Flattened Image Size)\n",
    "    : x_tensor: A tensor of size (Batch Size, ...), where ... are the image dimensions.\n",
    "    : return: A tensor of size (Batch Size, Flattened Image Size).\n",
    "    \"\"\"\n",
    "    # TODO: Implement Function\n",
    "    shape = x_tensor.get_shape().as_list()\n",
    "    count = np.product(shape[1:])\n",
    "    print (\"flattening shape {} -> {} inputs\".format(shape, count))\n",
    "    return tf.reshape(x_tensor, [-1, count])\n",
    "\n",
    "\n",
    "\"\"\"\n",
    "DON'T MODIFY ANYTHING IN THIS CELL THAT IS BELOW THIS LINE\n",
    "\"\"\"\n",
    "tests.test_flatten(flatten)"
   ]
  },
  {
   "cell_type": "markdown",
   "metadata": {},
   "source": [
    "### Fully-Connected Layer\n",
    "Implement the `fully_conn` function to apply a fully connected layer to `x_tensor` with the shape (*Batch Size*, *num_outputs*). Shortcut option: you can use classes from the [TensorFlow Layers](https://www.tensorflow.org/api_docs/python/tf/layers) or [TensorFlow Layers (contrib)](https://www.tensorflow.org/api_guides/python/contrib.layers) packages for this layer. For more of a challenge, only use other TensorFlow packages."
   ]
  },
  {
   "cell_type": "code",
   "execution_count": 10,
   "metadata": {
    "collapsed": false
   },
   "outputs": [
    {
     "name": "stdout",
     "output_type": "stream",
     "text": [
      "Tests Passed\n"
     ]
    }
   ],
   "source": [
    "def fully_conn(x_tensor, num_outputs):\n",
    "    \"\"\"\n",
    "    Apply a fully connected layer to x_tensor using weight and bias\n",
    "    : x_tensor: A 2-D tensor where the first dimension is batch size.\n",
    "    : num_outputs: The number of output that the new tensor should be.\n",
    "    : return: A 2-D tensor where the second dimension is num_outputs.\n",
    "    \"\"\"\n",
    "    # TODO: Implement Function\n",
    "    s = x_tensor.get_shape()[1].value    \n",
    "    w = tf.Variable(tf.random_normal([s,num_outputs], stddev=std_dev, seed=42))\n",
    "    b = tf.Variable(tf.random_normal([num_outputs], stddev=std_dev, seed=42))\n",
    "    return tf.nn.relu(tf.add(tf.matmul(x_tensor, w),b))\n",
    "\n",
    "\n",
    "\"\"\"\n",
    "DON'T MODIFY ANYTHING IN THIS CELL THAT IS BELOW THIS LINE\n",
    "\"\"\"\n",
    "tests.test_fully_conn(fully_conn)"
   ]
  },
  {
   "cell_type": "markdown",
   "metadata": {},
   "source": [
    "### Output Layer\n",
    "Implement the `output` function to apply a fully connected layer to `x_tensor` with the shape (*Batch Size*, *num_outputs*). Shortcut option: you can use classes from the [TensorFlow Layers](https://www.tensorflow.org/api_docs/python/tf/layers) or [TensorFlow Layers (contrib)](https://www.tensorflow.org/api_guides/python/contrib.layers) packages for this layer. For more of a challenge, only use other TensorFlow packages.\n",
    "\n",
    "**Note:** Activation, softmax, or cross entropy should **not** be applied to this."
   ]
  },
  {
   "cell_type": "code",
   "execution_count": 11,
   "metadata": {
    "collapsed": false
   },
   "outputs": [
    {
     "name": "stdout",
     "output_type": "stream",
     "text": [
      "Tests Passed\n"
     ]
    }
   ],
   "source": [
    "def output(x_tensor, num_outputs):\n",
    "    \"\"\"\n",
    "    Apply a output layer to x_tensor using weight and bias\n",
    "    : x_tensor: A 2-D tensor where the first dimension is batch size.\n",
    "    : num_outputs: The number of output that the new tensor should be.\n",
    "    : return: A 2-D tensor where the second dimension is num_outputs.\n",
    "    \"\"\"\n",
    "    # TODO: Implement Function\n",
    "    s = x_tensor.get_shape()[1].value    \n",
    "    w = tf.Variable(tf.random_normal([s,num_outputs], stddev=std_dev, seed=42))\n",
    "    b = tf.Variable(tf.random_normal([num_outputs], stddev=std_dev, seed=42))\n",
    "    out = tf.add(tf.matmul(x_tensor, w),b)\n",
    "    #out = tf.nn.softmax(out)   \n",
    "    return out\n",
    "\n",
    "\n",
    "\"\"\"\n",
    "DON'T MODIFY ANYTHING IN THIS CELL THAT IS BELOW THIS LINE\n",
    "\"\"\"\n",
    "tests.test_output(output)"
   ]
  },
  {
   "cell_type": "markdown",
   "metadata": {},
   "source": [
    "### Create Convolutional Model\n",
    "Implement the function `conv_net` to create a convolutional neural network model. The function takes in a batch of images, `x`, and outputs logits.  Use the layers you created above to create this model:\n",
    "\n",
    "* Apply 1, 2, or 3 Convolution and Max Pool layers\n",
    "* Apply a Flatten Layer\n",
    "* Apply 1, 2, or 3 Fully Connected Layers\n",
    "* Apply an Output Layer\n",
    "* Return the output\n",
    "* Apply [TensorFlow's Dropout](https://www.tensorflow.org/api_docs/python/tf/nn/dropout) to one or more layers in the model using `keep_prob`. "
   ]
  },
  {
   "cell_type": "code",
   "execution_count": 12,
   "metadata": {
    "collapsed": false
   },
   "outputs": [
    {
     "name": "stdout",
     "output_type": "stream",
     "text": [
      "logits x rgb shape [None, 32, 32, 3]\n",
      "logits x bw  shape [None, 32, 32, 1]\n",
      " 32x32 -> 29.0x29.0 -> 14.0x14.0 - ret_shape =  [None, 14, 14, 24]\n",
      " 14x14 -> 11.0x11.0 -> 5.0x5.0 - ret_shape =  [None, 5, 5, 48]\n",
      " 32x32 -> 29.0x29.0 -> 14.0x14.0 - ret_shape =  [None, 14, 14, 24]\n",
      " 14x14 -> 11.0x11.0 -> 5.0x5.0 - ret_shape =  [None, 5, 5, 48]\n",
      "flattening shape [None, 5, 5, 96] -> 2400 inputs\n",
      "logits x rgb shape [None, 32, 32, 3]\n",
      "logits x bw  shape [None, 32, 32, 1]\n",
      " 32x32 -> 29.0x29.0 -> 14.0x14.0 - ret_shape =  [None, 14, 14, 24]\n",
      " 14x14 -> 11.0x11.0 -> 5.0x5.0 - ret_shape =  [None, 5, 5, 48]\n",
      " 32x32 -> 29.0x29.0 -> 14.0x14.0 - ret_shape =  [None, 14, 14, 24]\n",
      " 14x14 -> 11.0x11.0 -> 5.0x5.0 - ret_shape =  [None, 5, 5, 48]\n",
      "flattening shape [None, 5, 5, 96] -> 2400 inputs\n",
      "Neural Network Built!\n"
     ]
    }
   ],
   "source": [
    "def conv_net(x, keep_prob):\n",
    "    \"\"\"\n",
    "    Create a convolutional neural network model\n",
    "    : x: Placeholder tensor that holds image data.\n",
    "    : keep_prob: Placeholder tensor that hold dropout keep probability.\n",
    "    : return: Tensor that represents logits\n",
    "    \"\"\"\n",
    "    # TODO: Apply 1, 2, or 3 Convolution and Max Pool layers\n",
    "    #    Play around with different number of outputs, kernel size and stride\n",
    "    # Function Definition from Above:\n",
    "    #    conv2d_maxpool(x_tensor, conv_num_outputs, conv_ksize, conv_strides, pool_ksize, pool_strides)\n",
    "    filters = 24\n",
    "    x1 = tf.multiply(x,tf.constant([0.3,0.6,0.1]))\n",
    "    x1 =  tf.reduce_sum(x1,3, keep_dims = True )\n",
    "    print (\"logits x rgb shape\", x.get_shape().as_list())\n",
    "    print (\"logits x bw  shape\", x1.get_shape().as_list())\n",
    "    \n",
    "    \n",
    "    logits0 = conv2d_maxpool(x,         filters, (4,4), (1,1), (3,3), (2,2))\n",
    "    #logits0 = conv2d_maxpool(logits0,   filters, (3,3), (1,1), (2,2), (2,2))\n",
    "    logits0 = conv2d_maxpool(logits0, 2*filters, (4,4), (1,1), (3,3), (2,2))\n",
    "    \n",
    "    logits1 = conv2d_maxpool(x1,        filters, (4,4), (1,1), (3,3), (2,2))\n",
    "    #logits1 = conv2d_maxpool(logits1,   filters, (3,3), (1,1), (2,2), (2,2))\n",
    "    logits1 = conv2d_maxpool(logits1, 2*filters, (4,4), (1,1), (3,3), (2,2))\n",
    "        \n",
    "    logits = tf.concat_v2([logits0, logits1], 3)\n",
    "    \n",
    "    logits_shape = logits.get_shape().as_list()    \n",
    "    \n",
    "    # TODO: Apply a Flatten Layer\n",
    "    # Function Definition from Above:\n",
    "    #   flatten(x_tensor)\n",
    "    #logits = tf.nn.dropout(logits, keep_prob, noise_shape = [ 1, 1, 1, logits_shape[3]], seed = 42.0)\n",
    "    logits = tf.nn.dropout(logits, keep_prob, noise_shape = [ 1, logits_shape[1], logits_shape[2], 1], seed = 42.0)\n",
    "    logits = flatten(logits)\n",
    "    #logits = tf.nn.relu(logits)\n",
    "\n",
    "    # TODO: Apply 1, 2, or 3 Fully Connected Layers\n",
    "    #    Play around with different number of outputs\n",
    "    # Function Definition from Above:\n",
    "    #   fully_conn(x_tensor, num_outputs)\n",
    "    #logits = fully_conn(logits, int(0.35 * filters))\n",
    "    logits = fully_conn(logits, int(0.4* logits.get_shape()[1].value))\n",
    "    logits = tf.nn.dropout(logits, keep_prob, seed = 42.0)\n",
    "    logits = fully_conn(logits, int(0.4* logits.get_shape()[1].value))\n",
    "    \n",
    "    # TODO: Apply an Output Layer\n",
    "    #    Set this to the number of classes\n",
    "    # Function Definition from Above:\n",
    "    #   output(x_tensor, num_outputs)\n",
    "    logits = output(logits, 10)\n",
    "    \n",
    "    # TODO: return output\n",
    "    return logits\n",
    "\n",
    "\n",
    "\"\"\"\n",
    "DON'T MODIFY ANYTHING IN THIS CELL THAT IS BELOW THIS LINE\n",
    "\"\"\"\n",
    "\n",
    "##############################\n",
    "## Build the Neural Network ##\n",
    "##############################\n",
    "\n",
    "# Remove previous weights, bias, inputs, etc..\n",
    "tf.reset_default_graph()\n",
    "\n",
    "# Inputs\n",
    "x = neural_net_image_input((32, 32, 3))\n",
    "y = neural_net_label_input(10)\n",
    "keep_prob = neural_net_keep_prob_input()\n",
    "\n",
    "# Model\n",
    "logits = conv_net(x, keep_prob)\n",
    "\n",
    "# Name logits Tensor, so that is can be loaded from disk after training\n",
    "logits = tf.identity(logits, name='logits')\n",
    "\n",
    "# Loss and Optimizer\n",
    "cost = tf.reduce_mean(tf.nn.softmax_cross_entropy_with_logits(logits=logits, labels=y))\n",
    "optimizer = tf.train.AdamOptimizer().minimize(cost)\n",
    "\n",
    "# Accuracy\n",
    "correct_pred = tf.equal(tf.argmax(logits, 1), tf.argmax(y, 1))\n",
    "accuracy = tf.reduce_mean(tf.cast(correct_pred, tf.float32), name='accuracy')\n",
    "\n",
    "tests.test_conv_net(conv_net)"
   ]
  },
  {
   "cell_type": "markdown",
   "metadata": {},
   "source": [
    "## Train the Neural Network\n",
    "### Single Optimization\n",
    "Implement the function `train_neural_network` to do a single optimization.  The optimization should use `optimizer` to optimize in `session` with a `feed_dict` of the following:\n",
    "* `x` for image input\n",
    "* `y` for labels\n",
    "* `keep_prob` for keep probability for dropout\n",
    "\n",
    "This function will be called for each batch, so `tf.global_variables_initializer()` has already been called.\n",
    "\n",
    "Note: Nothing needs to be returned. This function is only optimizing the neural network."
   ]
  },
  {
   "cell_type": "code",
   "execution_count": 13,
   "metadata": {
    "collapsed": false
   },
   "outputs": [
    {
     "name": "stdout",
     "output_type": "stream",
     "text": [
      "Tests Passed\n"
     ]
    }
   ],
   "source": [
    "def train_neural_network(session, optimizer, keep_probability, feature_batch, label_batch):\n",
    "    \"\"\"\n",
    "    Optimize the session on a batch of images and labels\n",
    "    : session: Current TensorFlow session\n",
    "    : optimizer: TensorFlow optimizer function\n",
    "    : keep_probability: keep probability\n",
    "    : feature_batch: Batch of Numpy image data\n",
    "    : label_batch: Batch of Numpy label data\n",
    "    \"\"\"\n",
    "    # TODO: Implement Function\n",
    "    \n",
    "    session.run(optimizer, feed_dict = {\n",
    "        keep_prob:keep_probability,\n",
    "        x:feature_batch,\n",
    "        y:label_batch\n",
    "    })\n",
    "    pass\n",
    "\n",
    "\n",
    "\"\"\"\n",
    "DON'T MODIFY ANYTHING IN THIS CELL THAT IS BELOW THIS LINE\n",
    "\"\"\"\n",
    "tests.test_train_nn(train_neural_network)"
   ]
  },
  {
   "cell_type": "markdown",
   "metadata": {},
   "source": [
    "### Show Stats\n",
    "Implement the function `print_stats` to print loss and validation accuracy.  Use the global variables `valid_features` and `valid_labels` to calculate validation accuracy.  Use a keep probability of `1.0` to calculate the loss and validation accuracy."
   ]
  },
  {
   "cell_type": "code",
   "execution_count": 14,
   "metadata": {
    "collapsed": false
   },
   "outputs": [],
   "source": [
    "def print_stats(session, feature_batch, label_batch, cost, accuracy):\n",
    "    \"\"\"\n",
    "    Print information about loss and validation accuracy\n",
    "    : session: Current TensorFlow session\n",
    "    : feature_batch: Batch of Numpy image data\n",
    "    : label_batch: Batch of Numpy label data\n",
    "    : cost: TensorFlow cost function\n",
    "    : accuracy: TensorFlow accuracy function\n",
    "    \"\"\"\n",
    "    # TODO: Implement Function\n",
    "    loss = sess.run(cost, feed_dict = {\n",
    "        keep_prob: 1.0,\n",
    "        x:feature_batch,\n",
    "        y:label_batch\n",
    "    })\n",
    "    accuracy = sess.run(accuracy, feed_dict = {\n",
    "        keep_prob: 1.0,\n",
    "        x:valid_features,\n",
    "        y:valid_labels\n",
    "    })\n",
    "    \n",
    "    print (\"stats: loss {: >5.8f}, accuracy {:1.8f}     \\r\".format(loss, accuracy))\n",
    "    pass"
   ]
  },
  {
   "cell_type": "markdown",
   "metadata": {},
   "source": [
    "### Hyperparameters\n",
    "Tune the following parameters:\n",
    "* Set `epochs` to the number of iterations until the network stops learning or start overfitting\n",
    "* Set `batch_size` to the highest number that your machine has memory for.  Most people set them to common sizes of memory:\n",
    " * 64\n",
    " * 128\n",
    " * 256\n",
    " * ...\n",
    "* Set `keep_probability` to the probability of keeping a node using dropout"
   ]
  },
  {
   "cell_type": "code",
   "execution_count": 15,
   "metadata": {
    "collapsed": true
   },
   "outputs": [],
   "source": [
    "# TODO: Tune Parameters\n",
    "epochs = 25\n",
    "batch_size = 512\n",
    "keep_probability = 0.7"
   ]
  },
  {
   "cell_type": "markdown",
   "metadata": {},
   "source": [
    "### Train on a Single CIFAR-10 Batch\n",
    "Instead of training the neural network on all the CIFAR-10 batches of data, let's use a single batch. This should save time while you iterate on the model to get a better accuracy.  Once the final validation accuracy is 50% or greater, run the model on all the data in the next section."
   ]
  },
  {
   "cell_type": "code",
   "execution_count": 16,
   "metadata": {
    "collapsed": false,
    "scrolled": false
   },
   "outputs": [
    {
     "name": "stdout",
     "output_type": "stream",
     "text": [
      "Checking the Training on a Single Batch...\n",
      "Epoch  1, CIFAR-10 Batch 1:  stats: loss 2.09426045, accuracy 0.26320001     \n",
      "Epoch  2, CIFAR-10 Batch 1:  stats: loss 1.94108784, accuracy 0.33000001     \n",
      "Epoch  3, CIFAR-10 Batch 1:  stats: loss 1.82835138, accuracy 0.39760000     \n",
      "Epoch  4, CIFAR-10 Batch 1:  stats: loss 1.69274127, accuracy 0.42480001     \n",
      "Epoch  5, CIFAR-10 Batch 1:  stats: loss 1.70277262, accuracy 0.42179999     \n",
      "Epoch  6, CIFAR-10 Batch 1:  stats: loss 1.57407749, accuracy 0.47639999     \n",
      "Epoch  7, CIFAR-10 Batch 1:  stats: loss 1.48107111, accuracy 0.46439999     \n",
      "Epoch  8, CIFAR-10 Batch 1:  stats: loss 1.39681637, accuracy 0.49140000     \n",
      "Epoch  9, CIFAR-10 Batch 1:  stats: loss 1.50377011, accuracy 0.43840000     \n",
      "Epoch 10, CIFAR-10 Batch 1:  stats: loss 1.30319428, accuracy 0.50540000     \n",
      "Epoch 11, CIFAR-10 Batch 1:  stats: loss 1.28367269, accuracy 0.50019997     \n",
      "Epoch 12, CIFAR-10 Batch 1:  stats: loss 1.22149086, accuracy 0.51800001     \n",
      "Epoch 13, CIFAR-10 Batch 1:  stats: loss 1.12875760, accuracy 0.53079998     \n",
      "Epoch 14, CIFAR-10 Batch 1:  stats: loss 1.02425134, accuracy 0.55100000     \n",
      "Epoch 15, CIFAR-10 Batch 1:  stats: loss 0.98598850, accuracy 0.57099998     \n",
      "Epoch 16, CIFAR-10 Batch 1:  stats: loss 0.92765200, accuracy 0.55500001     \n",
      "Epoch 17, CIFAR-10 Batch 1:  stats: loss 0.86257595, accuracy 0.57260001     \n",
      "Epoch 18, CIFAR-10 Batch 1:  stats: loss 0.90609699, accuracy 0.54759997     \n",
      "Epoch 19, CIFAR-10 Batch 1:  stats: loss 0.83368301, accuracy 0.57679999     \n",
      "Epoch 20, CIFAR-10 Batch 1:  stats: loss 0.70952010, accuracy 0.59560001     \n",
      "Epoch 21, CIFAR-10 Batch 1:  stats: loss 0.71976978, accuracy 0.58020002     \n",
      "Epoch 22, CIFAR-10 Batch 1:  stats: loss 0.64568961, accuracy 0.60280001     \n",
      "Epoch 23, CIFAR-10 Batch 1:  stats: loss 0.66257030, accuracy 0.57620001     \n",
      "Epoch 24, CIFAR-10 Batch 1:  stats: loss 0.56058961, accuracy 0.58539999     \n",
      "Epoch 25, CIFAR-10 Batch 1:  stats: loss 0.49698490, accuracy 0.60500002     \n"
     ]
    }
   ],
   "source": [
    "\"\"\"\n",
    "DON'T MODIFY ANYTHING IN THIS CELL\n",
    "\"\"\"\n",
    "print('Checking the Training on a Single Batch...')\n",
    "with tf.Session() as sess:\n",
    "    # Initializing the variables\n",
    "    sess.run(tf.global_variables_initializer())\n",
    "    \n",
    "    # Training cycle\n",
    "    for epoch in range(epochs):\n",
    "        batch_i = 1\n",
    "        for batch_features, batch_labels in helper.load_preprocess_training_batch(batch_i, batch_size):\n",
    "            train_neural_network(sess, optimizer, keep_probability, batch_features, batch_labels)\n",
    "        print('Epoch {:>2}, CIFAR-10 Batch {}:  '.format(epoch + 1, batch_i), end='')\n",
    "        print_stats(sess, batch_features, batch_labels, cost, accuracy)"
   ]
  },
  {
   "cell_type": "markdown",
   "metadata": {},
   "source": [
    "### Fully Train the Model\n",
    "Now that you got a good accuracy with a single CIFAR-10 batch, try it with all five batches."
   ]
  },
  {
   "cell_type": "code",
   "execution_count": 17,
   "metadata": {
    "collapsed": false
   },
   "outputs": [
    {
     "name": "stdout",
     "output_type": "stream",
     "text": [
      "Training...\n",
      "Epoch  1, CIFAR-10 Batch 1:  stats: loss 2.09426045, accuracy 0.26320001     \n",
      "Epoch  1, CIFAR-10 Batch 2:  stats: loss 1.81495547, accuracy 0.33100000     \n",
      "Epoch  1, CIFAR-10 Batch 3:  stats: loss 1.58109653, accuracy 0.36640000     \n",
      "Epoch  1, CIFAR-10 Batch 4:  stats: loss 1.56007457, accuracy 0.42480001     \n",
      "Epoch  1, CIFAR-10 Batch 5:  stats: loss 1.53262138, accuracy 0.42879999     \n",
      "Epoch  2, CIFAR-10 Batch 1:  stats: loss 1.57195818, accuracy 0.46500000     \n",
      "Epoch  2, CIFAR-10 Batch 2:  stats: loss 1.52064168, accuracy 0.45960000     \n",
      "Epoch  2, CIFAR-10 Batch 3:  stats: loss 1.26743281, accuracy 0.48820001     \n",
      "Epoch  2, CIFAR-10 Batch 4:  stats: loss 1.32633924, accuracy 0.49599999     \n",
      "Epoch  2, CIFAR-10 Batch 5:  stats: loss 1.35097992, accuracy 0.51059997     \n",
      "Epoch  3, CIFAR-10 Batch 1:  stats: loss 1.34922397, accuracy 0.53740001     \n",
      "Epoch  3, CIFAR-10 Batch 2:  stats: loss 1.34610856, accuracy 0.50279999     \n",
      "Epoch  3, CIFAR-10 Batch 3:  stats: loss 1.14454091, accuracy 0.52539998     \n",
      "Epoch  3, CIFAR-10 Batch 4:  stats: loss 1.14005470, accuracy 0.55919999     \n",
      "Epoch  3, CIFAR-10 Batch 5:  stats: loss 1.08754492, accuracy 0.58260000     \n",
      "Epoch  4, CIFAR-10 Batch 1:  stats: loss 1.19805956, accuracy 0.58080000     \n",
      "Epoch  4, CIFAR-10 Batch 2:  stats: loss 1.16206861, accuracy 0.54879999     \n",
      "Epoch  4, CIFAR-10 Batch 3:  stats: loss 1.03833187, accuracy 0.56320000     \n",
      "Epoch  4, CIFAR-10 Batch 4:  stats: loss 1.00878227, accuracy 0.60680002     \n",
      "Epoch  4, CIFAR-10 Batch 5:  stats: loss 1.02884591, accuracy 0.57999998     \n",
      "Epoch  5, CIFAR-10 Batch 1:  stats: loss 1.16907167, accuracy 0.55540001     \n",
      "Epoch  5, CIFAR-10 Batch 2:  stats: loss 1.08793926, accuracy 0.58639997     \n",
      "Epoch  5, CIFAR-10 Batch 3:  stats: loss 0.96605951, accuracy 0.58520001     \n",
      "Epoch  5, CIFAR-10 Batch 4:  stats: loss 0.98345041, accuracy 0.59859997     \n",
      "Epoch  5, CIFAR-10 Batch 5:  stats: loss 0.91179216, accuracy 0.61680001     \n",
      "Epoch  6, CIFAR-10 Batch 1:  stats: loss 1.00970733, accuracy 0.60720003     \n",
      "Epoch  6, CIFAR-10 Batch 2:  stats: loss 1.00228131, accuracy 0.61659998     \n",
      "Epoch  6, CIFAR-10 Batch 3:  stats: loss 0.82063395, accuracy 0.63620001     \n",
      "Epoch  6, CIFAR-10 Batch 4:  stats: loss 0.86271018, accuracy 0.62180001     \n",
      "Epoch  6, CIFAR-10 Batch 5:  stats: loss 0.83218944, accuracy 0.64999998     \n",
      "Epoch  7, CIFAR-10 Batch 1:  stats: loss 0.89499837, accuracy 0.64920002     \n",
      "Epoch  7, CIFAR-10 Batch 2:  stats: loss 0.91537827, accuracy 0.64359999     \n",
      "Epoch  7, CIFAR-10 Batch 3:  stats: loss 0.75386053, accuracy 0.64679998     \n",
      "Epoch  7, CIFAR-10 Batch 4:  stats: loss 0.82031763, accuracy 0.63540000     \n",
      "Epoch  7, CIFAR-10 Batch 5:  stats: loss 0.85041147, accuracy 0.63919997     \n",
      "Epoch  8, CIFAR-10 Batch 1:  stats: loss 0.83340228, accuracy 0.65740001     \n",
      "Epoch  8, CIFAR-10 Batch 2:  stats: loss 0.79138637, accuracy 0.66560000     \n",
      "Epoch  8, CIFAR-10 Batch 3:  stats: loss 0.68937093, accuracy 0.67180002     \n",
      "Epoch  8, CIFAR-10 Batch 4:  stats: loss 0.65509367, accuracy 0.67619997     \n",
      "Epoch  8, CIFAR-10 Batch 5:  stats: loss 0.67919034, accuracy 0.67780000     \n",
      "Epoch  9, CIFAR-10 Batch 1:  stats: loss 0.73082012, accuracy 0.67439997     \n",
      "Epoch  9, CIFAR-10 Batch 2:  stats: loss 0.70512825, accuracy 0.68000001     \n",
      "Epoch  9, CIFAR-10 Batch 3:  stats: loss 0.65913445, accuracy 0.67739999     \n",
      "Epoch  9, CIFAR-10 Batch 4:  stats: loss 0.66109997, accuracy 0.67079997     \n",
      "Epoch  9, CIFAR-10 Batch 5:  stats: loss 0.67799658, accuracy 0.67040002     \n",
      "Epoch 10, CIFAR-10 Batch 1:  stats: loss 0.74269980, accuracy 0.65960002     \n",
      "Epoch 10, CIFAR-10 Batch 2:  stats: loss 0.67003614, accuracy 0.68580002     \n",
      "Epoch 10, CIFAR-10 Batch 3:  stats: loss 0.59813941, accuracy 0.68120003     \n",
      "Epoch 10, CIFAR-10 Batch 4:  stats: loss 0.60022706, accuracy 0.68559998     \n",
      "Epoch 10, CIFAR-10 Batch 5:  stats: loss 0.56640333, accuracy 0.68739998     \n",
      "Epoch 11, CIFAR-10 Batch 1:  stats: loss 0.59842587, accuracy 0.69779998     \n",
      "Epoch 11, CIFAR-10 Batch 2:  stats: loss 0.62279052, accuracy 0.69660002     \n",
      "Epoch 11, CIFAR-10 Batch 3:  stats: loss 0.54560500, accuracy 0.68860000     \n",
      "Epoch 11, CIFAR-10 Batch 4:  stats: loss 0.51247388, accuracy 0.70499998     \n",
      "Epoch 11, CIFAR-10 Batch 5:  stats: loss 0.50680983, accuracy 0.70080000     \n",
      "Epoch 12, CIFAR-10 Batch 1:  stats: loss 0.54097402, accuracy 0.70319998     \n",
      "Epoch 12, CIFAR-10 Batch 2:  stats: loss 0.61119515, accuracy 0.69499999     \n",
      "Epoch 12, CIFAR-10 Batch 3:  stats: loss 0.47261944, accuracy 0.70520002     \n",
      "Epoch 12, CIFAR-10 Batch 4:  stats: loss 0.47628599, accuracy 0.70800000     \n",
      "Epoch 12, CIFAR-10 Batch 5:  stats: loss 0.45727396, accuracy 0.70899999     \n",
      "Epoch 13, CIFAR-10 Batch 1:  stats: loss 0.48566961, accuracy 0.71039999     \n",
      "Epoch 13, CIFAR-10 Batch 2:  stats: loss 0.52510893, accuracy 0.70980000     \n",
      "Epoch 13, CIFAR-10 Batch 3:  stats: loss 0.46293804, accuracy 0.71060002     \n",
      "Epoch 13, CIFAR-10 Batch 4:  stats: loss 0.44911700, accuracy 0.71560001     \n",
      "Epoch 13, CIFAR-10 Batch 5:  stats: loss 0.39532012, accuracy 0.71640003     \n",
      "Epoch 14, CIFAR-10 Batch 1:  stats: loss 0.41268748, accuracy 0.72600001     \n",
      "Epoch 14, CIFAR-10 Batch 2:  stats: loss 0.42087427, accuracy 0.72700000     \n",
      "Epoch 14, CIFAR-10 Batch 3:  stats: loss 0.37634397, accuracy 0.72539997     \n",
      "Epoch 14, CIFAR-10 Batch 4:  stats: loss 0.39480004, accuracy 0.71259999     \n",
      "Epoch 14, CIFAR-10 Batch 5:  stats: loss 0.38448864, accuracy 0.72039998     \n",
      "Epoch 15, CIFAR-10 Batch 1:  stats: loss 0.39619178, accuracy 0.72420001     \n",
      "Epoch 15, CIFAR-10 Batch 2:  stats: loss 0.38793224, accuracy 0.71439999     \n",
      "Epoch 15, CIFAR-10 Batch 3:  stats: loss 0.34004506, accuracy 0.72700000     \n",
      "Epoch 15, CIFAR-10 Batch 4:  stats: loss 0.32614812, accuracy 0.72640002     \n",
      "Epoch 15, CIFAR-10 Batch 5:  stats: loss 0.36653951, accuracy 0.72659999     \n",
      "Epoch 16, CIFAR-10 Batch 1:  stats: loss 0.37573168, accuracy 0.72420001     \n",
      "Epoch 16, CIFAR-10 Batch 2:  stats: loss 0.35022551, accuracy 0.73640001     \n",
      "Epoch 16, CIFAR-10 Batch 3:  stats: loss 0.32875818, accuracy 0.72780001     \n",
      "Epoch 16, CIFAR-10 Batch 4:  stats: loss 0.28732914, accuracy 0.72899997     \n",
      "Epoch 16, CIFAR-10 Batch 5:  stats: loss 0.30068594, accuracy 0.72359997     \n",
      "Epoch 17, CIFAR-10 Batch 1:  stats: loss 0.33738062, accuracy 0.72079998     \n",
      "Epoch 17, CIFAR-10 Batch 2:  stats: loss 0.34241813, accuracy 0.72320002     \n",
      "Epoch 17, CIFAR-10 Batch 3:  stats: loss 0.28851447, accuracy 0.72100002     \n",
      "Epoch 17, CIFAR-10 Batch 4:  stats: loss 0.28543663, accuracy 0.72240001     \n",
      "Epoch 17, CIFAR-10 Batch 5:  stats: loss 0.25641888, accuracy 0.73900002     \n",
      "Epoch 18, CIFAR-10 Batch 1:  stats: loss 0.31161109, accuracy 0.73140001     \n",
      "Epoch 18, CIFAR-10 Batch 2:  stats: loss 0.27390108, accuracy 0.73920000     \n",
      "Epoch 18, CIFAR-10 Batch 3:  stats: loss 0.25911853, accuracy 0.72659999     \n",
      "Epoch 18, CIFAR-10 Batch 4:  stats: loss 0.28577000, accuracy 0.72939998     \n",
      "Epoch 18, CIFAR-10 Batch 5:  stats: loss 0.23150793, accuracy 0.74000001     \n",
      "Epoch 19, CIFAR-10 Batch 1:  stats: loss 0.26342317, accuracy 0.73420000     \n",
      "Epoch 19, CIFAR-10 Batch 2:  stats: loss 0.24162649, accuracy 0.74360001     \n",
      "Epoch 19, CIFAR-10 Batch 3:  stats: loss 0.24814871, accuracy 0.73439997     \n",
      "Epoch 19, CIFAR-10 Batch 4:  stats: loss 0.23658092, accuracy 0.73000002     \n",
      "Epoch 19, CIFAR-10 Batch 5:  stats: loss 0.20174302, accuracy 0.73979998     \n",
      "Epoch 20, CIFAR-10 Batch 1:  stats: loss 0.23688464, accuracy 0.74040002     \n",
      "Epoch 20, CIFAR-10 Batch 2:  stats: loss 0.20976909, accuracy 0.74680001     \n",
      "Epoch 20, CIFAR-10 Batch 3:  stats: loss 0.18349764, accuracy 0.73400003     \n",
      "Epoch 20, CIFAR-10 Batch 4:  stats: loss 0.20449479, accuracy 0.73299998     \n",
      "Epoch 20, CIFAR-10 Batch 5:  stats: loss 0.19471896, accuracy 0.73180002     \n",
      "Epoch 21, CIFAR-10 Batch 1:  stats: loss 0.23518758, accuracy 0.72880000     \n",
      "Epoch 21, CIFAR-10 Batch 2:  stats: loss 0.19449866, accuracy 0.73040003     \n",
      "Epoch 21, CIFAR-10 Batch 3:  stats: loss 0.18233845, accuracy 0.72340000     \n",
      "Epoch 21, CIFAR-10 Batch 4:  stats: loss 0.18390173, accuracy 0.73540002     \n",
      "Epoch 21, CIFAR-10 Batch 5:  stats: loss 0.19160607, accuracy 0.73580003     \n",
      "Epoch 22, CIFAR-10 Batch 1:  stats: loss 0.20211142, accuracy 0.73460001     \n",
      "Epoch 22, CIFAR-10 Batch 2:  stats: loss 0.16688786, accuracy 0.74599999     \n",
      "Epoch 22, CIFAR-10 Batch 3:  stats: loss 0.15862846, accuracy 0.74000001     \n",
      "Epoch 22, CIFAR-10 Batch 4:  stats: loss 0.21167330, accuracy 0.72039998     \n",
      "Epoch 22, CIFAR-10 Batch 5:  stats: loss 0.18742460, accuracy 0.74159998     \n",
      "Epoch 23, CIFAR-10 Batch 1:  stats: loss 0.19535300, accuracy 0.73680001     \n",
      "Epoch 23, CIFAR-10 Batch 2:  stats: loss 0.14512049, accuracy 0.74699998     \n",
      "Epoch 23, CIFAR-10 Batch 3:  stats: loss 0.14014252, accuracy 0.73600000     \n",
      "Epoch 23, CIFAR-10 Batch 4:  stats: loss 0.15801126, accuracy 0.73180002     \n",
      "Epoch 23, CIFAR-10 Batch 5:  stats: loss 0.12141179, accuracy 0.74360001     \n",
      "Epoch 24, CIFAR-10 Batch 1:  stats: loss 0.15019731, accuracy 0.75000000     \n",
      "Epoch 24, CIFAR-10 Batch 2:  stats: loss 0.11620779, accuracy 0.74779999     \n",
      "Epoch 24, CIFAR-10 Batch 3:  stats: loss 0.11767899, accuracy 0.73960000     \n",
      "Epoch 24, CIFAR-10 Batch 4:  stats: loss 0.12599197, accuracy 0.74659997     \n",
      "Epoch 24, CIFAR-10 Batch 5:  stats: loss 0.10057379, accuracy 0.75919998     \n",
      "Epoch 25, CIFAR-10 Batch 1:  stats: loss 0.13313162, accuracy 0.74019998     \n",
      "Epoch 25, CIFAR-10 Batch 2:  stats: loss 0.11519192, accuracy 0.74140000     \n",
      "Epoch 25, CIFAR-10 Batch 3:  stats: loss 0.11138351, accuracy 0.72880000     \n",
      "Epoch 25, CIFAR-10 Batch 4:  stats: loss 0.11635685, accuracy 0.74640000     \n",
      "Epoch 25, CIFAR-10 Batch 5:  stats: loss 0.12413359, accuracy 0.73680001     \n"
     ]
    }
   ],
   "source": [
    "\"\"\"\n",
    "DON'T MODIFY ANYTHING IN THIS CELL\n",
    "\"\"\"\n",
    "save_model_path = './image_classification'\n",
    "\n",
    "print('Training...')\n",
    "with tf.Session() as sess:\n",
    "    # Initializing the variables\n",
    "    sess.run(tf.global_variables_initializer())\n",
    "    \n",
    "    # Training cycle\n",
    "    for epoch in range(epochs):\n",
    "        # Loop over all batches\n",
    "        n_batches = 5\n",
    "        for batch_i in range(1, n_batches + 1):\n",
    "            for batch_features, batch_labels in helper.load_preprocess_training_batch(batch_i, batch_size):\n",
    "                train_neural_network(sess, optimizer, keep_probability, batch_features, batch_labels)\n",
    "            print('Epoch {:>2}, CIFAR-10 Batch {}:  '.format(epoch + 1, batch_i), end='')\n",
    "            print_stats(sess, batch_features, batch_labels, cost, accuracy)\n",
    "            \n",
    "    # Save Model\n",
    "    saver = tf.train.Saver()\n",
    "    save_path = saver.save(sess, save_model_path)"
   ]
  },
  {
   "cell_type": "markdown",
   "metadata": {},
   "source": [
    "# Checkpoint\n",
    "The model has been saved to disk.\n",
    "## Test Model\n",
    "Test your model against the test dataset.  This will be your final accuracy. You should have an accuracy greater than 50%. If you don't, keep tweaking the model architecture and parameters."
   ]
  },
  {
   "cell_type": "code",
   "execution_count": 18,
   "metadata": {
    "collapsed": false
   },
   "outputs": [
    {
     "name": "stdout",
     "output_type": "stream",
     "text": [
      "Testing Accuracy: 0.7345760583877563\n",
      "\n"
     ]
    },
    {
     "data": {
      "image/png": "[encoded data removed]",
      "text/plain": [
       "<matplotlib.figure.Figure at 0x7f83426a34e0>"
      ]
     },
     "metadata": {
      "image/png": {
       "height": 319,
       "width": 355
      }
     },
     "output_type": "display_data"
    }
   ],
   "source": [
    "\"\"\"\n",
    "DON'T MODIFY ANYTHING IN THIS CELL\n",
    "\"\"\"\n",
    "%matplotlib inline\n",
    "%config InlineBackend.figure_format = 'retina'\n",
    "\n",
    "import tensorflow as tf\n",
    "import pickle\n",
    "import helper\n",
    "import random\n",
    "\n",
    "# Set batch size if not already set\n",
    "try:\n",
    "    if batch_size:\n",
    "        pass\n",
    "except NameError:\n",
    "    batch_size = 64\n",
    "\n",
    "save_model_path = './image_classification'\n",
    "n_samples = 4\n",
    "top_n_predictions = 3\n",
    "\n",
    "def test_model():\n",
    "    \"\"\"\n",
    "    Test the saved model against the test dataset\n",
    "    \"\"\"\n",
    "\n",
    "    test_features, test_labels = pickle.load(open('preprocess_training.p', mode='rb'))\n",
    "    loaded_graph = tf.Graph()\n",
    "\n",
    "    with tf.Session(graph=loaded_graph) as sess:\n",
    "        # Load model\n",
    "        loader = tf.train.import_meta_graph(save_model_path + '.meta')\n",
    "        loader.restore(sess, save_model_path)\n",
    "\n",
    "        # Get Tensors from loaded model\n",
    "        loaded_x = loaded_graph.get_tensor_by_name('x:0')\n",
    "        loaded_y = loaded_graph.get_tensor_by_name('y:0')\n",
    "        loaded_keep_prob = loaded_graph.get_tensor_by_name('keep_prob:0')\n",
    "        loaded_logits = loaded_graph.get_tensor_by_name('logits:0')\n",
    "        loaded_acc = loaded_graph.get_tensor_by_name('accuracy:0')\n",
    "        \n",
    "        # Get accuracy in batches for memory limitations\n",
    "        test_batch_acc_total = 0\n",
    "        test_batch_count = 0\n",
    "        \n",
    "        for train_feature_batch, train_label_batch in helper.batch_features_labels(test_features, test_labels, batch_size):\n",
    "            test_batch_acc_total += sess.run(\n",
    "                loaded_acc,\n",
    "                feed_dict={loaded_x: train_feature_batch, loaded_y: train_label_batch, loaded_keep_prob: 1.0})\n",
    "            test_batch_count += 1\n",
    "\n",
    "        print('Testing Accuracy: {}\\n'.format(test_batch_acc_total/test_batch_count))\n",
    "\n",
    "        # Print Random Samples\n",
    "        random_test_features, random_test_labels = tuple(zip(*random.sample(list(zip(test_features, test_labels)), n_samples)))\n",
    "        random_test_predictions = sess.run(\n",
    "            tf.nn.top_k(tf.nn.softmax(loaded_logits), top_n_predictions),\n",
    "            feed_dict={loaded_x: random_test_features, loaded_y: random_test_labels, loaded_keep_prob: 1.0})\n",
    "        helper.display_image_predictions(random_test_features, random_test_labels, random_test_predictions)\n",
    "\n",
    "\n",
    "test_model()"
   ]
  },
  {
   "cell_type": "markdown",
   "metadata": {},
   "source": [
    "## Why 50-70% Accuracy?\n",
    "You might be wondering why you can't get an accuracy any higher. First things first, 50% isn't bad for a simple CNN.  Pure guessing would get you 10% accuracy. However, you might notice people are getting scores [well above 70%](http://rodrigob.github.io/are_we_there_yet/build/classification_datasets_results.html#43494641522d3130).  That's because we haven't taught you all there is to know about neural networks. We still need to cover a few more techniques.\n",
    "## Submitting This Project\n",
    "When submitting this project, make sure to run all the cells before saving the notebook.  Save the notebook file as \"dlnd_image_classification.ipynb\" and save it as a HTML file under \"File\" -> \"Download as\".  Include the \"helper.py\" and \"problem_unittests.py\" files in your submission."
   ]
  },
  {
   "cell_type": "code",
   "execution_count": null,
   "metadata": {
    "collapsed": true,
    "scrolled": true
   },
   "outputs": [],
   "source": []
  }
 ],
 "metadata": {
  "kernelspec": {
   "display_name": "Python 3",
   "language": "python",
   "name": "python3"
  },
  "language_info": {
   "codemirror_mode": {
    "name": "ipython",
    "version": 3
   },
   "file_extension": ".py",
   "mimetype": "text/x-python",
   "name": "python",
   "nbconvert_exporter": "python",
   "pygments_lexer": "ipython3",
   "version": "3.6.0"
  }
 },
 "nbformat": 4,
 "nbformat_minor": 0
}
