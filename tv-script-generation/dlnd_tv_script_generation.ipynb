{
 "cells": [
  {
   "cell_type": "markdown",
   "metadata": {
    "deletable": true,
    "editable": true
   },
   "source": [
    "# TV Script Generation\n",
    "In this project, you'll generate your own [Simpsons](https://en.wikipedia.org/wiki/The_Simpsons) TV scripts using RNNs.  You'll be using part of the [Simpsons dataset](https://www.kaggle.com/wcukierski/the-simpsons-by-the-data) of scripts from 27 seasons.  The Neural Network you'll build will generate a new TV script for a scene at [Moe's Tavern](https://simpsonswiki.com/wiki/Moe's_Tavern).\n",
    "## Get the Data\n",
    "The data is already provided for you.  You'll be using a subset of the original dataset.  It consists of only the scenes in Moe's Tavern.  This doesn't include other versions of the tavern, like \"Moe's Cavern\", \"Flaming Moe's\", \"Uncle Moe's Family Feed-Bag\", etc.."
   ]
  },
  {
   "cell_type": "code",
   "execution_count": 1,
   "metadata": {
    "collapsed": false,
    "deletable": true,
    "editable": true
   },
   "outputs": [],
   "source": [
    "\"\"\"\n",
    "DON'T MODIFY ANYTHING IN THIS CELL\n",
    "\"\"\"\n",
    "import helper\n",
    "\n",
    "data_dir = './data/simpsons/moes_tavern_lines.txt'\n",
    "text = helper.load_data(data_dir)\n",
    "# Ignore notice, since we don't use it for analysing the data\n",
    "text = text[81:]"
   ]
  },
  {
   "cell_type": "markdown",
   "metadata": {
    "deletable": true,
    "editable": true
   },
   "source": [
    "## Explore the Data\n",
    "Play around with `view_sentence_range` to view different parts of the data."
   ]
  },
  {
   "cell_type": "code",
   "execution_count": 2,
   "metadata": {
    "collapsed": false,
    "deletable": true,
    "editable": true
   },
   "outputs": [
    {
     "name": "stdout",
     "output_type": "stream",
     "text": [
      "Dataset Stats\n",
      "Roughly the number of unique words: 11492\n",
      "Number of scenes: 262\n",
      "Average number of sentences in each scene: 15.248091603053435\n",
      "Number of lines: 4257\n",
      "Average number of words in each line: 11.50434578341555\n",
      "\n",
      "The sentences 8 to 100:\n",
      "\n",
      "\n",
      "Moe_Szyslak: Ah, isn't that nice. Now, there is a politician who cares.\n",
      "Barney_Gumble: If I ever vote, it'll be for him. (BELCH)\n",
      "\n",
      "\n",
      "Barney_Gumble: Hey Homer, how's your neighbor's store doing?\n",
      "Homer_Simpson: Lousy. He just sits there all day. He'd have a great job if he didn't own the place. (CHUCKLES)\n",
      "Moe_Szyslak: (STRUGGLING WITH CORKSCREW) Crummy right-handed corkscrews! What does he sell?\n",
      "Homer_Simpson: Uh, well actually, Moe...\n",
      "HOMER_(CONT'D: I dunno.\n",
      "\n",
      "\n",
      "Moe_Szyslak: Looks like this is the end.\n",
      "Barney_Gumble: That's all right. I couldn't have led a richer life.\n",
      "Barney_Gumble: So the next time somebody tells you county folk are good, honest people, you can spit in their faces for me!\n",
      "Lisa_Simpson: I will, Mr. Gumbel. But if you'll excuse me, I'm profiling my dad for the school paper. I thought it would be neat to follow him around for a day to see what makes him tick.\n",
      "Barney_Gumble: Oh, that's sweet. I used to follow my dad to a lot of bars too. (BELCH)\n",
      "Moe_Szyslak: Here you go. One beer, one chocolate milk.\n",
      "Lisa_Simpson: Uh, excuse me, I have the chocolate milk.\n",
      "Moe_Szyslak: Oh.\n",
      "Moe_Szyslak: What's the matter, Homer? The depressin' effects of alcohol usually don't kick in 'til closing time.\n",
      "Lisa_Simpson: He's just a little nervous. (PROUDLY) He has to give a speech tomorrow on \"How To Keep Cool In A Crisis.\"\n",
      "Homer_Simpson: (SOBS) What am I gonna do? What am I gonna do?\n",
      "Barney_Gumble: Hey, I had to give a speech once. I was pretty nervous, so I used a little trick. I pictured everyone in their underwear. The judge, the jury, my lawyer, everybody.\n",
      "Homer_Simpson: Did it work?\n",
      "Barney_Gumble: I'm a free man, ain't I?\n",
      "Barney_Gumble: Whoa!\n",
      "Barney_Gumble: Huh? A pretzel? Wow, looks like I pulled a Homer!\n",
      "\n",
      "\n",
      "Patrons: (MUMBLING, NOT IN UNISON) Happy thoughts... happy thoughts... we love that boy.\n",
      "Moe_Szyslak: (INTO PHONE) Moe's Tavern. Hold on, I'll check. ... (LOUD) Hey everybody! I'm a stupid moron with an ugly face and a big butt, and my butt smells, and I like to kiss my own butt.\n",
      "Barney_Gumble: That's a new one (LAUGHING).\n",
      "Moe_Szyslak: Now wait a minute...\n",
      "\n",
      "\n",
      "Homer_Simpson: Hurry, Moe, hurry! I've only got five minutes till the music store closes.\n",
      "Moe_Szyslak: Why don't you go there first?\n",
      "Homer_Simpson: Hey, do I tell you how to do your job?\n",
      "Moe_Szyslak: Sorry, Homer.\n",
      "Homer_Simpson: You know, if you tip the glass, there won't be so much foam on top.\n",
      "Moe_Szyslak: Sorry, Homer.\n",
      "Homer_Simpson: (LOOKING AT WATCH) Ah. Finished with fifteen seconds to spare.\n",
      "Little_Man: (CONCERNED) What's the matter, buddy?\n",
      "Homer_Simpson: The moron next door closed early!\n",
      "Little_Man: (STIFFENING) I happen to be that moron.\n",
      "Homer_Simpson: Oh, me and my trenchant mouth.\n",
      "Homer_Simpson: Please, you've got to open that store.\n",
      "Little_Man: Let me think about it... Eh... No.\n",
      "Homer_Simpson: Okay, okay. But I want you to see a picture of the little girl you're disappointing. (GOES THROUGH HIS WALLET) Well I don't have one.\n",
      "Moe_Szyslak: (TO LITTLE MAN) Come on, Jer. Open up. Be a pal. Remember when I pulled you and your wife out of that burning car?\n",
      "Little_Man: (GRUDGINGLY) Okay. Okay. But now we're even. (TO HOMER) So what does your daughter need?\n",
      "Homer_Simpson: (SMOOTHLY) I'll have you know, I wrote it down.\n",
      "Homer_Simpson: Number Four and a half -- Stupid gum!\n",
      "Homer_Simpson: Number Four and a Half reed! Whoo hoo!\n",
      "Little_Man: Uh-huh. And what instrument does she play?\n",
      "Homer_Simpson: (SUNK) I dunno.\n",
      "\n",
      "\n",
      "Moe_Szyslak: (TO PATRONS) Figure of speech.\n",
      "Moe_Szyslak: Hiya, Homer. (SIGHS)\n",
      "Homer_Simpson: What's the matter, Moe?\n",
      "Moe_Szyslak: Ah, business is slow. People today are healthier and drinking less. You know, if it wasn't for the Junior High school next door no one would even use the cigarette machine.\n",
      "Homer_Simpson: (MOUTH FULL) Yeah, things are tough all over.\n",
      "Moe_Szyslak: Increased job satisfaction and family togetherness are poison for a purveyor of mind-numbing intoxicants like myself.\n",
      "Homer_Simpson: Could I get a beer?\n",
      "Moe_Szyslak: Uh, yeah, sure.\n",
      "Moe_Szyslak: Oh sorry, I forgot we're out of beer.\n",
      "Moe_Szyslak: Yeah, I know, I got behind on my beer payments. The distributor cut me off and I spent my last ten grand on the \"Love Tester\".\n",
      "Moe_Szyslak: You're too late, Homer. Barney sucked it dry. Cut his gums up pretty bad.\n",
      "Moe_Szyslak: Take it easy, Homer. I learned how to make other drinks at Bartender's School.\n",
      "Moe_Szyslak: (UNFAMILIAR) Gin and... tonic? Do they mix?\n",
      "Homer_Simpson: (BRIGHTENING) Hey, I know a good drink. Really hits the spot. I invented it myself...\n",
      "Moe_Szyslak: Sorry, Harv.\n",
      "Moe_Szyslak: Whoa, sounds like one hell of a drink. What do you call it?\n",
      "Homer_Simpson: A \"Flaming Homer\".\n",
      "Moe_Szyslak: Okay, why don't you make us up a couple of \"Flaming Homers\"?\n",
      "Homer_Simpson: Hey Moe, you got any cough syrup?\n",
      "Moe_Szyslak: Uh, let me check the lost and found.\n",
      "Moe_Szyslak: What do we got here, Bowie knife, troll doll, glass eye...\n",
      "Moe_Szyslak: Oh. Here we are.\n",
      "Moe_Szyslak: It's not without its charm.\n",
      "Homer_Simpson: Try lighting it on fire.\n",
      "Moe_Szyslak: (SMILING) Whoa! Homer, it's like there's a party in my mouth and everyone's invited.\n",
      "Larry: Hey, your Love Tester's busted. I want my nickel back. (COUGHS)\n",
      "Moe_Szyslak: Hey, buddy. Have one on the house.\n",
      "Larry: Hey, hey, this drink is delicious! And my phlegm feels looser. What do you call it?\n",
      "Homer_Simpson: Well, it's called a \"Flaming...\n",
      "Moe_Szyslak: Moe! It's called a \"Flaming Moe\"! That's right, a \"Flaming Moe\". My name is Moe, and I invented it. That's why it's called a Flaming Moe. What? What are you lookin' at, Homer? It's a Flaming Moe I'm Moe.\n",
      "Barney_Gumble: Hey, what's this?\n",
      "Moe_Szyslak: A sneeze guard.\n"
     ]
    }
   ],
   "source": [
    "view_sentence_range = (8, 100)\n",
    "\n",
    "\"\"\"\n",
    "DON'T MODIFY ANYTHING IN THIS CELL\n",
    "\"\"\"\n",
    "import numpy as np\n",
    "\n",
    "print('Dataset Stats')\n",
    "print('Roughly the number of unique words: {}'.format(len({word: None for word in text.split()})))\n",
    "scenes = text.split('\\n\\n')\n",
    "print('Number of scenes: {}'.format(len(scenes)))\n",
    "sentence_count_scene = [scene.count('\\n') for scene in scenes]\n",
    "print('Average number of sentences in each scene: {}'.format(np.average(sentence_count_scene)))\n",
    "\n",
    "sentences = [sentence for scene in scenes for sentence in scene.split('\\n')]\n",
    "print('Number of lines: {}'.format(len(sentences)))\n",
    "word_count_sentence = [len(sentence.split()) for sentence in sentences]\n",
    "print('Average number of words in each line: {}'.format(np.average(word_count_sentence)))\n",
    "\n",
    "print()\n",
    "print('The sentences {} to {}:'.format(*view_sentence_range))\n",
    "print('\\n'.join(text.split('\\n')[view_sentence_range[0]:view_sentence_range[1]]))"
   ]
  },
  {
   "cell_type": "markdown",
   "metadata": {
    "deletable": true,
    "editable": true
   },
   "source": [
    "## Implement Preprocessing Functions\n",
    "The first thing to do to any dataset is preprocessing.  Implement the following preprocessing functions below:\n",
    "- Lookup Table\n",
    "- Tokenize Punctuation\n",
    "\n",
    "### Lookup Table\n",
    "To create a word embedding, you first need to transform the words to ids.  In this function, create two dictionaries:\n",
    "- Dictionary to go from the words to an id, we'll call `vocab_to_int`\n",
    "- Dictionary to go from the id to word, we'll call `int_to_vocab`\n",
    "\n",
    "Return these dictionaries in the following tuple `(vocab_to_int, int_to_vocab)`"
   ]
  },
  {
   "cell_type": "code",
   "execution_count": 3,
   "metadata": {
    "collapsed": false,
    "deletable": true,
    "editable": true
   },
   "outputs": [
    {
     "name": "stdout",
     "output_type": "stream",
     "text": [
      "Tests Passed\n"
     ]
    }
   ],
   "source": [
    "import numpy as np\n",
    "import problem_unittests as tests\n",
    "\n",
    "def create_lookup_tables(text):\n",
    "    \"\"\"\n",
    "    Create lookup tables for vocabulary\n",
    "    :param text: The text of tv scripts split into words\n",
    "    :return: A tuple of dicts (vocab_to_int, int_to_vocab)\n",
    "    \"\"\"\n",
    "    # TODO: Implement Function\n",
    "    words = set()\n",
    "    index_to_word = {}\n",
    "    word_to_index = {}\n",
    "    \n",
    "    for word in text:\n",
    "        words.add(word)\n",
    "    \n",
    "    for index, word in enumerate(words):\n",
    "        #print (word,index)\n",
    "        index_to_word[index] = word\n",
    "        word_to_index[word] = index\n",
    "        \n",
    "    return word_to_index, index_to_word\n",
    "\n",
    "\n",
    "\"\"\"\n",
    "DON'T MODIFY ANYTHING IN THIS CELL THAT IS BELOW THIS LINE\n",
    "\"\"\"\n",
    "tests.test_create_lookup_tables(create_lookup_tables)"
   ]
  },
  {
   "cell_type": "markdown",
   "metadata": {
    "deletable": true,
    "editable": true
   },
   "source": [
    "### Tokenize Punctuation\n",
    "We'll be splitting the script into a word array using spaces as delimiters.  However, punctuations like periods and exclamation marks make it hard for the neural network to distinguish between the word \"bye\" and \"bye!\".\n",
    "\n",
    "Implement the function `token_lookup` to return a dict that will be used to tokenize symbols like \"!\" into \"||Exclamation_Mark||\".  Create a dictionary for the following symbols where the symbol is the key and value is the token:\n",
    "- Period ( . )\n",
    "- Comma ( , )\n",
    "- Quotation Mark ( \" )\n",
    "- Semicolon ( ; )\n",
    "- Exclamation mark ( ! )\n",
    "- Question mark ( ? )\n",
    "- Left Parentheses ( ( )\n",
    "- Right Parentheses ( ) )\n",
    "- Dash ( -- )\n",
    "- Return ( \\n )\n",
    "\n",
    "This dictionary will be used to token the symbols and add the delimiter (space) around it.  This separates the symbols as it's own word, making it easier for the neural network to predict on the next word. Make sure you don't use a token that could be confused as a word. Instead of using the token \"dash\", try using something like \"||dash||\"."
   ]
  },
  {
   "cell_type": "code",
   "execution_count": 4,
   "metadata": {
    "collapsed": false,
    "deletable": true,
    "editable": true
   },
   "outputs": [
    {
     "name": "stdout",
     "output_type": "stream",
     "text": [
      "Tests Passed\n"
     ]
    }
   ],
   "source": [
    "def token_lookup():\n",
    "    \"\"\"\n",
    "    Generate a dict to turn punctuation into a token.\n",
    "    :return: Tokenize dictionary where the key is the punctuation and the value is the token\n",
    "    \"\"\"\n",
    "    # TODO: Implement Function\n",
    "    ret = {}\n",
    "    ret['.'] = \"||Period||\" #( . )\n",
    "    ret[','] = \"||Comma||\" #( , )\n",
    "    ret['\"'] = \"||Quotation_Mark||\" # ( \" )\n",
    "    ret[';'] = \"||Semicolon||\" #( ; )\n",
    "    ret['!'] = \"||Exclamation_mark||\" #( ! )\n",
    "    ret['?'] = \"||Question_mark||\" #( ? )\n",
    "    ret['('] = \"||Left_Parentheses||\" #( ( )\n",
    "    ret[')'] = \"||Right_Parentheses||\" #( ) )\n",
    "    ret['--'] = \"||Dash||\" # ( -- )\n",
    "    ret['\\n'] = \"||Return||\" # ( \\n )\n",
    "    \n",
    "    return ret\n",
    "\n",
    "\"\"\"\n",
    "DON'T MODIFY ANYTHING IN THIS CELL THAT IS BELOW THIS LINE\n",
    "\"\"\"\n",
    "tests.test_tokenize(token_lookup)"
   ]
  },
  {
   "cell_type": "markdown",
   "metadata": {
    "deletable": true,
    "editable": true
   },
   "source": [
    "## Preprocess all the data and save it\n",
    "Running the code cell below will preprocess all the data and save it to file."
   ]
  },
  {
   "cell_type": "code",
   "execution_count": 5,
   "metadata": {
    "collapsed": false,
    "deletable": true,
    "editable": true
   },
   "outputs": [],
   "source": [
    "\"\"\"\n",
    "DON'T MODIFY ANYTHING IN THIS CELL\n",
    "\"\"\"\n",
    "# Preprocess Training, Validation, and Testing Data\n",
    "helper.preprocess_and_save_data(data_dir, token_lookup, create_lookup_tables)"
   ]
  },
  {
   "cell_type": "markdown",
   "metadata": {
    "deletable": true,
    "editable": true
   },
   "source": [
    "# Check Point\n",
    "This is your first checkpoint. If you ever decide to come back to this notebook or have to restart the notebook, you can start from here. The preprocessed data has been saved to disk."
   ]
  },
  {
   "cell_type": "code",
   "execution_count": 6,
   "metadata": {
    "collapsed": false,
    "deletable": true,
    "editable": true
   },
   "outputs": [],
   "source": [
    "\"\"\"\n",
    "DON'T MODIFY ANYTHING IN THIS CELL\n",
    "\"\"\"\n",
    "import helper\n",
    "import numpy as np\n",
    "import problem_unittests as tests\n",
    "\n",
    "int_text, vocab_to_int, int_to_vocab, token_dict = helper.load_preprocess()"
   ]
  },
  {
   "cell_type": "markdown",
   "metadata": {
    "deletable": true,
    "editable": true
   },
   "source": [
    "## Build the Neural Network\n",
    "You'll build the components necessary to build a RNN by implementing the following functions below:\n",
    "- get_inputs\n",
    "- get_init_cell\n",
    "- get_embed\n",
    "- build_rnn\n",
    "- build_nn\n",
    "- get_batches\n",
    "\n",
    "### Check the Version of TensorFlow and Access to GPU"
   ]
  },
  {
   "cell_type": "code",
   "execution_count": 7,
   "metadata": {
    "collapsed": false,
    "deletable": true,
    "editable": true
   },
   "outputs": [
    {
     "name": "stdout",
     "output_type": "stream",
     "text": [
      "TensorFlow Version: 1.0.1\n",
      "Default GPU Device: /gpu:0\n"
     ]
    }
   ],
   "source": [
    "\"\"\"\n",
    "DON'T MODIFY ANYTHING IN THIS CELL\n",
    "\"\"\"\n",
    "from distutils.version import LooseVersion\n",
    "import warnings\n",
    "import tensorflow as tf\n",
    "\n",
    "# Check TensorFlow Version\n",
    "assert LooseVersion(tf.__version__) >= LooseVersion('1.0'), 'Please use TensorFlow version 1.0 or newer'\n",
    "print('TensorFlow Version: {}'.format(tf.__version__))\n",
    "\n",
    "# Check for a GPU\n",
    "if not tf.test.gpu_device_name():\n",
    "    warnings.warn('No GPU found. Please use a GPU to train your neural network.')\n",
    "else:\n",
    "    print('Default GPU Device: {}'.format(tf.test.gpu_device_name()))"
   ]
  },
  {
   "cell_type": "markdown",
   "metadata": {
    "deletable": true,
    "editable": true
   },
   "source": [
    "### Input\n",
    "Implement the `get_inputs()` function to create TF Placeholders for the Neural Network.  It should create the following placeholders:\n",
    "- Input text placeholder named \"input\" using the [TF Placeholder](https://www.tensorflow.org/api_docs/python/tf/placeholder) `name` parameter.\n",
    "- Targets placeholder\n",
    "- Learning Rate placeholder\n",
    "\n",
    "Return the placeholders in the following the tuple `(Input, Targets, LearingRate)`"
   ]
  },
  {
   "cell_type": "code",
   "execution_count": 8,
   "metadata": {
    "collapsed": false,
    "deletable": true,
    "editable": true
   },
   "outputs": [
    {
     "name": "stdout",
     "output_type": "stream",
     "text": [
      "Tests Passed\n"
     ]
    }
   ],
   "source": [
    "def get_inputs():\n",
    "    \"\"\"\n",
    "    Create TF Placeholders for input, targets, and learning rate.\n",
    "    :return: Tuple (input, targets, learning rate)\n",
    "    \"\"\"\n",
    "    # TODO: Implement Function\n",
    "    inputs        = tf.placeholder(tf.int32, [None, None ], name=\"input\")\n",
    "    targets       = tf.placeholder(tf.int32, [None, None ], name=\"targets\")\n",
    "    learning_rate = tf.placeholder(tf.float32, None, name=\"LearningRate\")\n",
    "    return inputs, targets, learning_rate\n",
    "\n",
    "\n",
    "\"\"\"\n",
    "DON'T MODIFY ANYTHING IN THIS CELL THAT IS BELOW THIS LINE\n",
    "\"\"\"\n",
    "tests.test_get_inputs(get_inputs)"
   ]
  },
  {
   "cell_type": "markdown",
   "metadata": {
    "deletable": true,
    "editable": true
   },
   "source": [
    "### Build RNN Cell and Initialize\n",
    "Stack one or more [`BasicLSTMCells`](https://www.tensorflow.org/api_docs/python/tf/contrib/rnn/BasicLSTMCell) in a [`MultiRNNCell`](https://www.tensorflow.org/api_docs/python/tf/contrib/rnn/MultiRNNCell).\n",
    "- The Rnn size should be set using `rnn_size`\n",
    "- Initalize Cell State using the MultiRNNCell's [`zero_state()`](https://www.tensorflow.org/api_docs/python/tf/contrib/rnn/MultiRNNCell#zero_state) function\n",
    "    - Apply the name \"initial_state\" to the initial state using [`tf.identity()`](https://www.tensorflow.org/api_docs/python/tf/identity)\n",
    "\n",
    "Return the cell and initial state in the following tuple `(Cell, InitialState)`"
   ]
  },
  {
   "cell_type": "code",
   "execution_count": 9,
   "metadata": {
    "collapsed": false,
    "deletable": true,
    "editable": true
   },
   "outputs": [
    {
     "name": "stdout",
     "output_type": "stream",
     "text": [
      "Tests Passed\n"
     ]
    }
   ],
   "source": [
    "def get_init_cell(batch_size, rnn_size):\n",
    "    \"\"\"\n",
    "    Create an RNN Cell and initialize it.\n",
    "    :param batch_size: Size of batches\n",
    "    :param rnn_size: Size of RNNs\n",
    "    :return: Tuple (cell, initialize state)\n",
    "    \"\"\"\n",
    "    # TODO: Implement Function\n",
    "    layer_count = 2\n",
    "    keep_prob = tf.constant(0.7,tf.float32, name=\"keep_prob\")\n",
    "    lstm = tf.contrib.rnn.BasicLSTMCell(rnn_size, state_is_tuple=True)\n",
    "    lstm2 = tf.contrib.rnn.BasicLSTMCell(rnn_size, state_is_tuple=True)\n",
    "    \n",
    "    dropout = tf.contrib.rnn.DropoutWrapper(lstm, output_keep_prob=keep_prob)\n",
    "    \n",
    "    cell = tf.contrib.rnn.MultiRNNCell([lstm, lstm2], state_is_tuple=True)\n",
    "    initial_state = cell.zero_state( batch_size, tf.float32)\n",
    "    initial_state = tf.identity(initial_state, name=\"initial_state\" )\n",
    "    #_outputs, final_state = tf.nn.rnn(cell, rnn_inputs, initial_state=init_state) \n",
    "                                \n",
    "    return cell, initial_state\n",
    "\n",
    "\n",
    "\"\"\"\n",
    "DON'T MODIFY ANYTHING IN THIS CELL THAT IS BELOW THIS LINE\n",
    "\"\"\"\n",
    "tests.test_get_init_cell(get_init_cell)"
   ]
  },
  {
   "cell_type": "markdown",
   "metadata": {
    "deletable": true,
    "editable": true
   },
   "source": [
    "### Word Embedding\n",
    "Apply embedding to `input_data` using TensorFlow.  Return the embedded sequence."
   ]
  },
  {
   "cell_type": "code",
   "execution_count": 10,
   "metadata": {
    "collapsed": false,
    "deletable": true,
    "editable": true
   },
   "outputs": [
    {
     "name": "stdout",
     "output_type": "stream",
     "text": [
      "shape [50, 5, 256]\n",
      "Tests Passed\n"
     ]
    }
   ],
   "source": [
    "import random\n",
    "import math\n",
    "def get_embed(input_data, vocab_size, embed_dim):\n",
    "    \"\"\"\n",
    "    Create embedding for <input_data>.\n",
    "    :param input_data: TF placeholder for text input.\n",
    "    :param vocab_size: Number of words in vocabulary.\n",
    "    :param embed_dim: Number of embedding dimensions\n",
    "    :return: Embedded input.\n",
    "    \"\"\"\n",
    "    # TODO: Implement Function    \n",
    "    ret = tf.Variable(tf.random_uniform((vocab_size, embed_dim), -1, 1))\n",
    "    ret = tf.nn.embedding_lookup(ret, input_data)\n",
    "    print(\"shape {}\".format(ret.get_shape().as_list()))\n",
    "    return ret\n",
    "\n",
    "\n",
    "\"\"\"\n",
    "DON'T MODIFY ANYTHING IN THIS CELL THAT IS BELOW THIS LINE\n",
    "\"\"\"\n",
    "tests.test_get_embed(get_embed)"
   ]
  },
  {
   "cell_type": "markdown",
   "metadata": {
    "deletable": true,
    "editable": true
   },
   "source": [
    "### Build RNN\n",
    "You created a RNN Cell in the `get_init_cell()` function.  Time to use the cell to create a RNN.\n",
    "- Build the RNN using the [`tf.nn.dynamic_rnn()`](https://www.tensorflow.org/api_docs/python/tf/nn/dynamic_rnn)\n",
    " - Apply the name \"final_state\" to the final state using [`tf.identity()`](https://www.tensorflow.org/api_docs/python/tf/identity)\n",
    "\n",
    "Return the outputs and final_state state in the following tuple `(Outputs, FinalState)` "
   ]
  },
  {
   "cell_type": "code",
   "execution_count": 11,
   "metadata": {
    "collapsed": false,
    "deletable": true,
    "editable": true
   },
   "outputs": [
    {
     "name": "stdout",
     "output_type": "stream",
     "text": [
      "Tests Passed\n"
     ]
    }
   ],
   "source": [
    "def build_rnn(cell, inputs):\n",
    "    \"\"\"\n",
    "    Create a RNN using a RNN Cell\n",
    "    :param cell: RNN Cell\n",
    "    :param inputs: Input text data\n",
    "    :return: Tuple (Outputs, Final State)\n",
    "    \"\"\"\n",
    "    # TODO: Implement Function\n",
    "    output, final_state = tf.nn.dynamic_rnn(cell, inputs, dtype = tf.float32)\n",
    "    final_state = tf.identity (final_state, \"final_state\")\n",
    "    return output, final_state\n",
    "\n",
    "\n",
    "\"\"\"\n",
    "DON'T MODIFY ANYTHING IN THIS CELL THAT IS BELOW THIS LINE\n",
    "\"\"\"\n",
    "tests.test_build_rnn(build_rnn)"
   ]
  },
  {
   "cell_type": "markdown",
   "metadata": {
    "deletable": true,
    "editable": true
   },
   "source": [
    "### Build the Neural Network\n",
    "Apply the functions you implemented above to:\n",
    "- Apply embedding to `input_data` using your `get_embed(input_data, vocab_size, embed_dim)` function.\n",
    "- Build RNN using `cell` and your `build_rnn(cell, inputs)` function.\n",
    "- Apply a fully connected layer with a linear activation and `vocab_size` as the number of outputs.\n",
    "\n",
    "Return the logits and final state in the following tuple (Logits, FinalState) "
   ]
  },
  {
   "cell_type": "code",
   "execution_count": 12,
   "metadata": {
    "collapsed": false,
    "deletable": true,
    "editable": true
   },
   "outputs": [
    {
     "name": "stdout",
     "output_type": "stream",
     "text": [
      "shape [128, 5, 256]\n",
      "build_nn embedded[128, 5, 256], out:[128, 5, 27], fin:[2, 2, None, 256]\n",
      "\n",
      "Tests Passed\n"
     ]
    }
   ],
   "source": [
    "def build_nn(cell, rnn_size, input_data, vocab_size):\n",
    "    \"\"\"\n",
    "    Build part of the neural network\n",
    "    :param cell: RNN cell\n",
    "    :param rnn_size: Size of rnns\n",
    "    :param input_data: Input data\n",
    "    :param vocab_size: Vocabulary size\n",
    "    :return: Tuple (Logits, FinalState)\n",
    "    \"\"\"\n",
    "    # TODO: Implement Function\n",
    "    embedded = get_embed(input_data, vocab_size, rnn_size)\n",
    "    out, fin = build_rnn(cell, embedded) \n",
    "    out = tf.contrib.layers.fully_connected(out,vocab_size, activation_fn=None)\n",
    "    \n",
    "    out_shape = out.get_shape().as_list() \n",
    "    print(\"build_nn embedded{}, out:{}, fin:{}\".format(embedded.get_shape().as_list(),out_shape, fin.get_shape().as_list()))\n",
    "    print()\n",
    "    return out, fin\n",
    "\n",
    "\n",
    "\"\"\"\n",
    "DON'T MODIFY ANYTHING IN THIS CELL THAT IS BELOW THIS LINE\n",
    "\"\"\"\n",
    "tests.test_build_nn(build_nn)"
   ]
  },
  {
   "cell_type": "markdown",
   "metadata": {
    "deletable": true,
    "editable": true
   },
   "source": [
    "### Batches\n",
    "Implement `get_batches` to create batches of input and targets using `int_text`.  The batches should be a Numpy array with the shape `(number of batches, 2, batch size, sequence length)`. Each batch contains two elements:\n",
    "- The first element is a single batch of **input** with the shape `[batch size, sequence length]`\n",
    "- The second element is a single batch of **targets** with the shape `[batch size, sequence length]`\n",
    "\n",
    "If you can't fill the last batch with enough data, drop the last batch.\n",
    "\n",
    "For exmple, `get_batches([1, 2, 3, 4, 5, 6, 7, 8, 9, 10, 11, 12, 13, 14, 15], 2, 3)` would return a Numpy array of the following:\n",
    "```\n",
    "[\n",
    "  # First Batch\n",
    "  [\n",
    "    # Batch of Input\n",
    "    [[ 1  2  3], [ 7  8  9]],\n",
    "    # Batch of targets\n",
    "    [[ 2  3  4], [ 8  9 10]]\n",
    "  ],\n",
    " \n",
    "  # Second Batch\n",
    "  [\n",
    "    # Batch of Input\n",
    "    [[ 4  5  6], [10 11 12]],\n",
    "    # Batch of targets\n",
    "    [[ 5  6  7], [11 12 13]]\n",
    "  ]\n",
    "]\n",
    "```"
   ]
  },
  {
   "cell_type": "code",
   "execution_count": null,
   "metadata": {
    "collapsed": true,
    "deletable": true,
    "editable": true
   },
   "outputs": [],
   "source": []
  },
  {
   "cell_type": "raw",
   "metadata": {
    "deletable": true,
    "editable": true
   },
   "source": []
  },
  {
   "cell_type": "code",
   "execution_count": 13,
   "metadata": {
    "collapsed": false,
    "deletable": true,
    "editable": true
   },
   "outputs": [
    {
     "name": "stdout",
     "output_type": "stream",
     "text": [
      "get_batches text:4480, batch:128, seq:5\n",
      "batch test  (7, 2, 128, 5) [[1930 1931 1932 1933 1934]\n",
      " [1931 1932 1933 1934 1935]]\n",
      "Tests Passed\n"
     ]
    }
   ],
   "source": [
    "def get_batches(int_text, batch_size, seq_length):\n",
    "    \"\"\"\n",
    "    Return batches of input and target\n",
    "    :param int_text: Text with the words replaced by their ids\n",
    "    :param batch_size: The size of batch\n",
    "    :param seq_length: The length of sequence\n",
    "    :return: Batches as a Numpy array\n",
    "    \"\"\"\n",
    "    # TODO: Implement Function\n",
    "    text = int_text\n",
    "    ret = np.array([])\n",
    "    inputs = []\n",
    "    targets = []\n",
    "    text_len = len(text) - len(text) % (seq_length*batch_size)\n",
    "    print (\"get_batches text:{}, batch:{}, seq:{}\".format(text_len, batch_size, seq_length))\n",
    "    ret=[]  \n",
    "    \n",
    "    for i in range(0, text_len-1, seq_length):\n",
    "        seq = list(int_text[i:i+seq_length])\n",
    "        inputs.append(list(int_text[i:i+seq_length]))\n",
    "        targets.append(list(int_text[i+1:i+seq_length+1]))\n",
    "        \n",
    "        \n",
    "    for i in range(0,len(inputs),batch_size):\n",
    "        pos=batch_size\n",
    "        #batch_pair = n\n",
    "        ret.append([inputs[i:i+batch_size], targets[i:i+batch_size]])\n",
    "    ret = np.asanyarray(ret)\n",
    "    print(\"batch test \", ret.shape, ret[3,:,2])\n",
    "    return ret\n",
    "\n",
    "\n",
    "\"\"\"\n",
    "DON'T MODIFY ANYTHING IN THIS CELL THAT IS BELOW THIS LINE\n",
    "\"\"\"\n",
    "tests.test_get_batches(get_batches)"
   ]
  },
  {
   "cell_type": "markdown",
   "metadata": {
    "deletable": true,
    "editable": true
   },
   "source": [
    "## Neural Network Training\n",
    "### Hyperparameters\n",
    "Tune the following parameters:\n",
    "\n",
    "- Set `num_epochs` to the number of epochs.\n",
    "- Set `batch_size` to the batch size.\n",
    "- Set `rnn_size` to the size of the RNNs.\n",
    "- Set `seq_length` to the length of sequence.\n",
    "- Set `learning_rate` to the learning rate.\n",
    "- Set `show_every_n_batches` to the number of batches the neural network should print progress."
   ]
  },
  {
   "cell_type": "code",
   "execution_count": 14,
   "metadata": {
    "collapsed": false,
    "deletable": true,
    "editable": true
   },
   "outputs": [
    {
     "name": "stdout",
     "output_type": "stream",
     "text": [
      "learning rate 0.00015586083376681765, vocab_size 6700\n"
     ]
    }
   ],
   "source": [
    "# Number of Epochs\n",
    "num_epochs = 150\n",
    "# Batch Size\n",
    "batch_size = 256\n",
    "rnn_size = 1024\n",
    "# Sequence Length\n",
    "seq_length = 6\n",
    "learning_rate = 1/np.sqrt(rnn_size*seq_length*6700)\n",
    "print( \"learning rate {}, vocab_size {}\".format(learning_rate,6700))\n",
    "\"\"\"\n",
    "                100      inf\n",
    "    0.0012 --  1.666       860-1210: 1.259\n",
    "    0.00012 -- 5.878      1920-2190: 1.070\n",
    "    0.000012   7.4             3000: 2.107\n",
    "    0.00012 -- 6.047           3000: 0.964-- embedding w truncated normal.\n",
    "    \n",
    "    1024\n",
    "    0.00812  -- 1.182 stuck\n",
    "    0.00612  -- 0.961 stuck\n",
    "\"\"\"\n",
    "\n",
    "# Show stats for every n number of batches\n",
    "show_every_n_batches = 20\n",
    "\n",
    "tf.set_random_seed(42)\n",
    "\n",
    "\"\"\"\n",
    "DON'T MODIFY ANYTHING IN THIS CELL THAT IS BELOW THIS LINE\n",
    "\"\"\"\n",
    "save_dir = './save'"
   ]
  },
  {
   "cell_type": "markdown",
   "metadata": {
    "deletable": true,
    "editable": true
   },
   "source": [
    "### Build the Graph\n",
    "Build the graph using the neural network you implemented."
   ]
  },
  {
   "cell_type": "code",
   "execution_count": 15,
   "metadata": {
    "collapsed": false,
    "deletable": true,
    "editable": true
   },
   "outputs": [
    {
     "name": "stdout",
     "output_type": "stream",
     "text": [
      "shape [None, None, 1024]\n",
      "build_nn embedded[None, None, 1024], out:[None, None, 6779], fin:[2, 2, None, 1024]\n",
      "\n"
     ]
    }
   ],
   "source": [
    "\"\"\"\n",
    "DON'T MODIFY ANYTHING IN THIS CELL\n",
    "\"\"\"\n",
    "from tensorflow.contrib import seq2seq\n",
    "\n",
    "train_graph = tf.Graph()\n",
    "with train_graph.as_default():\n",
    "    vocab_size = len(int_to_vocab)\n",
    "    input_text, targets, lr = get_inputs()\n",
    "    input_data_shape = tf.shape(input_text)\n",
    "    cell, initial_state = get_init_cell(input_data_shape[0], rnn_size)\n",
    "    logits, final_state = build_nn(cell, rnn_size, input_text, vocab_size)\n",
    "\n",
    "    # Probabilities for generating words\n",
    "    probs = tf.nn.softmax(logits, name='probs')\n",
    "\n",
    "    # Loss function\n",
    "    cost = seq2seq.sequence_loss(\n",
    "        logits,\n",
    "        targets,\n",
    "        tf.ones([input_data_shape[0], input_data_shape[1]]))\n",
    "\n",
    "    # Optimizer\n",
    "    optimizer = tf.train.AdamOptimizer(lr)\n",
    "\n",
    "    # Gradient Clipping\n",
    "    gradients = optimizer.compute_gradients(cost)\n",
    "    capped_gradients = [(tf.clip_by_value(grad, -1., 1.), var) for grad, var in gradients]\n",
    "    train_op = optimizer.apply_gradients(capped_gradients)"
   ]
  },
  {
   "cell_type": "markdown",
   "metadata": {
    "deletable": true,
    "editable": true
   },
   "source": [
    "## Train\n",
    "Train the neural network on the preprocessed data.  If you have a hard time getting a good loss, check the [forms](https://discussions.udacity.com/) to see if anyone is having the same problem."
   ]
  },
  {
   "cell_type": "code",
   "execution_count": 16,
   "metadata": {
    "collapsed": false,
    "deletable": true,
    "editable": true,
    "scrolled": false
   },
   "outputs": [
    {
     "name": "stdout",
     "output_type": "stream",
     "text": [
      "get_batches text:67584, batch:256, seq:6\n",
      "batch test  (44, 2, 256, 6) [[2850 1921 4437 3449 4253 6216]\n",
      " [1921 4437 3449 4253 6216 1920]]\n",
      "Epoch   0 Batch    0/44   train_loss = 8.821\n",
      "Epoch   0 Batch   20/44   train_loss = 7.308\n",
      "Epoch   0 Batch   40/44   train_loss = 6.800\n",
      "Epoch   1 Batch   16/44   train_loss = 6.100\n",
      "Epoch   1 Batch   36/44   train_loss = 6.146\n",
      "Epoch   2 Batch   12/44   train_loss = 5.876\n",
      "Epoch   2 Batch   32/44   train_loss = 5.917\n",
      "Epoch   3 Batch    8/44   train_loss = 5.713\n",
      "Epoch   3 Batch   28/44   train_loss = 5.741\n",
      "Epoch   4 Batch    4/44   train_loss = 5.444\n",
      "Epoch   4 Batch   24/44   train_loss = 5.563\n",
      "Epoch   5 Batch    0/44   train_loss = 5.286\n",
      "Epoch   5 Batch   20/44   train_loss = 5.200\n",
      "Epoch   5 Batch   40/44   train_loss = 5.562\n",
      "Epoch   6 Batch   16/44   train_loss = 5.044\n",
      "Epoch   6 Batch   36/44   train_loss = 5.316\n",
      "Epoch   7 Batch   12/44   train_loss = 5.106\n",
      "Epoch   7 Batch   32/44   train_loss = 5.251\n",
      "Epoch   8 Batch    8/44   train_loss = 5.035\n",
      "Epoch   8 Batch   28/44   train_loss = 5.174\n",
      "Epoch   9 Batch    4/44   train_loss = 4.884\n",
      "Epoch   9 Batch   24/44   train_loss = 5.043\n",
      "Epoch  10 Batch    0/44   train_loss = 4.772\n",
      "Epoch  10 Batch   20/44   train_loss = 4.698\n",
      "Epoch  10 Batch   40/44   train_loss = 5.073\n",
      "Epoch  11 Batch   16/44   train_loss = 4.594\n",
      "Epoch  11 Batch   36/44   train_loss = 4.882\n",
      "Epoch  12 Batch   12/44   train_loss = 4.716\n",
      "Epoch  12 Batch   32/44   train_loss = 4.868\n",
      "Epoch  13 Batch    8/44   train_loss = 4.644\n",
      "Epoch  13 Batch   28/44   train_loss = 4.808\n",
      "Epoch  14 Batch    4/44   train_loss = 4.518\n",
      "Epoch  14 Batch   24/44   train_loss = 4.682\n",
      "Epoch  15 Batch    0/44   train_loss = 4.445\n",
      "Epoch  15 Batch   20/44   train_loss = 4.380\n",
      "Epoch  15 Batch   40/44   train_loss = 4.733\n",
      "Epoch  16 Batch   16/44   train_loss = 4.304\n",
      "Epoch  16 Batch   36/44   train_loss = 4.552\n",
      "Epoch  17 Batch   12/44   train_loss = 4.431\n",
      "Epoch  17 Batch   32/44   train_loss = 4.571\n",
      "Epoch  18 Batch    8/44   train_loss = 4.351\n",
      "Epoch  18 Batch   28/44   train_loss = 4.510\n",
      "Epoch  19 Batch    4/44   train_loss = 4.230\n",
      "Epoch  19 Batch   24/44   train_loss = 4.384\n",
      "Epoch  20 Batch    0/44   train_loss = 4.188\n",
      "Epoch  20 Batch   20/44   train_loss = 4.130\n",
      "Epoch  20 Batch   40/44   train_loss = 4.433\n",
      "Epoch  21 Batch   16/44   train_loss = 4.058\n",
      "Epoch  21 Batch   36/44   train_loss = 4.283\n",
      "Epoch  22 Batch   12/44   train_loss = 4.206\n",
      "Epoch  22 Batch   32/44   train_loss = 4.308\n",
      "Epoch  23 Batch    8/44   train_loss = 4.095\n",
      "Epoch  23 Batch   28/44   train_loss = 4.259\n",
      "Epoch  24 Batch    4/44   train_loss = 3.979\n",
      "Epoch  24 Batch   24/44   train_loss = 4.122\n",
      "Epoch  25 Batch    0/44   train_loss = 3.933\n",
      "Epoch  25 Batch   20/44   train_loss = 3.901\n",
      "Epoch  25 Batch   40/44   train_loss = 4.166\n",
      "Epoch  26 Batch   16/44   train_loss = 3.832\n",
      "Epoch  26 Batch   36/44   train_loss = 4.035\n",
      "Epoch  27 Batch   12/44   train_loss = 3.960\n",
      "Epoch  27 Batch   32/44   train_loss = 4.029\n",
      "Epoch  28 Batch    8/44   train_loss = 3.914\n",
      "Epoch  28 Batch   28/44   train_loss = 4.040\n",
      "Epoch  29 Batch    4/44   train_loss = 3.777\n",
      "Epoch  29 Batch   24/44   train_loss = 3.873\n",
      "Epoch  30 Batch    0/44   train_loss = 3.723\n",
      "Epoch  30 Batch   20/44   train_loss = 3.697\n",
      "Epoch  30 Batch   40/44   train_loss = 3.913\n",
      "Epoch  31 Batch   16/44   train_loss = 3.638\n",
      "Epoch  31 Batch   36/44   train_loss = 3.806\n",
      "Epoch  32 Batch   12/44   train_loss = 3.694\n",
      "Epoch  32 Batch   32/44   train_loss = 3.765\n",
      "Epoch  33 Batch    8/44   train_loss = 3.676\n",
      "Epoch  33 Batch   28/44   train_loss = 3.789\n",
      "Epoch  34 Batch    4/44   train_loss = 3.549\n",
      "Epoch  34 Batch   24/44   train_loss = 3.642\n",
      "Epoch  35 Batch    0/44   train_loss = 3.468\n",
      "Epoch  35 Batch   20/44   train_loss = 3.494\n",
      "Epoch  35 Batch   40/44   train_loss = 3.661\n",
      "Epoch  36 Batch   16/44   train_loss = 3.421\n",
      "Epoch  36 Batch   36/44   train_loss = 3.580\n",
      "Epoch  37 Batch   12/44   train_loss = 3.456\n",
      "Epoch  37 Batch   32/44   train_loss = 3.514\n",
      "Epoch  38 Batch    8/44   train_loss = 3.430\n",
      "Epoch  38 Batch   28/44   train_loss = 3.526\n",
      "Epoch  39 Batch    4/44   train_loss = 3.284\n",
      "Epoch  39 Batch   24/44   train_loss = 3.357\n",
      "Epoch  40 Batch    0/44   train_loss = 3.237\n",
      "Epoch  40 Batch   20/44   train_loss = 3.267\n",
      "Epoch  40 Batch   40/44   train_loss = 3.371\n",
      "Epoch  41 Batch   16/44   train_loss = 3.197\n",
      "Epoch  41 Batch   36/44   train_loss = 3.332\n",
      "Epoch  42 Batch   12/44   train_loss = 3.174\n",
      "Epoch  42 Batch   32/44   train_loss = 3.266\n",
      "Epoch  43 Batch    8/44   train_loss = 3.170\n",
      "Epoch  43 Batch   28/44   train_loss = 3.272\n",
      "Epoch  44 Batch    4/44   train_loss = 3.081\n",
      "Epoch  44 Batch   24/44   train_loss = 3.101\n",
      "Epoch  45 Batch    0/44   train_loss = 3.032\n",
      "Epoch  45 Batch   20/44   train_loss = 3.057\n",
      "Epoch  45 Batch   40/44   train_loss = 3.116\n",
      "Epoch  46 Batch   16/44   train_loss = 3.011\n",
      "Epoch  46 Batch   36/44   train_loss = 3.091\n",
      "Epoch  47 Batch   12/44   train_loss = 2.959\n",
      "Epoch  47 Batch   32/44   train_loss = 3.068\n",
      "Epoch  48 Batch    8/44   train_loss = 2.982\n",
      "Epoch  48 Batch   28/44   train_loss = 3.101\n",
      "Epoch  49 Batch    4/44   train_loss = 2.901\n",
      "Epoch  49 Batch   24/44   train_loss = 2.884\n",
      "Epoch  50 Batch    0/44   train_loss = 2.929\n",
      "Epoch  50 Batch   20/44   train_loss = 2.911\n",
      "Epoch  50 Batch   40/44   train_loss = 2.941\n",
      "Epoch  51 Batch   16/44   train_loss = 2.810\n",
      "Epoch  51 Batch   36/44   train_loss = 2.932\n",
      "Epoch  52 Batch   12/44   train_loss = 2.777\n",
      "Epoch  52 Batch   32/44   train_loss = 2.805\n",
      "Epoch  53 Batch    8/44   train_loss = 2.753\n",
      "Epoch  53 Batch   28/44   train_loss = 2.818\n",
      "Epoch  54 Batch    4/44   train_loss = 2.649\n",
      "Epoch  54 Batch   24/44   train_loss = 2.656\n",
      "Epoch  55 Batch    0/44   train_loss = 2.619\n",
      "Epoch  55 Batch   20/44   train_loss = 2.639\n",
      "Epoch  55 Batch   40/44   train_loss = 2.612\n",
      "Epoch  56 Batch   16/44   train_loss = 2.571\n",
      "Epoch  56 Batch   36/44   train_loss = 2.616\n",
      "Epoch  57 Batch   12/44   train_loss = 2.511\n",
      "Epoch  57 Batch   32/44   train_loss = 2.524\n",
      "Epoch  58 Batch    8/44   train_loss = 2.503\n",
      "Epoch  58 Batch   28/44   train_loss = 2.586\n",
      "Epoch  59 Batch    4/44   train_loss = 2.428\n",
      "Epoch  59 Batch   24/44   train_loss = 2.400\n",
      "Epoch  60 Batch    0/44   train_loss = 2.373\n",
      "Epoch  60 Batch   20/44   train_loss = 2.421\n",
      "Epoch  60 Batch   40/44   train_loss = 2.379\n",
      "Epoch  61 Batch   16/44   train_loss = 2.368\n",
      "Epoch  61 Batch   36/44   train_loss = 2.352\n",
      "Epoch  62 Batch   12/44   train_loss = 2.270\n",
      "Epoch  62 Batch   32/44   train_loss = 2.301\n",
      "Epoch  63 Batch    8/44   train_loss = 2.292\n",
      "Epoch  63 Batch   28/44   train_loss = 2.345\n",
      "Epoch  64 Batch    4/44   train_loss = 2.204\n",
      "Epoch  64 Batch   24/44   train_loss = 2.163\n",
      "Epoch  65 Batch    0/44   train_loss = 2.181\n",
      "Epoch  65 Batch   20/44   train_loss = 2.232\n",
      "Epoch  65 Batch   40/44   train_loss = 2.142\n",
      "Epoch  66 Batch   16/44   train_loss = 2.167\n",
      "Epoch  66 Batch   36/44   train_loss = 2.161\n",
      "Epoch  67 Batch   12/44   train_loss = 2.083\n",
      "Epoch  67 Batch   32/44   train_loss = 2.107\n",
      "Epoch  68 Batch    8/44   train_loss = 2.124\n",
      "Epoch  68 Batch   28/44   train_loss = 2.163\n",
      "Epoch  69 Batch    4/44   train_loss = 2.099\n",
      "Epoch  69 Batch   24/44   train_loss = 2.006\n",
      "Epoch  70 Batch    0/44   train_loss = 2.053\n",
      "Epoch  70 Batch   20/44   train_loss = 2.053\n",
      "Epoch  70 Batch   40/44   train_loss = 1.983\n",
      "Epoch  71 Batch   16/44   train_loss = 2.027\n",
      "Epoch  71 Batch   36/44   train_loss = 1.991\n",
      "Epoch  72 Batch   12/44   train_loss = 1.953\n",
      "Epoch  72 Batch   32/44   train_loss = 1.935\n",
      "Epoch  73 Batch    8/44   train_loss = 1.936\n",
      "Epoch  73 Batch   28/44   train_loss = 1.964\n",
      "Epoch  74 Batch    4/44   train_loss = 1.910\n",
      "Epoch  74 Batch   24/44   train_loss = 1.841\n",
      "Epoch  75 Batch    0/44   train_loss = 1.865\n",
      "Epoch  75 Batch   20/44   train_loss = 1.884\n",
      "Epoch  75 Batch   40/44   train_loss = 1.764\n",
      "Epoch  76 Batch   16/44   train_loss = 1.901\n",
      "Epoch  76 Batch   36/44   train_loss = 1.797\n",
      "Epoch  77 Batch   12/44   train_loss = 1.771\n",
      "Epoch  77 Batch   32/44   train_loss = 1.750\n",
      "Epoch  78 Batch    8/44   train_loss = 1.758\n",
      "Epoch  78 Batch   28/44   train_loss = 1.838\n",
      "Epoch  79 Batch    4/44   train_loss = 1.748\n",
      "Epoch  79 Batch   24/44   train_loss = 1.625\n",
      "Epoch  80 Batch    0/44   train_loss = 1.717\n",
      "Epoch  80 Batch   20/44   train_loss = 1.745\n",
      "Epoch  80 Batch   40/44   train_loss = 1.626\n",
      "Epoch  81 Batch   16/44   train_loss = 1.699\n",
      "Epoch  81 Batch   36/44   train_loss = 1.633\n",
      "Epoch  82 Batch   12/44   train_loss = 1.625\n",
      "Epoch  82 Batch   32/44   train_loss = 1.601\n",
      "Epoch  83 Batch    8/44   train_loss = 1.601\n",
      "Epoch  83 Batch   28/44   train_loss = 1.612\n",
      "Epoch  84 Batch    4/44   train_loss = 1.566\n",
      "Epoch  84 Batch   24/44   train_loss = 1.473\n",
      "Epoch  85 Batch    0/44   train_loss = 1.524\n",
      "Epoch  85 Batch   20/44   train_loss = 1.557\n",
      "Epoch  85 Batch   40/44   train_loss = 1.422\n",
      "Epoch  86 Batch   16/44   train_loss = 1.530\n",
      "Epoch  86 Batch   36/44   train_loss = 1.455\n",
      "Epoch  87 Batch   12/44   train_loss = 1.437\n",
      "Epoch  87 Batch   32/44   train_loss = 1.458\n",
      "Epoch  88 Batch    8/44   train_loss = 1.434\n",
      "Epoch  88 Batch   28/44   train_loss = 1.452\n",
      "Epoch  89 Batch    4/44   train_loss = 1.426\n",
      "Epoch  89 Batch   24/44   train_loss = 1.345\n",
      "Epoch  90 Batch    0/44   train_loss = 1.400\n",
      "Epoch  90 Batch   20/44   train_loss = 1.407\n",
      "Epoch  90 Batch   40/44   train_loss = 1.283\n",
      "Epoch  91 Batch   16/44   train_loss = 1.408\n",
      "Epoch  91 Batch   36/44   train_loss = 1.352\n",
      "Epoch  92 Batch   12/44   train_loss = 1.324\n",
      "Epoch  92 Batch   32/44   train_loss = 1.334\n",
      "Epoch  93 Batch    8/44   train_loss = 1.319\n",
      "Epoch  93 Batch   28/44   train_loss = 1.351\n",
      "Epoch  94 Batch    4/44   train_loss = 1.333\n",
      "Epoch  94 Batch   24/44   train_loss = 1.242\n",
      "Epoch  95 Batch    0/44   train_loss = 1.288\n",
      "Epoch  95 Batch   20/44   train_loss = 1.278\n",
      "Epoch  95 Batch   40/44   train_loss = 1.208\n",
      "Epoch  96 Batch   16/44   train_loss = 1.318\n",
      "Epoch  96 Batch   36/44   train_loss = 1.230\n",
      "Epoch  97 Batch   12/44   train_loss = 1.215\n",
      "Epoch  97 Batch   32/44   train_loss = 1.269\n",
      "Epoch  98 Batch    8/44   train_loss = 1.257\n",
      "Epoch  98 Batch   28/44   train_loss = 1.231\n",
      "Epoch  99 Batch    4/44   train_loss = 1.224\n",
      "Epoch  99 Batch   24/44   train_loss = 1.147\n",
      "Epoch 100 Batch    0/44   train_loss = 1.206\n",
      "Epoch 100 Batch   20/44   train_loss = 1.166\n",
      "Epoch 100 Batch   40/44   train_loss = 1.065\n",
      "Epoch 101 Batch   16/44   train_loss = 1.183\n",
      "Epoch 101 Batch   36/44   train_loss = 1.132\n",
      "Epoch 102 Batch   12/44   train_loss = 1.112\n",
      "Epoch 102 Batch   32/44   train_loss = 1.146\n",
      "Epoch 103 Batch    8/44   train_loss = 1.097\n",
      "Epoch 103 Batch   28/44   train_loss = 1.106\n",
      "Epoch 104 Batch    4/44   train_loss = 1.130\n",
      "Epoch 104 Batch   24/44   train_loss = 1.045\n",
      "Epoch 105 Batch    0/44   train_loss = 1.075\n",
      "Epoch 105 Batch   20/44   train_loss = 1.058\n",
      "Epoch 105 Batch   40/44   train_loss = 0.979\n",
      "Epoch 106 Batch   16/44   train_loss = 1.101\n",
      "Epoch 106 Batch   36/44   train_loss = 1.042\n",
      "Epoch 107 Batch   12/44   train_loss = 1.031\n",
      "Epoch 107 Batch   32/44   train_loss = 1.064\n",
      "Epoch 108 Batch    8/44   train_loss = 1.026\n",
      "Epoch 108 Batch   28/44   train_loss = 1.053\n",
      "Epoch 109 Batch    4/44   train_loss = 1.054\n",
      "Epoch 109 Batch   24/44   train_loss = 0.972\n",
      "Epoch 110 Batch    0/44   train_loss = 1.004\n",
      "Epoch 110 Batch   20/44   train_loss = 0.995\n",
      "Epoch 110 Batch   40/44   train_loss = 0.939\n",
      "Epoch 111 Batch   16/44   train_loss = 1.007\n",
      "Epoch 111 Batch   36/44   train_loss = 0.978\n",
      "Epoch 112 Batch   12/44   train_loss = 0.991\n",
      "Epoch 112 Batch   32/44   train_loss = 1.020\n",
      "Epoch 113 Batch    8/44   train_loss = 0.969\n",
      "Epoch 113 Batch   28/44   train_loss = 0.964\n",
      "Epoch 114 Batch    4/44   train_loss = 0.998\n",
      "Epoch 114 Batch   24/44   train_loss = 0.932\n",
      "Epoch 115 Batch    0/44   train_loss = 0.953\n",
      "Epoch 115 Batch   20/44   train_loss = 0.932\n",
      "Epoch 115 Batch   40/44   train_loss = 0.861\n",
      "Epoch 116 Batch   16/44   train_loss = 0.950\n",
      "Epoch 116 Batch   36/44   train_loss = 0.931\n",
      "Epoch 117 Batch   12/44   train_loss = 0.925\n",
      "Epoch 117 Batch   32/44   train_loss = 0.947\n",
      "Epoch 118 Batch    8/44   train_loss = 0.894\n",
      "Epoch 118 Batch   28/44   train_loss = 0.906\n",
      "Epoch 119 Batch    4/44   train_loss = 0.947\n",
      "Epoch 119 Batch   24/44   train_loss = 0.870\n",
      "Epoch 120 Batch    0/44   train_loss = 0.897\n",
      "Epoch 120 Batch   20/44   train_loss = 0.874\n",
      "Epoch 120 Batch   40/44   train_loss = 0.810\n",
      "Epoch 121 Batch   16/44   train_loss = 0.909\n",
      "Epoch 121 Batch   36/44   train_loss = 0.881\n",
      "Epoch 122 Batch   12/44   train_loss = 0.879\n",
      "Epoch 122 Batch   32/44   train_loss = 0.896\n",
      "Epoch 123 Batch    8/44   train_loss = 0.859\n",
      "Epoch 123 Batch   28/44   train_loss = 0.878\n",
      "Epoch 124 Batch    4/44   train_loss = 0.909\n",
      "Epoch 124 Batch   24/44   train_loss = 0.826\n",
      "Epoch 125 Batch    0/44   train_loss = 0.867\n",
      "Epoch 125 Batch   20/44   train_loss = 0.863\n",
      "Epoch 125 Batch   40/44   train_loss = 0.776\n",
      "Epoch 126 Batch   16/44   train_loss = 0.851\n",
      "Epoch 126 Batch   36/44   train_loss = 0.838\n",
      "Epoch 127 Batch   12/44   train_loss = 0.855\n",
      "Epoch 127 Batch   32/44   train_loss = 0.857\n",
      "Epoch 128 Batch    8/44   train_loss = 0.815\n",
      "Epoch 128 Batch   28/44   train_loss = 0.827\n",
      "Epoch 129 Batch    4/44   train_loss = 0.876\n",
      "Epoch 129 Batch   24/44   train_loss = 0.791\n",
      "Epoch 130 Batch    0/44   train_loss = 0.807\n",
      "Epoch 130 Batch   20/44   train_loss = 0.795\n",
      "Epoch 130 Batch   40/44   train_loss = 0.739\n",
      "Epoch 131 Batch   16/44   train_loss = 0.816\n",
      "Epoch 131 Batch   36/44   train_loss = 0.791\n",
      "Epoch 132 Batch   12/44   train_loss = 0.813\n",
      "Epoch 132 Batch   32/44   train_loss = 0.823\n",
      "Epoch 133 Batch    8/44   train_loss = 0.784\n",
      "Epoch 133 Batch   28/44   train_loss = 0.778\n",
      "Epoch 134 Batch    4/44   train_loss = 0.833\n",
      "Epoch 134 Batch   24/44   train_loss = 0.766\n",
      "Epoch 135 Batch    0/44   train_loss = 0.781\n",
      "Epoch 135 Batch   20/44   train_loss = 0.759\n",
      "Epoch 135 Batch   40/44   train_loss = 0.704\n",
      "Epoch 136 Batch   16/44   train_loss = 0.785\n",
      "Epoch 136 Batch   36/44   train_loss = 0.775\n",
      "Epoch 137 Batch   12/44   train_loss = 0.787\n",
      "Epoch 137 Batch   32/44   train_loss = 0.794\n",
      "Epoch 138 Batch    8/44   train_loss = 0.752\n",
      "Epoch 138 Batch   28/44   train_loss = 0.753\n",
      "Epoch 139 Batch    4/44   train_loss = 0.809\n",
      "Epoch 139 Batch   24/44   train_loss = 0.743\n",
      "Epoch 140 Batch    0/44   train_loss = 0.760\n",
      "Epoch 140 Batch   20/44   train_loss = 0.740\n",
      "Epoch 140 Batch   40/44   train_loss = 0.683\n",
      "Epoch 141 Batch   16/44   train_loss = 0.764\n",
      "Epoch 141 Batch   36/44   train_loss = 0.755\n",
      "Epoch 142 Batch   12/44   train_loss = 0.768\n",
      "Epoch 142 Batch   32/44   train_loss = 0.773\n",
      "Epoch 143 Batch    8/44   train_loss = 0.734\n",
      "Epoch 143 Batch   28/44   train_loss = 0.736\n",
      "Epoch 144 Batch    4/44   train_loss = 0.794\n",
      "Epoch 144 Batch   24/44   train_loss = 0.727\n",
      "Epoch 145 Batch    0/44   train_loss = 0.745\n",
      "Epoch 145 Batch   20/44   train_loss = 0.725\n",
      "Epoch 145 Batch   40/44   train_loss = 0.666\n",
      "Epoch 146 Batch   16/44   train_loss = 0.746\n",
      "Epoch 146 Batch   36/44   train_loss = 0.740\n",
      "Epoch 147 Batch   12/44   train_loss = 0.754\n",
      "Epoch 147 Batch   32/44   train_loss = 0.756\n",
      "Epoch 148 Batch    8/44   train_loss = 0.721\n",
      "Epoch 148 Batch   28/44   train_loss = 0.722\n",
      "Epoch 149 Batch    4/44   train_loss = 0.784\n",
      "Epoch 149 Batch   24/44   train_loss = 0.717\n",
      "Model Trained and Saved\n"
     ]
    }
   ],
   "source": [
    "\"\"\"\n",
    "DON'T MODIFY ANYTHING IN THIS CELL\n",
    "\"\"\"\n",
    "batches = get_batches(int_text, batch_size, seq_length)\n",
    "\n",
    "with tf.Session(graph=train_graph) as sess:\n",
    "    sess.run(tf.global_variables_initializer())\n",
    "\n",
    "    for epoch_i in range(num_epochs):\n",
    "        state = sess.run(initial_state, {input_text: batches[0][0]})\n",
    "                                         \n",
    "\n",
    "        for batch_i, (x, y) in enumerate(batches):\n",
    "            feed = {\n",
    "                input_text: x,\n",
    "                targets: y,\n",
    "                initial_state: state,\n",
    "                lr: learning_rate}\n",
    "            train_loss, state, _ = sess.run([cost, final_state, train_op], feed)\n",
    "\n",
    "            # Show every <show_every_n_batches> batches\n",
    "            if (epoch_i * len(batches) + batch_i) % show_every_n_batches == 0:\n",
    "                print('Epoch {:>3} Batch {:>4}/{}   train_loss = {:.3f}'.format(\n",
    "                    epoch_i,\n",
    "                    batch_i,\n",
    "                    len(batches),\n",
    "                    train_loss))\n",
    "\n",
    "    # Save Model\n",
    "    saver = tf.train.Saver()\n",
    "    saver.save(sess, save_dir)\n",
    "    print('Model Trained and Saved')"
   ]
  },
  {
   "cell_type": "markdown",
   "metadata": {
    "deletable": true,
    "editable": true
   },
   "source": [
    "## Save Parameters\n",
    "Save `seq_length` and `save_dir` for generating a new TV script."
   ]
  },
  {
   "cell_type": "code",
   "execution_count": 17,
   "metadata": {
    "collapsed": false,
    "deletable": true,
    "editable": true
   },
   "outputs": [],
   "source": [
    "\"\"\"\n",
    "DON'T MODIFY ANYTHING IN THIS CELL\n",
    "\"\"\"\n",
    "# Save parameters for checkpoint\n",
    "helper.save_params((seq_length, save_dir))"
   ]
  },
  {
   "cell_type": "markdown",
   "metadata": {
    "deletable": true,
    "editable": true
   },
   "source": [
    "# Checkpoint"
   ]
  },
  {
   "cell_type": "code",
   "execution_count": 18,
   "metadata": {
    "collapsed": false,
    "deletable": true,
    "editable": true
   },
   "outputs": [],
   "source": [
    "\"\"\"\n",
    "DON'T MODIFY ANYTHING IN THIS CELL\n",
    "\"\"\"\n",
    "import tensorflow as tf\n",
    "import numpy as np\n",
    "import helper\n",
    "import problem_unittests as tests\n",
    "\n",
    "_, vocab_to_int, int_to_vocab, token_dict = helper.load_preprocess()\n",
    "seq_length, load_dir = helper.load_params()"
   ]
  },
  {
   "cell_type": "markdown",
   "metadata": {
    "deletable": true,
    "editable": true
   },
   "source": [
    "## Implement Generate Functions\n",
    "### Get Tensors\n",
    "Get tensors from `loaded_graph` using the function [`get_tensor_by_name()`](https://www.tensorflow.org/api_docs/python/tf/Graph#get_tensor_by_name).  Get the tensors using the following names:\n",
    "- \"input:0\"\n",
    "- \"initial_state:0\"\n",
    "- \"final_state:0\"\n",
    "- \"probs:0\"\n",
    "\n",
    "Return the tensors in the following tuple `(InputTensor, InitialStateTensor, FinalStateTensor, ProbsTensor)` "
   ]
  },
  {
   "cell_type": "code",
   "execution_count": 19,
   "metadata": {
    "collapsed": false,
    "deletable": true,
    "editable": true
   },
   "outputs": [
    {
     "name": "stdout",
     "output_type": "stream",
     "text": [
      "Tests Passed\n"
     ]
    }
   ],
   "source": [
    "def get_tensors(loaded_graph):\n",
    "    \"\"\"\n",
    "    Get input, initial state, final state, and probabilities tensor from <loaded_graph>\n",
    "    :param loaded_graph: TensorFlow graph loaded from file\n",
    "    :return: Tuple (InputTensor, InitialStateTensor, FinalStateTensor, ProbsTensor)\n",
    "    \"\"\"\n",
    "    # TODO: Implement Function\n",
    "    \n",
    "    inputs = loaded_graph.get_tensor_by_name(\"input:0\")\n",
    "    initials = loaded_graph.get_tensor_by_name(\"initial_state:0\")\n",
    "    finals = loaded_graph.get_tensor_by_name(\"final_state:0\")\n",
    "    probs = loaded_graph.get_tensor_by_name(\"probs:0\")   \n",
    "    \n",
    "    return inputs, initials, finals, probs\n",
    "\n",
    "\n",
    "\"\"\"\n",
    "DON'T MODIFY ANYTHING IN THIS CELL THAT IS BELOW THIS LINE\n",
    "\"\"\"\n",
    "tests.test_get_tensors(get_tensors)"
   ]
  },
  {
   "cell_type": "markdown",
   "metadata": {
    "deletable": true,
    "editable": true
   },
   "source": [
    "### Choose Word\n",
    "Implement the `pick_word()` function to select the next word using `probabilities`."
   ]
  },
  {
   "cell_type": "code",
   "execution_count": 20,
   "metadata": {
    "collapsed": false,
    "deletable": true,
    "editable": true
   },
   "outputs": [
    {
     "name": "stdout",
     "output_type": "stream",
     "text": [
      "Tests Passed\n"
     ]
    }
   ],
   "source": [
    "def pick_word(probabilities, int_to_vocab):\n",
    "    \"\"\"\n",
    "    Pick the next word in the generated text\n",
    "    :param probabilities: Probabilites of the next word\n",
    "    :param int_to_vocab: Dictionary of word ids as the keys and words as the values\n",
    "    :return: String of the predicted word\n",
    "    \"\"\"\n",
    "    # TODO: Implement Function\n",
    "    # As suggested by the last reviewer - tuning randomness\n",
    "    #print(\"probabs:{}, - {}\".format(probabilities.shape, int_to_vocab[np.argmax(probabilities)]))\n",
    "    mostprobable = np.argsort(probabilities)\n",
    "    ret = np.random.choice(mostprobable[0:3],1, p=[0.4, 0.4, 0.2])\n",
    "    return int_to_vocab[ret[0]]\n",
    "\n",
    "\n",
    "\"\"\"\n",
    "DON'T MODIFY ANYTHING IN THIS CELL THAT IS BELOW THIS LINE\n",
    "\"\"\"\n",
    "tests.test_pick_word(pick_word)"
   ]
  },
  {
   "cell_type": "markdown",
   "metadata": {
    "deletable": true,
    "editable": true
   },
   "source": [
    "## Generate TV Script\n",
    "This will generate the TV script for you.  Set `gen_length` to the length of TV script you want to generate."
   ]
  },
  {
   "cell_type": "code",
   "execution_count": 21,
   "metadata": {
    "collapsed": false,
    "deletable": true,
    "editable": true
   },
   "outputs": [
    {
     "name": "stdout",
     "output_type": "stream",
     "text": [
      "moe_szyslak: ninety-eight falling sloe haikus de de de stillwater: believer whatsit whatsit whatsit citizens falling fictional spy de de veux believer whatsit whatsit dollface whatsit ding-a-ding-ding-a-ding-ding watching bag de presto: brockelstein au chauffeur whatsit slobbo au dory dory falling de citizens ninety-eight) falling sloe au lingus de veux ho-la au payin' ninety-eight haikus haikus haikus au sloe haikus au believer bide warn peaked haikus haikus calculate believer ditched au haikus au believer believer haikus haikus haikus believer check kearney's_dad: believer whatsit use inclination ho-la whatsit watching citizens falling falling los falling dory veux live au incarcerated sloe au de dory haikus ding-a-ding-ding-a-ding-ding ma'am haikus believer au celebrate falling haikus believer sloe celebrate au fictional believer spy haikus citizens dory falling au sloe sloe veux au incarcerated de de au believer ma'am celebrate whatsit whatsit whatsit single soir nordiques watching type haikus au payin' haikus haikus sloe sloe au de believer aggravazes au brockelstein simp-sonnnn mic slobbo haikus slobbo slobbo live citizens incarcerated haikus whatsit meant believer whatsit de ho-la de sloe live au haikus ma'am au haikus believer learned haikus au whatsit haikus sloe believer de believer spy haikus au de sloe haikus believer au dollface haikus de haikus believer\n"
     ]
    }
   ],
   "source": [
    "gen_length = 200\n",
    "# homer_simpson, moe_szyslak, or Barney_Gumble\n",
    "prime_word = 'moe_szyslak'\n",
    "\n",
    "\n",
    "\"\"\"\n",
    "DON'T MODIFY ANYTHING IN THIS CELL THAT IS BELOW THIS LINE\n",
    "\"\"\"\n",
    "loaded_graph = tf.Graph()\n",
    "with tf.Session(graph=loaded_graph) as sess:\n",
    "    # Load saved model\n",
    "    loader = tf.train.import_meta_graph(load_dir + '.meta')\n",
    "    loader.restore(sess, load_dir)\n",
    "\n",
    "    # Get Tensors from loaded model\n",
    "    input_text, initial_state, final_state, probs = get_tensors(loaded_graph)\n",
    "\n",
    "    # Sentences generation setup\n",
    "    gen_sentences = [prime_word + ':']\n",
    "    prev_state = sess.run(initial_state, {input_text: np.array([[1]])})\n",
    "\n",
    "    # Generate sentences\n",
    "    for n in range(gen_length):\n",
    "        # Dynamic Input\n",
    "        dyn_input = [[vocab_to_int[word] for word in gen_sentences[-seq_length:]]]\n",
    "        dyn_seq_length = len(dyn_input[0])\n",
    "\n",
    "        # Get Prediction\n",
    "        probabilities, prev_state = sess.run(\n",
    "            [probs, final_state],\n",
    "            {input_text: dyn_input, initial_state: prev_state})\n",
    "        \n",
    "        pred_word = pick_word(probabilities[dyn_seq_length-1], int_to_vocab)\n",
    "\n",
    "        gen_sentences.append(pred_word)\n",
    "    \n",
    "    # Remove tokens\n",
    "    tv_script = ' '.join(gen_sentences)\n",
    "    for key, token in token_dict.items():\n",
    "        ending = ' ' if key in ['\\n', '(', '\"'] else ''\n",
    "        tv_script = tv_script.replace(' ' + token.lower(), key)\n",
    "    tv_script = tv_script.replace('\\n ', '\\n')\n",
    "    tv_script = tv_script.replace('( ', '(')\n",
    "        \n",
    "    print(tv_script)"
   ]
  },
  {
   "cell_type": "markdown",
   "metadata": {
    "deletable": true,
    "editable": true
   },
   "source": [
    "# The TV Script is Nonsensical\n",
    "It's ok if the TV script doesn't make any sense.  We trained on less than a megabyte of text.  In order to get good results, you'll have to use a smaller vocabulary or get more data.  Luckly there's more data!  As we mentioned in the begging of this project, this is a subset of [another dataset](https://www.kaggle.com/wcukierski/the-simpsons-by-the-data).  We didn't have you train on all the data, because that would take too long.  However, you are free to train your neural network on all the data.  After you complete the project, of course.\n",
    "# Submitting This Project\n",
    "When submitting this project, make sure to run all the cells before saving the notebook. Save the notebook file as \"dlnd_tv_script_generation.ipynb\" and save it as a HTML file under \"File\" -> \"Download as\". Include the \"helper.py\" and \"problem_unittests.py\" files in your submission."
   ]
  },
  {
   "cell_type": "code",
   "execution_count": null,
   "metadata": {
    "collapsed": true,
    "deletable": true,
    "editable": true
   },
   "outputs": [],
   "source": []
  },
  {
   "cell_type": "code",
   "execution_count": null,
   "metadata": {
    "collapsed": true,
    "deletable": true,
    "editable": true
   },
   "outputs": [],
   "source": []
  },
  {
   "cell_type": "code",
   "execution_count": null,
   "metadata": {
    "collapsed": true,
    "deletable": true,
    "editable": true
   },
   "outputs": [],
   "source": [
    "\n"
   ]
  }
 ],
 "metadata": {
  "kernelspec": {
   "display_name": "Python 3",
   "language": "python",
   "name": "python3"
  },
  "language_info": {
   "codemirror_mode": {
    "name": "ipython",
    "version": 3
   },
   "file_extension": ".py",
   "mimetype": "text/x-python",
   "name": "python",
   "nbconvert_exporter": "python",
   "pygments_lexer": "ipython3",
   "version": "3.5.3"
  },
  "widgets": {
   "state": {},
   "version": "1.1.2"
  }
 },
 "nbformat": 4,
 "nbformat_minor": 0
}
