{
 "cells": [
  {
   "cell_type": "markdown",
   "metadata": {
    "deletable": true,
    "editable": true
   },
   "source": [
    "# TV Script Generation\n",
    "In this project, you'll generate your own [Simpsons](https://en.wikipedia.org/wiki/The_Simpsons) TV scripts using RNNs.  You'll be using part of the [Simpsons dataset](https://www.kaggle.com/wcukierski/the-simpsons-by-the-data) of scripts from 27 seasons.  The Neural Network you'll build will generate a new TV script for a scene at [Moe's Tavern](https://simpsonswiki.com/wiki/Moe's_Tavern).\n",
    "## Get the Data\n",
    "The data is already provided for you.  You'll be using a subset of the original dataset.  It consists of only the scenes in Moe's Tavern.  This doesn't include other versions of the tavern, like \"Moe's Cavern\", \"Flaming Moe's\", \"Uncle Moe's Family Feed-Bag\", etc.."
   ]
  },
  {
   "cell_type": "code",
   "execution_count": 1,
   "metadata": {
    "collapsed": false,
    "deletable": true,
    "editable": true
   },
   "outputs": [],
   "source": [
    "\"\"\"\n",
    "DON'T MODIFY ANYTHING IN THIS CELL\n",
    "\"\"\"\n",
    "import helper\n",
    "\n",
    "data_dir = './data/simpsons/moes_tavern_lines.txt'\n",
    "text = helper.load_data(data_dir)\n",
    "# Ignore notice, since we don't use it for analysing the data\n",
    "text = text[81:]"
   ]
  },
  {
   "cell_type": "markdown",
   "metadata": {
    "deletable": true,
    "editable": true
   },
   "source": [
    "## Explore the Data\n",
    "Play around with `view_sentence_range` to view different parts of the data."
   ]
  },
  {
   "cell_type": "code",
   "execution_count": 2,
   "metadata": {
    "collapsed": false,
    "deletable": true,
    "editable": true
   },
   "outputs": [
    {
     "name": "stdout",
     "output_type": "stream",
     "text": [
      "Dataset Stats\n",
      "Roughly the number of unique words: 11492\n",
      "Number of scenes: 262\n",
      "Average number of sentences in each scene: 15.248091603053435\n",
      "Number of lines: 4257\n",
      "Average number of words in each line: 11.50434578341555\n",
      "\n",
      "The sentences 8 to 100:\n",
      "\n",
      "\n",
      "Moe_Szyslak: Ah, isn't that nice. Now, there is a politician who cares.\n",
      "Barney_Gumble: If I ever vote, it'll be for him. (BELCH)\n",
      "\n",
      "\n",
      "Barney_Gumble: Hey Homer, how's your neighbor's store doing?\n",
      "Homer_Simpson: Lousy. He just sits there all day. He'd have a great job if he didn't own the place. (CHUCKLES)\n",
      "Moe_Szyslak: (STRUGGLING WITH CORKSCREW) Crummy right-handed corkscrews! What does he sell?\n",
      "Homer_Simpson: Uh, well actually, Moe...\n",
      "HOMER_(CONT'D: I dunno.\n",
      "\n",
      "\n",
      "Moe_Szyslak: Looks like this is the end.\n",
      "Barney_Gumble: That's all right. I couldn't have led a richer life.\n",
      "Barney_Gumble: So the next time somebody tells you county folk are good, honest people, you can spit in their faces for me!\n",
      "Lisa_Simpson: I will, Mr. Gumbel. But if you'll excuse me, I'm profiling my dad for the school paper. I thought it would be neat to follow him around for a day to see what makes him tick.\n",
      "Barney_Gumble: Oh, that's sweet. I used to follow my dad to a lot of bars too. (BELCH)\n",
      "Moe_Szyslak: Here you go. One beer, one chocolate milk.\n",
      "Lisa_Simpson: Uh, excuse me, I have the chocolate milk.\n",
      "Moe_Szyslak: Oh.\n",
      "Moe_Szyslak: What's the matter, Homer? The depressin' effects of alcohol usually don't kick in 'til closing time.\n",
      "Lisa_Simpson: He's just a little nervous. (PROUDLY) He has to give a speech tomorrow on \"How To Keep Cool In A Crisis.\"\n",
      "Homer_Simpson: (SOBS) What am I gonna do? What am I gonna do?\n",
      "Barney_Gumble: Hey, I had to give a speech once. I was pretty nervous, so I used a little trick. I pictured everyone in their underwear. The judge, the jury, my lawyer, everybody.\n",
      "Homer_Simpson: Did it work?\n",
      "Barney_Gumble: I'm a free man, ain't I?\n",
      "Barney_Gumble: Whoa!\n",
      "Barney_Gumble: Huh? A pretzel? Wow, looks like I pulled a Homer!\n",
      "\n",
      "\n",
      "Patrons: (MUMBLING, NOT IN UNISON) Happy thoughts... happy thoughts... we love that boy.\n",
      "Moe_Szyslak: (INTO PHONE) Moe's Tavern. Hold on, I'll check. ... (LOUD) Hey everybody! I'm a stupid moron with an ugly face and a big butt, and my butt smells, and I like to kiss my own butt.\n",
      "Barney_Gumble: That's a new one (LAUGHING).\n",
      "Moe_Szyslak: Now wait a minute...\n",
      "\n",
      "\n",
      "Homer_Simpson: Hurry, Moe, hurry! I've only got five minutes till the music store closes.\n",
      "Moe_Szyslak: Why don't you go there first?\n",
      "Homer_Simpson: Hey, do I tell you how to do your job?\n",
      "Moe_Szyslak: Sorry, Homer.\n",
      "Homer_Simpson: You know, if you tip the glass, there won't be so much foam on top.\n",
      "Moe_Szyslak: Sorry, Homer.\n",
      "Homer_Simpson: (LOOKING AT WATCH) Ah. Finished with fifteen seconds to spare.\n",
      "Little_Man: (CONCERNED) What's the matter, buddy?\n",
      "Homer_Simpson: The moron next door closed early!\n",
      "Little_Man: (STIFFENING) I happen to be that moron.\n",
      "Homer_Simpson: Oh, me and my trenchant mouth.\n",
      "Homer_Simpson: Please, you've got to open that store.\n",
      "Little_Man: Let me think about it... Eh... No.\n",
      "Homer_Simpson: Okay, okay. But I want you to see a picture of the little girl you're disappointing. (GOES THROUGH HIS WALLET) Well I don't have one.\n",
      "Moe_Szyslak: (TO LITTLE MAN) Come on, Jer. Open up. Be a pal. Remember when I pulled you and your wife out of that burning car?\n",
      "Little_Man: (GRUDGINGLY) Okay. Okay. But now we're even. (TO HOMER) So what does your daughter need?\n",
      "Homer_Simpson: (SMOOTHLY) I'll have you know, I wrote it down.\n",
      "Homer_Simpson: Number Four and a half -- Stupid gum!\n",
      "Homer_Simpson: Number Four and a Half reed! Whoo hoo!\n",
      "Little_Man: Uh-huh. And what instrument does she play?\n",
      "Homer_Simpson: (SUNK) I dunno.\n",
      "\n",
      "\n",
      "Moe_Szyslak: (TO PATRONS) Figure of speech.\n",
      "Moe_Szyslak: Hiya, Homer. (SIGHS)\n",
      "Homer_Simpson: What's the matter, Moe?\n",
      "Moe_Szyslak: Ah, business is slow. People today are healthier and drinking less. You know, if it wasn't for the Junior High school next door no one would even use the cigarette machine.\n",
      "Homer_Simpson: (MOUTH FULL) Yeah, things are tough all over.\n",
      "Moe_Szyslak: Increased job satisfaction and family togetherness are poison for a purveyor of mind-numbing intoxicants like myself.\n",
      "Homer_Simpson: Could I get a beer?\n",
      "Moe_Szyslak: Uh, yeah, sure.\n",
      "Moe_Szyslak: Oh sorry, I forgot we're out of beer.\n",
      "Moe_Szyslak: Yeah, I know, I got behind on my beer payments. The distributor cut me off and I spent my last ten grand on the \"Love Tester\".\n",
      "Moe_Szyslak: You're too late, Homer. Barney sucked it dry. Cut his gums up pretty bad.\n",
      "Moe_Szyslak: Take it easy, Homer. I learned how to make other drinks at Bartender's School.\n",
      "Moe_Szyslak: (UNFAMILIAR) Gin and... tonic? Do they mix?\n",
      "Homer_Simpson: (BRIGHTENING) Hey, I know a good drink. Really hits the spot. I invented it myself...\n",
      "Moe_Szyslak: Sorry, Harv.\n",
      "Moe_Szyslak: Whoa, sounds like one hell of a drink. What do you call it?\n",
      "Homer_Simpson: A \"Flaming Homer\".\n",
      "Moe_Szyslak: Okay, why don't you make us up a couple of \"Flaming Homers\"?\n",
      "Homer_Simpson: Hey Moe, you got any cough syrup?\n",
      "Moe_Szyslak: Uh, let me check the lost and found.\n",
      "Moe_Szyslak: What do we got here, Bowie knife, troll doll, glass eye...\n",
      "Moe_Szyslak: Oh. Here we are.\n",
      "Moe_Szyslak: It's not without its charm.\n",
      "Homer_Simpson: Try lighting it on fire.\n",
      "Moe_Szyslak: (SMILING) Whoa! Homer, it's like there's a party in my mouth and everyone's invited.\n",
      "Larry: Hey, your Love Tester's busted. I want my nickel back. (COUGHS)\n",
      "Moe_Szyslak: Hey, buddy. Have one on the house.\n",
      "Larry: Hey, hey, this drink is delicious! And my phlegm feels looser. What do you call it?\n",
      "Homer_Simpson: Well, it's called a \"Flaming...\n",
      "Moe_Szyslak: Moe! It's called a \"Flaming Moe\"! That's right, a \"Flaming Moe\". My name is Moe, and I invented it. That's why it's called a Flaming Moe. What? What are you lookin' at, Homer? It's a Flaming Moe I'm Moe.\n",
      "Barney_Gumble: Hey, what's this?\n",
      "Moe_Szyslak: A sneeze guard.\n"
     ]
    }
   ],
   "source": [
    "view_sentence_range = (8, 100)\n",
    "\n",
    "\"\"\"\n",
    "DON'T MODIFY ANYTHING IN THIS CELL\n",
    "\"\"\"\n",
    "import numpy as np\n",
    "\n",
    "print('Dataset Stats')\n",
    "print('Roughly the number of unique words: {}'.format(len({word: None for word in text.split()})))\n",
    "scenes = text.split('\\n\\n')\n",
    "print('Number of scenes: {}'.format(len(scenes)))\n",
    "sentence_count_scene = [scene.count('\\n') for scene in scenes]\n",
    "print('Average number of sentences in each scene: {}'.format(np.average(sentence_count_scene)))\n",
    "\n",
    "sentences = [sentence for scene in scenes for sentence in scene.split('\\n')]\n",
    "print('Number of lines: {}'.format(len(sentences)))\n",
    "word_count_sentence = [len(sentence.split()) for sentence in sentences]\n",
    "print('Average number of words in each line: {}'.format(np.average(word_count_sentence)))\n",
    "\n",
    "print()\n",
    "print('The sentences {} to {}:'.format(*view_sentence_range))\n",
    "print('\\n'.join(text.split('\\n')[view_sentence_range[0]:view_sentence_range[1]]))"
   ]
  },
  {
   "cell_type": "markdown",
   "metadata": {
    "deletable": true,
    "editable": true
   },
   "source": [
    "## Implement Preprocessing Functions\n",
    "The first thing to do to any dataset is preprocessing.  Implement the following preprocessing functions below:\n",
    "- Lookup Table\n",
    "- Tokenize Punctuation\n",
    "\n",
    "### Lookup Table\n",
    "To create a word embedding, you first need to transform the words to ids.  In this function, create two dictionaries:\n",
    "- Dictionary to go from the words to an id, we'll call `vocab_to_int`\n",
    "- Dictionary to go from the id to word, we'll call `int_to_vocab`\n",
    "\n",
    "Return these dictionaries in the following tuple `(vocab_to_int, int_to_vocab)`"
   ]
  },
  {
   "cell_type": "code",
   "execution_count": 3,
   "metadata": {
    "collapsed": false,
    "deletable": true,
    "editable": true
   },
   "outputs": [
    {
     "name": "stdout",
     "output_type": "stream",
     "text": [
      "Tests Passed\n"
     ]
    }
   ],
   "source": [
    "import numpy as np\n",
    "import problem_unittests as tests\n",
    "\n",
    "def create_lookup_tables(text):\n",
    "    \"\"\"\n",
    "    Create lookup tables for vocabulary\n",
    "    :param text: The text of tv scripts split into words\n",
    "    :return: A tuple of dicts (vocab_to_int, int_to_vocab)\n",
    "    \"\"\"\n",
    "    # TODO: Implement Function\n",
    "    words = set()\n",
    "    index_to_word = {}\n",
    "    word_to_index = {}\n",
    "    \n",
    "    for word in text:\n",
    "        words.add(word)\n",
    "    \n",
    "    for index, word in enumerate(words):\n",
    "        #print (word,index)\n",
    "        index_to_word[index] = word\n",
    "        word_to_index[word] = index\n",
    "        \n",
    "    return word_to_index, index_to_word\n",
    "\n",
    "\n",
    "\"\"\"\n",
    "DON'T MODIFY ANYTHING IN THIS CELL THAT IS BELOW THIS LINE\n",
    "\"\"\"\n",
    "tests.test_create_lookup_tables(create_lookup_tables)"
   ]
  },
  {
   "cell_type": "markdown",
   "metadata": {
    "deletable": true,
    "editable": true
   },
   "source": [
    "### Tokenize Punctuation\n",
    "We'll be splitting the script into a word array using spaces as delimiters.  However, punctuations like periods and exclamation marks make it hard for the neural network to distinguish between the word \"bye\" and \"bye!\".\n",
    "\n",
    "Implement the function `token_lookup` to return a dict that will be used to tokenize symbols like \"!\" into \"||Exclamation_Mark||\".  Create a dictionary for the following symbols where the symbol is the key and value is the token:\n",
    "- Period ( . )\n",
    "- Comma ( , )\n",
    "- Quotation Mark ( \" )\n",
    "- Semicolon ( ; )\n",
    "- Exclamation mark ( ! )\n",
    "- Question mark ( ? )\n",
    "- Left Parentheses ( ( )\n",
    "- Right Parentheses ( ) )\n",
    "- Dash ( -- )\n",
    "- Return ( \\n )\n",
    "\n",
    "This dictionary will be used to token the symbols and add the delimiter (space) around it.  This separates the symbols as it's own word, making it easier for the neural network to predict on the next word. Make sure you don't use a token that could be confused as a word. Instead of using the token \"dash\", try using something like \"||dash||\"."
   ]
  },
  {
   "cell_type": "code",
   "execution_count": 4,
   "metadata": {
    "collapsed": false,
    "deletable": true,
    "editable": true
   },
   "outputs": [
    {
     "name": "stdout",
     "output_type": "stream",
     "text": [
      "Tests Passed\n"
     ]
    }
   ],
   "source": [
    "def token_lookup():\n",
    "    \"\"\"\n",
    "    Generate a dict to turn punctuation into a token.\n",
    "    :return: Tokenize dictionary where the key is the punctuation and the value is the token\n",
    "    \"\"\"\n",
    "    # TODO: Implement Function\n",
    "    ret = {}\n",
    "    ret['.'] = \"||Period||\" #( . )\n",
    "    ret[','] = \"||Comma||\" #( , )\n",
    "    ret['\"'] = \"||Quotation_Mark||\" # ( \" )\n",
    "    ret[';'] = \"||Semicolon||\" #( ; )\n",
    "    ret['!'] = \"||Exclamation_mark||\" #( ! )\n",
    "    ret['?'] = \"||Question_mark||\" #( ? )\n",
    "    ret['('] = \"||Left_Parentheses||\" #( ( )\n",
    "    ret[')'] = \"||Right_Parentheses||\" #( ) )\n",
    "    ret['--'] = \"||Dash||\" # ( -- )\n",
    "    ret['\\n'] = \"||Return||\" # ( \\n )\n",
    "    \n",
    "    return ret\n",
    "\n",
    "\"\"\"\n",
    "DON'T MODIFY ANYTHING IN THIS CELL THAT IS BELOW THIS LINE\n",
    "\"\"\"\n",
    "tests.test_tokenize(token_lookup)"
   ]
  },
  {
   "cell_type": "markdown",
   "metadata": {
    "deletable": true,
    "editable": true
   },
   "source": [
    "## Preprocess all the data and save it\n",
    "Running the code cell below will preprocess all the data and save it to file."
   ]
  },
  {
   "cell_type": "code",
   "execution_count": 5,
   "metadata": {
    "collapsed": false,
    "deletable": true,
    "editable": true
   },
   "outputs": [],
   "source": [
    "\"\"\"\n",
    "DON'T MODIFY ANYTHING IN THIS CELL\n",
    "\"\"\"\n",
    "# Preprocess Training, Validation, and Testing Data\n",
    "helper.preprocess_and_save_data(data_dir, token_lookup, create_lookup_tables)"
   ]
  },
  {
   "cell_type": "markdown",
   "metadata": {
    "deletable": true,
    "editable": true
   },
   "source": [
    "# Check Point\n",
    "This is your first checkpoint. If you ever decide to come back to this notebook or have to restart the notebook, you can start from here. The preprocessed data has been saved to disk."
   ]
  },
  {
   "cell_type": "code",
   "execution_count": 6,
   "metadata": {
    "collapsed": false,
    "deletable": true,
    "editable": true
   },
   "outputs": [],
   "source": [
    "\"\"\"\n",
    "DON'T MODIFY ANYTHING IN THIS CELL\n",
    "\"\"\"\n",
    "import helper\n",
    "import numpy as np\n",
    "import problem_unittests as tests\n",
    "\n",
    "int_text, vocab_to_int, int_to_vocab, token_dict = helper.load_preprocess()"
   ]
  },
  {
   "cell_type": "markdown",
   "metadata": {
    "deletable": true,
    "editable": true
   },
   "source": [
    "## Build the Neural Network\n",
    "You'll build the components necessary to build a RNN by implementing the following functions below:\n",
    "- get_inputs\n",
    "- get_init_cell\n",
    "- get_embed\n",
    "- build_rnn\n",
    "- build_nn\n",
    "- get_batches\n",
    "\n",
    "### Check the Version of TensorFlow and Access to GPU"
   ]
  },
  {
   "cell_type": "code",
   "execution_count": 7,
   "metadata": {
    "collapsed": false,
    "deletable": true,
    "editable": true
   },
   "outputs": [
    {
     "name": "stdout",
     "output_type": "stream",
     "text": [
      "TensorFlow Version: 1.0.1\n",
      "Default GPU Device: /gpu:0\n"
     ]
    }
   ],
   "source": [
    "\"\"\"\n",
    "DON'T MODIFY ANYTHING IN THIS CELL\n",
    "\"\"\"\n",
    "from distutils.version import LooseVersion\n",
    "import warnings\n",
    "import tensorflow as tf\n",
    "\n",
    "# Check TensorFlow Version\n",
    "assert LooseVersion(tf.__version__) >= LooseVersion('1.0'), 'Please use TensorFlow version 1.0 or newer'\n",
    "print('TensorFlow Version: {}'.format(tf.__version__))\n",
    "\n",
    "# Check for a GPU\n",
    "if not tf.test.gpu_device_name():\n",
    "    warnings.warn('No GPU found. Please use a GPU to train your neural network.')\n",
    "else:\n",
    "    print('Default GPU Device: {}'.format(tf.test.gpu_device_name()))"
   ]
  },
  {
   "cell_type": "markdown",
   "metadata": {
    "deletable": true,
    "editable": true
   },
   "source": [
    "### Input\n",
    "Implement the `get_inputs()` function to create TF Placeholders for the Neural Network.  It should create the following placeholders:\n",
    "- Input text placeholder named \"input\" using the [TF Placeholder](https://www.tensorflow.org/api_docs/python/tf/placeholder) `name` parameter.\n",
    "- Targets placeholder\n",
    "- Learning Rate placeholder\n",
    "\n",
    "Return the placeholders in the following the tuple `(Input, Targets, LearingRate)`"
   ]
  },
  {
   "cell_type": "code",
   "execution_count": 8,
   "metadata": {
    "collapsed": false,
    "deletable": true,
    "editable": true
   },
   "outputs": [
    {
     "name": "stdout",
     "output_type": "stream",
     "text": [
      "Tests Passed\n"
     ]
    }
   ],
   "source": [
    "def get_inputs():\n",
    "    \"\"\"\n",
    "    Create TF Placeholders for input, targets, and learning rate.\n",
    "    :return: Tuple (input, targets, learning rate)\n",
    "    \"\"\"\n",
    "    # TODO: Implement Function\n",
    "    inputs        = tf.placeholder(tf.int32, [None, None ], name=\"input\")\n",
    "    targets       = tf.placeholder(tf.int32, [None, None ], name=\"targets\")\n",
    "    learning_rate = tf.placeholder(tf.float32, None, name=\"LearningRate\")\n",
    "    return inputs, targets, learning_rate\n",
    "\n",
    "\n",
    "\"\"\"\n",
    "DON'T MODIFY ANYTHING IN THIS CELL THAT IS BELOW THIS LINE\n",
    "\"\"\"\n",
    "tests.test_get_inputs(get_inputs)"
   ]
  },
  {
   "cell_type": "markdown",
   "metadata": {
    "deletable": true,
    "editable": true
   },
   "source": [
    "### Build RNN Cell and Initialize\n",
    "Stack one or more [`BasicLSTMCells`](https://www.tensorflow.org/api_docs/python/tf/contrib/rnn/BasicLSTMCell) in a [`MultiRNNCell`](https://www.tensorflow.org/api_docs/python/tf/contrib/rnn/MultiRNNCell).\n",
    "- The Rnn size should be set using `rnn_size`\n",
    "- Initalize Cell State using the MultiRNNCell's [`zero_state()`](https://www.tensorflow.org/api_docs/python/tf/contrib/rnn/MultiRNNCell#zero_state) function\n",
    "    - Apply the name \"initial_state\" to the initial state using [`tf.identity()`](https://www.tensorflow.org/api_docs/python/tf/identity)\n",
    "\n",
    "Return the cell and initial state in the following tuple `(Cell, InitialState)`"
   ]
  },
  {
   "cell_type": "code",
   "execution_count": 9,
   "metadata": {
    "collapsed": false,
    "deletable": true,
    "editable": true
   },
   "outputs": [
    {
     "name": "stdout",
     "output_type": "stream",
     "text": [
      "Tests Passed\n"
     ]
    }
   ],
   "source": [
    "def get_init_cell(batch_size, rnn_size):\n",
    "    \"\"\"\n",
    "    Create an RNN Cell and initialize it.\n",
    "    :param batch_size: Size of batches\n",
    "    :param rnn_size: Size of RNNs\n",
    "    :return: Tuple (cell, initialize state)\n",
    "    \"\"\"\n",
    "    # TODO: Implement Function\n",
    "    layer_count = 2\n",
    "    keep_prob = tf.constant(0.7,tf.float32, name=\"keep_prob\")\n",
    "    lstm = tf.contrib.rnn.BasicLSTMCell(rnn_size, state_is_tuple=True)\n",
    "    \n",
    "    dropout = tf.contrib.rnn.DropoutWrapper(lstm, output_keep_prob=keep_prob)\n",
    "    \n",
    "    cell = tf.contrib.rnn.MultiRNNCell([lstm]*layer_count, state_is_tuple=True)\n",
    "    initial_state = cell.zero_state( batch_size, tf.float32)\n",
    "    initial_state = tf.identity(initial_state, name=\"initial_state\" )\n",
    "    #_outputs, final_state = tf.nn.rnn(cell, rnn_inputs, initial_state=init_state) \n",
    "                                \n",
    "    return cell, initial_state\n",
    "\n",
    "\n",
    "\"\"\"\n",
    "DON'T MODIFY ANYTHING IN THIS CELL THAT IS BELOW THIS LINE\n",
    "\"\"\"\n",
    "tests.test_get_init_cell(get_init_cell)"
   ]
  },
  {
   "cell_type": "markdown",
   "metadata": {
    "deletable": true,
    "editable": true
   },
   "source": [
    "### Word Embedding\n",
    "Apply embedding to `input_data` using TensorFlow.  Return the embedded sequence."
   ]
  },
  {
   "cell_type": "code",
   "execution_count": 10,
   "metadata": {
    "collapsed": false,
    "deletable": true,
    "editable": true
   },
   "outputs": [
    {
     "name": "stdout",
     "output_type": "stream",
     "text": [
      "shape [50, 5, 256]\n",
      "Tests Passed\n"
     ]
    }
   ],
   "source": [
    "import random\n",
    "import math\n",
    "def get_embed(input_data, vocab_size, embed_dim):\n",
    "    \"\"\"\n",
    "    Create embedding for <input_data>.\n",
    "    :param input_data: TF placeholder for text input.\n",
    "    :param vocab_size: Number of words in vocabulary.\n",
    "    :param embed_dim: Number of embedding dimensions\n",
    "    :return: Embedded input.\n",
    "    \"\"\"\n",
    "    # TODO: Implement Function    \n",
    "    ret = tf.Variable(tf.truncated_normal((vocab_size, embed_dim), stddev=0.001))\n",
    "    ret = tf.nn.embedding_lookup(ret, input_data)\n",
    "    print(\"shape {}\".format(ret.get_shape().as_list()))\n",
    "    return ret\n",
    "\n",
    "\n",
    "\"\"\"\n",
    "DON'T MODIFY ANYTHING IN THIS CELL THAT IS BELOW THIS LINE\n",
    "\"\"\"\n",
    "tests.test_get_embed(get_embed)"
   ]
  },
  {
   "cell_type": "markdown",
   "metadata": {
    "deletable": true,
    "editable": true
   },
   "source": [
    "### Build RNN\n",
    "You created a RNN Cell in the `get_init_cell()` function.  Time to use the cell to create a RNN.\n",
    "- Build the RNN using the [`tf.nn.dynamic_rnn()`](https://www.tensorflow.org/api_docs/python/tf/nn/dynamic_rnn)\n",
    " - Apply the name \"final_state\" to the final state using [`tf.identity()`](https://www.tensorflow.org/api_docs/python/tf/identity)\n",
    "\n",
    "Return the outputs and final_state state in the following tuple `(Outputs, FinalState)` "
   ]
  },
  {
   "cell_type": "code",
   "execution_count": 11,
   "metadata": {
    "collapsed": false,
    "deletable": true,
    "editable": true
   },
   "outputs": [
    {
     "name": "stdout",
     "output_type": "stream",
     "text": [
      "Tests Passed\n"
     ]
    }
   ],
   "source": [
    "def build_rnn(cell, inputs):\n",
    "    \"\"\"\n",
    "    Create a RNN using a RNN Cell\n",
    "    :param cell: RNN Cell\n",
    "    :param inputs: Input text data\n",
    "    :return: Tuple (Outputs, Final State)\n",
    "    \"\"\"\n",
    "    # TODO: Implement Function\n",
    "    output, final_state = tf.nn.dynamic_rnn(cell, inputs, dtype = tf.float32)\n",
    "    final_state = tf.identity (final_state, \"final_state\")\n",
    "    return output, final_state\n",
    "\n",
    "\n",
    "\"\"\"\n",
    "DON'T MODIFY ANYTHING IN THIS CELL THAT IS BELOW THIS LINE\n",
    "\"\"\"\n",
    "tests.test_build_rnn(build_rnn)"
   ]
  },
  {
   "cell_type": "markdown",
   "metadata": {
    "deletable": true,
    "editable": true
   },
   "source": [
    "### Build the Neural Network\n",
    "Apply the functions you implemented above to:\n",
    "- Apply embedding to `input_data` using your `get_embed(input_data, vocab_size, embed_dim)` function.\n",
    "- Build RNN using `cell` and your `build_rnn(cell, inputs)` function.\n",
    "- Apply a fully connected layer with a linear activation and `vocab_size` as the number of outputs.\n",
    "\n",
    "Return the logits and final state in the following tuple (Logits, FinalState) "
   ]
  },
  {
   "cell_type": "code",
   "execution_count": 12,
   "metadata": {
    "collapsed": false,
    "deletable": true,
    "editable": true
   },
   "outputs": [
    {
     "name": "stdout",
     "output_type": "stream",
     "text": [
      "shape [128, 5, 256]\n",
      "build_nn embedded[128, 5, 256], out:[128, 5, 27], fin:[2, 2, None, 256]\n",
      "\n",
      "Tests Passed\n"
     ]
    }
   ],
   "source": [
    "def build_nn(cell, rnn_size, input_data, vocab_size):\n",
    "    \"\"\"\n",
    "    Build part of the neural network\n",
    "    :param cell: RNN cell\n",
    "    :param rnn_size: Size of rnns\n",
    "    :param input_data: Input data\n",
    "    :param vocab_size: Vocabulary size\n",
    "    :return: Tuple (Logits, FinalState)\n",
    "    \"\"\"\n",
    "    # TODO: Implement Function\n",
    "    embedded = get_embed(input_data, vocab_size, rnn_size)\n",
    "    out, fin = build_rnn(cell, embedded) \n",
    "    out = tf.contrib.layers.fully_connected(out,vocab_size)\n",
    "    \n",
    "    out_shape = out.get_shape().as_list() \n",
    "    print(\"build_nn embedded{}, out:{}, fin:{}\".format(embedded.get_shape().as_list(),out_shape, fin.get_shape().as_list()))\n",
    "    print()\n",
    "    return out, fin\n",
    "\n",
    "\n",
    "\"\"\"\n",
    "DON'T MODIFY ANYTHING IN THIS CELL THAT IS BELOW THIS LINE\n",
    "\"\"\"\n",
    "tests.test_build_nn(build_nn)"
   ]
  },
  {
   "cell_type": "markdown",
   "metadata": {
    "deletable": true,
    "editable": true
   },
   "source": [
    "### Batches\n",
    "Implement `get_batches` to create batches of input and targets using `int_text`.  The batches should be a Numpy array with the shape `(number of batches, 2, batch size, sequence length)`. Each batch contains two elements:\n",
    "- The first element is a single batch of **input** with the shape `[batch size, sequence length]`\n",
    "- The second element is a single batch of **targets** with the shape `[batch size, sequence length]`\n",
    "\n",
    "If you can't fill the last batch with enough data, drop the last batch.\n",
    "\n",
    "For exmple, `get_batches([1, 2, 3, 4, 5, 6, 7, 8, 9, 10, 11, 12, 13, 14, 15], 2, 3)` would return a Numpy array of the following:\n",
    "```\n",
    "[\n",
    "  # First Batch\n",
    "  [\n",
    "    # Batch of Input\n",
    "    [[ 1  2  3], [ 7  8  9]],\n",
    "    # Batch of targets\n",
    "    [[ 2  3  4], [ 8  9 10]]\n",
    "  ],\n",
    " \n",
    "  # Second Batch\n",
    "  [\n",
    "    # Batch of Input\n",
    "    [[ 4  5  6], [10 11 12]],\n",
    "    # Batch of targets\n",
    "    [[ 5  6  7], [11 12 13]]\n",
    "  ]\n",
    "]\n",
    "```"
   ]
  },
  {
   "cell_type": "code",
   "execution_count": 13,
   "metadata": {
    "collapsed": false,
    "deletable": true,
    "editable": true
   },
   "outputs": [
    {
     "name": "stdout",
     "output_type": "stream",
     "text": [
      "get_batches text:5128, batch:128, seq:5\n",
      "Tests Passed\n"
     ]
    }
   ],
   "source": [
    "def get_batches(int_text, batch_size, seq_length):\n",
    "    \"\"\"\n",
    "    Return batches of input and target\n",
    "    :param int_text: Text with the words replaced by their ids\n",
    "    :param batch_size: The s0ize of batch\n",
    "    :param seq_length: The length of sequence\n",
    "    :return: Batches as a Numpy array\n",
    "    \"\"\"\n",
    "    # TODO: Implement Function\n",
    "    text = int_text + int_text[:batch_size]\n",
    "    ret = []\n",
    "    half = int(0.5*seq_length)\n",
    "    text_len = len(text)\n",
    "    print (\"get_batches text:{}, batch:{}, seq:{}\".format(text_len, batch_size, seq_length))\n",
    "    batch=[]    \n",
    "    ret=[]\n",
    "    for i in range(0, len(int_text)+seq_length, seq_length):\n",
    "        seq = int_text[i:i+seq_length]\n",
    "        batch.append(seq)\n",
    "        \n",
    "    for i in range(0,int(len(batch)/batch_size)):\n",
    "        pos=batch_size*i\n",
    "        ret.append([batch[i:i+batch_size],batch[i:i+batch_size]])\n",
    "    ret = np.array(ret)\n",
    "    return ret\n",
    "\n",
    "\n",
    "\"\"\"\n",
    "DON'T MODIFY ANYTHING IN THIS CELL THAT IS BELOW THIS LINE\n",
    "\"\"\"\n",
    "tests.test_get_batches(get_batches)"
   ]
  },
  {
   "cell_type": "markdown",
   "metadata": {
    "deletable": true,
    "editable": true
   },
   "source": [
    "## Neural Network Training\n",
    "### Hyperparameters\n",
    "Tune the following parameters:\n",
    "\n",
    "- Set `num_epochs` to the number of epochs.\n",
    "- Set `batch_size` to the batch size.\n",
    "- Set `rnn_size` to the size of the RNNs.\n",
    "- Set `seq_length` to the length of sequence.\n",
    "- Set `learning_rate` to the learning rate.\n",
    "- Set `show_every_n_batches` to the number of batches the neural network should print progress."
   ]
  },
  {
   "cell_type": "code",
   "execution_count": 14,
   "metadata": {
    "collapsed": false,
    "deletable": true,
    "editable": true
   },
   "outputs": [],
   "source": [
    "# Number of Epochs\n",
    "num_epochs = 3000\n",
    "# Batch Size\n",
    "batch_size = 2048#6779\n",
    "# RNN Size\n",
    "rnn_size = 512\n",
    "# Sequence Length\n",
    "seq_length = 16\n",
    "learning_rate = 0.00012\n",
    "\"\"\"\n",
    "                100      inf\n",
    "    0.0012 --  1.666       860-1210: 1.259\n",
    "    0.00012 -- 5.878      1920-2190: 1.070\n",
    "    0.000012   7.4             3000: 2.107\n",
    "    0.00012 -- 6.047     -- embedding w truncated normal.\n",
    "\"\"\"\n",
    "# Show stats for every n number of batches\n",
    "show_every_n_batches = 20\n",
    "\"\"\"\n",
    "DON'T MODIFY ANYTHING IN THIS CELL THAT IS BELOW THIS LINE\n",
    "\"\"\"\n",
    "save_dir = './save'"
   ]
  },
  {
   "cell_type": "markdown",
   "metadata": {
    "deletable": true,
    "editable": true
   },
   "source": [
    "### Build the Graph\n",
    "Build the graph using the neural network you implemented."
   ]
  },
  {
   "cell_type": "code",
   "execution_count": 15,
   "metadata": {
    "collapsed": false,
    "deletable": true,
    "editable": true
   },
   "outputs": [
    {
     "name": "stdout",
     "output_type": "stream",
     "text": [
      "shape [None, None, 512]\n",
      "build_nn embedded[None, None, 512], out:[None, None, 6779], fin:[2, 2, None, 512]\n",
      "\n"
     ]
    }
   ],
   "source": [
    "\"\"\"\n",
    "DON'T MODIFY ANYTHING IN THIS CELL\n",
    "\"\"\"\n",
    "from tensorflow.contrib import seq2seq\n",
    "\n",
    "train_graph = tf.Graph()\n",
    "with train_graph.as_default():\n",
    "    vocab_size = len(int_to_vocab)\n",
    "    input_text, targets, lr = get_inputs()\n",
    "    input_data_shape = tf.shape(input_text)\n",
    "    cell, initial_state = get_init_cell(input_data_shape[0], rnn_size)\n",
    "    logits, final_state = build_nn(cell, rnn_size, input_text, vocab_size)\n",
    "\n",
    "    # Probabilities for generating words\n",
    "    probs = tf.nn.softmax(logits, name='probs')\n",
    "\n",
    "    # Loss function\n",
    "    cost = seq2seq.sequence_loss(\n",
    "        logits,\n",
    "        targets,\n",
    "        tf.ones([input_data_shape[0], input_data_shape[1]]))\n",
    "\n",
    "    # Optimizer\n",
    "    optimizer = tf.train.AdamOptimizer(lr)\n",
    "\n",
    "    # Gradient Clipping\n",
    "    gradients = optimizer.compute_gradients(cost)\n",
    "    capped_gradients = [(tf.clip_by_value(grad, -1., 1.), var) for grad, var in gradients]\n",
    "    train_op = optimizer.apply_gradients(capped_gradients)"
   ]
  },
  {
   "cell_type": "markdown",
   "metadata": {
    "deletable": true,
    "editable": true
   },
   "source": [
    "## Train\n",
    "Train the neural network on the preprocessed data.  If you have a hard time getting a good loss, check the [forms](https://discussions.udacity.com/) to see if anyone is having the same problem."
   ]
  },
  {
   "cell_type": "code",
   "execution_count": 16,
   "metadata": {
    "collapsed": false,
    "deletable": true,
    "editable": true,
    "scrolled": false
   },
   "outputs": [
    {
     "name": "stdout",
     "output_type": "stream",
     "text": [
      "get_batches text:71148, batch:2048, seq:16\n",
      "Epoch   0 Batch    0/2   train_loss = 8.822\n",
      "Epoch  10 Batch    0/2   train_loss = 8.778\n",
      "Epoch  20 Batch    0/2   train_loss = 7.492\n",
      "Epoch  30 Batch    0/2   train_loss = 6.569\n",
      "Epoch  40 Batch    0/2   train_loss = 6.300\n",
      "Epoch  50 Batch    0/2   train_loss = 6.211\n",
      "Epoch  60 Batch    0/2   train_loss = 6.161\n",
      "Epoch  70 Batch    0/2   train_loss = 6.124\n",
      "Epoch  80 Batch    0/2   train_loss = 6.093\n",
      "Epoch  90 Batch    0/2   train_loss = 6.068\n",
      "Epoch 100 Batch    0/2   train_loss = 6.047\n",
      "Epoch 110 Batch    0/2   train_loss = 6.030\n",
      "Epoch 120 Batch    0/2   train_loss = 6.016\n",
      "Epoch 130 Batch    0/2   train_loss = 6.003\n",
      "Epoch 140 Batch    0/2   train_loss = 5.991\n",
      "Epoch 150 Batch    0/2   train_loss = 5.980\n",
      "Epoch 160 Batch    0/2   train_loss = 5.968\n",
      "Epoch 170 Batch    0/2   train_loss = 5.956\n",
      "Epoch 180 Batch    0/2   train_loss = 5.945\n",
      "Epoch 190 Batch    0/2   train_loss = 5.934\n",
      "Epoch 200 Batch    0/2   train_loss = 5.923\n",
      "Epoch 210 Batch    0/2   train_loss = 5.914\n",
      "Epoch 220 Batch    0/2   train_loss = 5.905\n",
      "Epoch 230 Batch    0/2   train_loss = 5.898\n",
      "Epoch 240 Batch    0/2   train_loss = 5.892\n",
      "Epoch 250 Batch    0/2   train_loss = 5.887\n",
      "Epoch 260 Batch    0/2   train_loss = 5.884\n",
      "Epoch 270 Batch    0/2   train_loss = 5.881\n",
      "Epoch 280 Batch    0/2   train_loss = 5.879\n",
      "Epoch 290 Batch    0/2   train_loss = 5.876\n",
      "Epoch 300 Batch    0/2   train_loss = 5.875\n",
      "Epoch 310 Batch    0/2   train_loss = 5.873\n",
      "Epoch 320 Batch    0/2   train_loss = 5.871\n",
      "Epoch 330 Batch    0/2   train_loss = 5.870\n",
      "Epoch 340 Batch    0/2   train_loss = 5.868\n",
      "Epoch 350 Batch    0/2   train_loss = 5.867\n",
      "Epoch 360 Batch    0/2   train_loss = 5.866\n",
      "Epoch 370 Batch    0/2   train_loss = 5.864\n",
      "Epoch 380 Batch    0/2   train_loss = 5.862\n",
      "Epoch 390 Batch    0/2   train_loss = 5.861\n",
      "Epoch 400 Batch    0/2   train_loss = 5.859\n",
      "Epoch 410 Batch    0/2   train_loss = 5.857\n",
      "Epoch 420 Batch    0/2   train_loss = 5.855\n",
      "Epoch 430 Batch    0/2   train_loss = 5.850\n",
      "Epoch 440 Batch    0/2   train_loss = 5.844\n",
      "Epoch 450 Batch    0/2   train_loss = 5.835\n",
      "Epoch 460 Batch    0/2   train_loss = 5.819\n",
      "Epoch 470 Batch    0/2   train_loss = 5.800\n",
      "Epoch 480 Batch    0/2   train_loss = 5.780\n",
      "Epoch 490 Batch    0/2   train_loss = 5.757\n",
      "Epoch 500 Batch    0/2   train_loss = 5.735\n",
      "Epoch 510 Batch    0/2   train_loss = 5.716\n",
      "Epoch 520 Batch    0/2   train_loss = 5.697\n",
      "Epoch 530 Batch    0/2   train_loss = 5.676\n",
      "Epoch 540 Batch    0/2   train_loss = 5.654\n",
      "Epoch 550 Batch    0/2   train_loss = 5.636\n",
      "Epoch 560 Batch    0/2   train_loss = 5.620\n",
      "Epoch 570 Batch    0/2   train_loss = 5.605\n",
      "Epoch 580 Batch    0/2   train_loss = 5.590\n",
      "Epoch 590 Batch    0/2   train_loss = 5.567\n",
      "Epoch 600 Batch    0/2   train_loss = 5.550\n",
      "Epoch 610 Batch    0/2   train_loss = 5.535\n",
      "Epoch 620 Batch    0/2   train_loss = 5.521\n",
      "Epoch 630 Batch    0/2   train_loss = 5.505\n",
      "Epoch 640 Batch    0/2   train_loss = 5.492\n",
      "Epoch 650 Batch    0/2   train_loss = 5.478\n",
      "Epoch 660 Batch    0/2   train_loss = 5.464\n",
      "Epoch 670 Batch    0/2   train_loss = 5.450\n",
      "Epoch 680 Batch    0/2   train_loss = 5.438\n",
      "Epoch 690 Batch    0/2   train_loss = 5.426\n",
      "Epoch 700 Batch    0/2   train_loss = 5.412\n",
      "Epoch 710 Batch    0/2   train_loss = 5.398\n",
      "Epoch 720 Batch    0/2   train_loss = 5.379\n",
      "Epoch 730 Batch    0/2   train_loss = 5.352\n",
      "Epoch 740 Batch    0/2   train_loss = 5.319\n",
      "Epoch 750 Batch    0/2   train_loss = 5.276\n",
      "Epoch 760 Batch    0/2   train_loss = 5.229\n",
      "Epoch 770 Batch    0/2   train_loss = 5.173\n",
      "Epoch 780 Batch    0/2   train_loss = 5.112\n",
      "Epoch 790 Batch    0/2   train_loss = 5.048\n",
      "Epoch 800 Batch    0/2   train_loss = 4.977\n",
      "Epoch 810 Batch    0/2   train_loss = 4.900\n",
      "Epoch 820 Batch    0/2   train_loss = 4.817\n",
      "Epoch 830 Batch    0/2   train_loss = 4.734\n",
      "Epoch 840 Batch    0/2   train_loss = 4.659\n",
      "Epoch 850 Batch    0/2   train_loss = 4.590\n",
      "Epoch 860 Batch    0/2   train_loss = 4.527\n",
      "Epoch 870 Batch    0/2   train_loss = 4.470\n",
      "Epoch 880 Batch    0/2   train_loss = 4.416\n",
      "Epoch 890 Batch    0/2   train_loss = 4.366\n",
      "Epoch 900 Batch    0/2   train_loss = 4.318\n",
      "Epoch 910 Batch    0/2   train_loss = 4.270\n",
      "Epoch 920 Batch    0/2   train_loss = 4.226\n",
      "Epoch 930 Batch    0/2   train_loss = 4.182\n",
      "Epoch 940 Batch    0/2   train_loss = 4.136\n",
      "Epoch 950 Batch    0/2   train_loss = 4.093\n",
      "Epoch 960 Batch    0/2   train_loss = 4.051\n",
      "Epoch 970 Batch    0/2   train_loss = 4.008\n",
      "Epoch 980 Batch    0/2   train_loss = 3.966\n",
      "Epoch 990 Batch    0/2   train_loss = 3.928\n",
      "Epoch 1000 Batch    0/2   train_loss = 3.890\n",
      "Epoch 1010 Batch    0/2   train_loss = 3.854\n",
      "Epoch 1020 Batch    0/2   train_loss = 3.820\n",
      "Epoch 1030 Batch    0/2   train_loss = 3.787\n",
      "Epoch 1040 Batch    0/2   train_loss = 3.748\n",
      "Epoch 1050 Batch    0/2   train_loss = 3.714\n",
      "Epoch 1060 Batch    0/2   train_loss = 3.682\n",
      "Epoch 1070 Batch    0/2   train_loss = 3.649\n",
      "Epoch 1080 Batch    0/2   train_loss = 3.618\n",
      "Epoch 1090 Batch    0/2   train_loss = 3.587\n",
      "Epoch 1100 Batch    0/2   train_loss = 3.558\n",
      "Epoch 1110 Batch    0/2   train_loss = 3.528\n",
      "Epoch 1120 Batch    0/2   train_loss = 3.500\n",
      "Epoch 1130 Batch    0/2   train_loss = 3.472\n",
      "Epoch 1140 Batch    0/2   train_loss = 3.444\n",
      "Epoch 1150 Batch    0/2   train_loss = 3.418\n",
      "Epoch 1160 Batch    0/2   train_loss = 3.392\n",
      "Epoch 1170 Batch    0/2   train_loss = 3.366\n",
      "Epoch 1180 Batch    0/2   train_loss = 3.341\n",
      "Epoch 1190 Batch    0/2   train_loss = 3.316\n",
      "Epoch 1200 Batch    0/2   train_loss = 3.290\n",
      "Epoch 1210 Batch    0/2   train_loss = 3.265\n",
      "Epoch 1220 Batch    0/2   train_loss = 3.242\n",
      "Epoch 1230 Batch    0/2   train_loss = 3.219\n",
      "Epoch 1240 Batch    0/2   train_loss = 3.196\n",
      "Epoch 1250 Batch    0/2   train_loss = 3.173\n",
      "Epoch 1260 Batch    0/2   train_loss = 3.150\n",
      "Epoch 1270 Batch    0/2   train_loss = 3.127\n",
      "Epoch 1280 Batch    0/2   train_loss = 3.104\n",
      "Epoch 1290 Batch    0/2   train_loss = 3.080\n",
      "Epoch 1300 Batch    0/2   train_loss = 3.057\n",
      "Epoch 1310 Batch    0/2   train_loss = 3.032\n",
      "Epoch 1320 Batch    0/2   train_loss = 3.006\n",
      "Epoch 1330 Batch    0/2   train_loss = 2.981\n",
      "Epoch 1340 Batch    0/2   train_loss = 2.954\n",
      "Epoch 1350 Batch    0/2   train_loss = 2.928\n",
      "Epoch 1360 Batch    0/2   train_loss = 2.902\n",
      "Epoch 1370 Batch    0/2   train_loss = 2.877\n",
      "Epoch 1380 Batch    0/2   train_loss = 2.851\n",
      "Epoch 1390 Batch    0/2   train_loss = 2.825\n",
      "Epoch 1400 Batch    0/2   train_loss = 2.798\n",
      "Epoch 1410 Batch    0/2   train_loss = 2.771\n",
      "Epoch 1420 Batch    0/2   train_loss = 2.744\n",
      "Epoch 1430 Batch    0/2   train_loss = 2.718\n",
      "Epoch 1440 Batch    0/2   train_loss = 2.691\n",
      "Epoch 1450 Batch    0/2   train_loss = 2.663\n",
      "Epoch 1460 Batch    0/2   train_loss = 2.633\n",
      "Epoch 1470 Batch    0/2   train_loss = 2.602\n",
      "Epoch 1480 Batch    0/2   train_loss = 2.570\n",
      "Epoch 1490 Batch    0/2   train_loss = 2.538\n",
      "Epoch 1500 Batch    0/2   train_loss = 2.507\n",
      "Epoch 1510 Batch    0/2   train_loss = 2.478\n",
      "Epoch 1520 Batch    0/2   train_loss = 2.448\n",
      "Epoch 1530 Batch    0/2   train_loss = 2.418\n",
      "Epoch 1540 Batch    0/2   train_loss = 2.388\n",
      "Epoch 1550 Batch    0/2   train_loss = 2.358\n",
      "Epoch 1560 Batch    0/2   train_loss = 2.327\n",
      "Epoch 1570 Batch    0/2   train_loss = 2.294\n",
      "Epoch 1580 Batch    0/2   train_loss = 2.261\n",
      "Epoch 1590 Batch    0/2   train_loss = 2.228\n",
      "Epoch 1600 Batch    0/2   train_loss = 2.194\n",
      "Epoch 1610 Batch    0/2   train_loss = 2.159\n",
      "Epoch 1620 Batch    0/2   train_loss = 2.123\n",
      "Epoch 1630 Batch    0/2   train_loss = 2.088\n",
      "Epoch 1640 Batch    0/2   train_loss = 2.051\n",
      "Epoch 1650 Batch    0/2   train_loss = 2.014\n",
      "Epoch 1660 Batch    0/2   train_loss = 1.977\n",
      "Epoch 1670 Batch    0/2   train_loss = 1.940\n",
      "Epoch 1680 Batch    0/2   train_loss = 1.902\n",
      "Epoch 1690 Batch    0/2   train_loss = 1.865\n",
      "Epoch 1700 Batch    0/2   train_loss = 1.828\n",
      "Epoch 1710 Batch    0/2   train_loss = 1.792\n",
      "Epoch 1720 Batch    0/2   train_loss = 1.757\n",
      "Epoch 1730 Batch    0/2   train_loss = 1.723\n",
      "Epoch 1740 Batch    0/2   train_loss = 1.688\n",
      "Epoch 1750 Batch    0/2   train_loss = 1.653\n",
      "Epoch 1760 Batch    0/2   train_loss = 1.618\n",
      "Epoch 1770 Batch    0/2   train_loss = 1.583\n",
      "Epoch 1780 Batch    0/2   train_loss = 1.548\n",
      "Epoch 1790 Batch    0/2   train_loss = 1.514\n",
      "Epoch 1800 Batch    0/2   train_loss = 1.480\n",
      "Epoch 1810 Batch    0/2   train_loss = 1.448\n",
      "Epoch 1820 Batch    0/2   train_loss = 1.417\n",
      "Epoch 1830 Batch    0/2   train_loss = 1.387\n",
      "Epoch 1840 Batch    0/2   train_loss = 1.360\n",
      "Epoch 1850 Batch    0/2   train_loss = 1.335\n",
      "Epoch 1860 Batch    0/2   train_loss = 1.312\n",
      "Epoch 1870 Batch    0/2   train_loss = 1.290\n",
      "Epoch 1880 Batch    0/2   train_loss = 1.270\n",
      "Epoch 1890 Batch    0/2   train_loss = 1.252\n",
      "Epoch 1900 Batch    0/2   train_loss = 1.235\n",
      "Epoch 1910 Batch    0/2   train_loss = 1.219\n",
      "Epoch 1920 Batch    0/2   train_loss = 1.202\n",
      "Epoch 1930 Batch    0/2   train_loss = 1.187\n",
      "Epoch 1940 Batch    0/2   train_loss = 1.173\n",
      "Epoch 1950 Batch    0/2   train_loss = 1.160\n",
      "Epoch 1960 Batch    0/2   train_loss = 1.148\n",
      "Epoch 1970 Batch    0/2   train_loss = 1.136\n",
      "Epoch 1980 Batch    0/2   train_loss = 1.126\n",
      "Epoch 1990 Batch    0/2   train_loss = 1.116\n",
      "Epoch 2000 Batch    0/2   train_loss = 1.107\n",
      "Epoch 2010 Batch    0/2   train_loss = 1.099\n",
      "Epoch 2020 Batch    0/2   train_loss = 1.091\n",
      "Epoch 2030 Batch    0/2   train_loss = 1.084\n",
      "Epoch 2040 Batch    0/2   train_loss = 1.077\n",
      "Epoch 2050 Batch    0/2   train_loss = 1.071\n",
      "Epoch 2060 Batch    0/2   train_loss = 1.065\n",
      "Epoch 2070 Batch    0/2   train_loss = 1.059\n",
      "Epoch 2080 Batch    0/2   train_loss = 1.054\n",
      "Epoch 2090 Batch    0/2   train_loss = 1.048\n",
      "Epoch 2100 Batch    0/2   train_loss = 1.044\n",
      "Epoch 2110 Batch    0/2   train_loss = 1.039\n",
      "Epoch 2120 Batch    0/2   train_loss = 1.034\n",
      "Epoch 2130 Batch    0/2   train_loss = 1.030\n",
      "Epoch 2140 Batch    0/2   train_loss = 1.026\n",
      "Epoch 2150 Batch    0/2   train_loss = 1.022\n",
      "Epoch 2160 Batch    0/2   train_loss = 1.018\n",
      "Epoch 2170 Batch    0/2   train_loss = 1.015\n",
      "Epoch 2180 Batch    0/2   train_loss = 1.012\n",
      "Epoch 2190 Batch    0/2   train_loss = 1.009\n",
      "Epoch 2200 Batch    0/2   train_loss = 1.006\n",
      "Epoch 2210 Batch    0/2   train_loss = 1.004\n",
      "Epoch 2220 Batch    0/2   train_loss = 1.002\n",
      "Epoch 2230 Batch    0/2   train_loss = 0.999\n",
      "Epoch 2240 Batch    0/2   train_loss = 0.997\n",
      "Epoch 2250 Batch    0/2   train_loss = 0.996\n",
      "Epoch 2260 Batch    0/2   train_loss = 0.994\n",
      "Epoch 2270 Batch    0/2   train_loss = 0.992\n",
      "Epoch 2280 Batch    0/2   train_loss = 0.991\n",
      "Epoch 2290 Batch    0/2   train_loss = 0.990\n",
      "Epoch 2300 Batch    0/2   train_loss = 0.988\n",
      "Epoch 2310 Batch    0/2   train_loss = 0.987\n",
      "Epoch 2320 Batch    0/2   train_loss = 0.986\n",
      "Epoch 2330 Batch    0/2   train_loss = 0.985\n",
      "Epoch 2340 Batch    0/2   train_loss = 0.984\n",
      "Epoch 2350 Batch    0/2   train_loss = 0.983\n",
      "Epoch 2360 Batch    0/2   train_loss = 0.982\n",
      "Epoch 2370 Batch    0/2   train_loss = 0.982\n",
      "Epoch 2380 Batch    0/2   train_loss = 0.981\n",
      "Epoch 2390 Batch    0/2   train_loss = 0.980\n",
      "Epoch 2400 Batch    0/2   train_loss = 0.979\n",
      "Epoch 2410 Batch    0/2   train_loss = 0.979\n",
      "Epoch 2420 Batch    0/2   train_loss = 0.978\n",
      "Epoch 2430 Batch    0/2   train_loss = 0.977\n",
      "Epoch 2440 Batch    0/2   train_loss = 0.977\n",
      "Epoch 2450 Batch    0/2   train_loss = 0.976\n",
      "Epoch 2460 Batch    0/2   train_loss = 0.976\n",
      "Epoch 2470 Batch    0/2   train_loss = 0.975\n",
      "Epoch 2480 Batch    0/2   train_loss = 0.975\n",
      "Epoch 2490 Batch    0/2   train_loss = 0.974\n",
      "Epoch 2500 Batch    0/2   train_loss = 0.974\n",
      "Epoch 2510 Batch    0/2   train_loss = 0.973\n",
      "Epoch 2520 Batch    0/2   train_loss = 0.973\n",
      "Epoch 2530 Batch    0/2   train_loss = 0.972\n",
      "Epoch 2540 Batch    0/2   train_loss = 0.972\n",
      "Epoch 2550 Batch    0/2   train_loss = 0.972\n",
      "Epoch 2560 Batch    0/2   train_loss = 0.971\n",
      "Epoch 2570 Batch    0/2   train_loss = 0.971\n",
      "Epoch 2580 Batch    0/2   train_loss = 0.971\n",
      "Epoch 2590 Batch    0/2   train_loss = 0.970\n",
      "Epoch 2600 Batch    0/2   train_loss = 0.970\n",
      "Epoch 2610 Batch    0/2   train_loss = 0.970\n",
      "Epoch 2620 Batch    0/2   train_loss = 0.970\n",
      "Epoch 2630 Batch    0/2   train_loss = 0.969\n",
      "Epoch 2640 Batch    0/2   train_loss = 0.969\n",
      "Epoch 2650 Batch    0/2   train_loss = 0.969\n",
      "Epoch 2660 Batch    0/2   train_loss = 0.969\n",
      "Epoch 2670 Batch    0/2   train_loss = 0.968\n",
      "Epoch 2680 Batch    0/2   train_loss = 0.968\n",
      "Epoch 2690 Batch    0/2   train_loss = 0.968\n",
      "Epoch 2700 Batch    0/2   train_loss = 0.968\n",
      "Epoch 2710 Batch    0/2   train_loss = 0.967\n",
      "Epoch 2720 Batch    0/2   train_loss = 0.967\n",
      "Epoch 2730 Batch    0/2   train_loss = 0.967\n",
      "Epoch 2740 Batch    0/2   train_loss = 0.967\n",
      "Epoch 2750 Batch    0/2   train_loss = 0.967\n",
      "Epoch 2760 Batch    0/2   train_loss = 0.966\n",
      "Epoch 2770 Batch    0/2   train_loss = 0.966\n",
      "Epoch 2780 Batch    0/2   train_loss = 0.966\n",
      "Epoch 2790 Batch    0/2   train_loss = 0.966\n",
      "Epoch 2800 Batch    0/2   train_loss = 0.966\n",
      "Epoch 2810 Batch    0/2   train_loss = 0.966\n",
      "Epoch 2820 Batch    0/2   train_loss = 0.966\n",
      "Epoch 2830 Batch    0/2   train_loss = 0.965\n",
      "Epoch 2840 Batch    0/2   train_loss = 0.965\n",
      "Epoch 2850 Batch    0/2   train_loss = 0.965\n",
      "Epoch 2860 Batch    0/2   train_loss = 0.965\n",
      "Epoch 2870 Batch    0/2   train_loss = 0.965\n",
      "Epoch 2880 Batch    0/2   train_loss = 0.965\n",
      "Epoch 2890 Batch    0/2   train_loss = 0.965\n",
      "Epoch 2900 Batch    0/2   train_loss = 0.964\n",
      "Epoch 2910 Batch    0/2   train_loss = 0.964\n",
      "Epoch 2920 Batch    0/2   train_loss = 0.964\n",
      "Epoch 2930 Batch    0/2   train_loss = 0.964\n",
      "Epoch 2940 Batch    0/2   train_loss = 0.964\n",
      "Epoch 2950 Batch    0/2   train_loss = 0.964\n",
      "Epoch 2960 Batch    0/2   train_loss = 0.964\n",
      "Epoch 2970 Batch    0/2   train_loss = 0.964\n",
      "Epoch 2980 Batch    0/2   train_loss = 0.964\n",
      "Epoch 2990 Batch    0/2   train_loss = 0.963\n",
      "Model Trained and Saved\n"
     ]
    }
   ],
   "source": [
    "\"\"\"\n",
    "DON'T MODIFY ANYTHING IN THIS CELL\n",
    "\"\"\"\n",
    "batches = get_batches(int_text, batch_size, seq_length)\n",
    "\n",
    "with tf.Session(graph=train_graph) as sess:\n",
    "    sess.run(tf.global_variables_initializer())\n",
    "\n",
    "    for epoch_i in range(num_epochs):\n",
    "        state = sess.run(initial_state, {input_text: batches[0][0]})\n",
    "                                         \n",
    "\n",
    "        for batch_i, (x, y) in enumerate(batches):\n",
    "            feed = {\n",
    "                input_text: x,\n",
    "                targets: y,\n",
    "                initial_state: state,\n",
    "                lr: learning_rate}\n",
    "            train_loss, state, _ = sess.run([cost, final_state, train_op], feed)\n",
    "\n",
    "            # Show every <show_every_n_batches> batches\n",
    "            if (epoch_i * len(batches) + batch_i) % show_every_n_batches == 0:\n",
    "                print('Epoch {:>3} Batch {:>4}/{}   train_loss = {:.3f}'.format(\n",
    "                    epoch_i,\n",
    "                    batch_i,\n",
    "                    len(batches),\n",
    "                    train_loss))\n",
    "\n",
    "    # Save Model\n",
    "    saver = tf.train.Saver()\n",
    "    saver.save(sess, save_dir)\n",
    "    print('Model Trained and Saved')"
   ]
  },
  {
   "cell_type": "markdown",
   "metadata": {
    "deletable": true,
    "editable": true
   },
   "source": [
    "## Save Parameters\n",
    "Save `seq_length` and `save_dir` for generating a new TV script."
   ]
  },
  {
   "cell_type": "code",
   "execution_count": 17,
   "metadata": {
    "collapsed": false,
    "deletable": true,
    "editable": true
   },
   "outputs": [],
   "source": [
    "\"\"\"\n",
    "DON'T MODIFY ANYTHING IN THIS CELL\n",
    "\"\"\"\n",
    "# Save parameters for checkpoint\n",
    "helper.save_params((seq_length, save_dir))"
   ]
  },
  {
   "cell_type": "markdown",
   "metadata": {
    "deletable": true,
    "editable": true
   },
   "source": [
    "# Checkpoint"
   ]
  },
  {
   "cell_type": "code",
   "execution_count": 18,
   "metadata": {
    "collapsed": false,
    "deletable": true,
    "editable": true
   },
   "outputs": [],
   "source": [
    "\"\"\"\n",
    "DON'T MODIFY ANYTHING IN THIS CELL\n",
    "\"\"\"\n",
    "import tensorflow as tf\n",
    "import numpy as np\n",
    "import helper\n",
    "import problem_unittests as tests\n",
    "\n",
    "_, vocab_to_int, int_to_vocab, token_dict = helper.load_preprocess()\n",
    "seq_length, load_dir = helper.load_params()"
   ]
  },
  {
   "cell_type": "markdown",
   "metadata": {
    "deletable": true,
    "editable": true
   },
   "source": [
    "## Implement Generate Functions\n",
    "### Get Tensors\n",
    "Get tensors from `loaded_graph` using the function [`get_tensor_by_name()`](https://www.tensorflow.org/api_docs/python/tf/Graph#get_tensor_by_name).  Get the tensors using the following names:\n",
    "- \"input:0\"\n",
    "- \"initial_state:0\"\n",
    "- \"final_state:0\"\n",
    "- \"probs:0\"\n",
    "\n",
    "Return the tensors in the following tuple `(InputTensor, InitialStateTensor, FinalStateTensor, ProbsTensor)` "
   ]
  },
  {
   "cell_type": "code",
   "execution_count": 19,
   "metadata": {
    "collapsed": false,
    "deletable": true,
    "editable": true
   },
   "outputs": [
    {
     "name": "stdout",
     "output_type": "stream",
     "text": [
      "Tests Passed\n"
     ]
    }
   ],
   "source": [
    "def get_tensors(loaded_graph):\n",
    "    \"\"\"\n",
    "    Get input, initial state, final state, and probabilities tensor from <loaded_graph>\n",
    "    :param loaded_graph: TensorFlow graph loaded from file\n",
    "    :return: Tuple (InputTensor, InitialStateTensor, FinalStateTensor, ProbsTensor)\n",
    "    \"\"\"\n",
    "    # TODO: Implement Function\n",
    "    \n",
    "    inputs = loaded_graph.get_tensor_by_name(\"input:0\")\n",
    "    initials = loaded_graph.get_tensor_by_name(\"initial_state:0\")\n",
    "    finals = loaded_graph.get_tensor_by_name(\"final_state:0\")\n",
    "    probs = loaded_graph.get_tensor_by_name(\"probs:0\")   \n",
    "    \n",
    "    return inputs, initials, finals, probs\n",
    "\n",
    "\n",
    "\"\"\"\n",
    "DON'T MODIFY ANYTHING IN THIS CELL THAT IS BELOW THIS LINE\n",
    "\"\"\"\n",
    "tests.test_get_tensors(get_tensors)"
   ]
  },
  {
   "cell_type": "markdown",
   "metadata": {
    "deletable": true,
    "editable": true
   },
   "source": [
    "### Choose Word\n",
    "Implement the `pick_word()` function to select the next word using `probabilities`."
   ]
  },
  {
   "cell_type": "code",
   "execution_count": 20,
   "metadata": {
    "collapsed": false,
    "deletable": true,
    "editable": true
   },
   "outputs": [
    {
     "name": "stdout",
     "output_type": "stream",
     "text": [
      "Tests Passed\n"
     ]
    }
   ],
   "source": [
    "def pick_word(probabilities, int_to_vocab):\n",
    "    \"\"\"\n",
    "    Pick the next word in the generated text\n",
    "    :param probabilities: Probabilites of the next word\n",
    "    :param int_to_vocab: Dictionary of word ids as the keys and words as the values\n",
    "    :return: String of the predicted word\n",
    "    \"\"\"\n",
    "    # TODO: Implement Function\n",
    "    #print(\"probabs:{}, - {}\".format(probabilities.shape, int_to_vocab[np.argmax(probabilities)]))\n",
    "    \n",
    "    return int_to_vocab[np.argmin(probabilities)]\n",
    "\n",
    "\n",
    "\"\"\"\n",
    "DON'T MODIFY ANYTHING IN THIS CELL THAT IS BELOW THIS LINE\n",
    "\"\"\"\n",
    "tests.test_pick_word(pick_word)"
   ]
  },
  {
   "cell_type": "markdown",
   "metadata": {
    "deletable": true,
    "editable": true
   },
   "source": [
    "## Generate TV Script\n",
    "This will generate the TV script for you.  Set `gen_length` to the length of TV script you want to generate."
   ]
  },
  {
   "cell_type": "code",
   "execution_count": 23,
   "metadata": {
    "collapsed": false,
    "deletable": true,
    "editable": true
   },
   "outputs": [
    {
     "name": "stdout",
     "output_type": "stream",
     "text": [
      "homer_simpson: splattered splattered splattered splattered splattered splattered splattered splattered splattered splattered splattered splattered splattered splattered splattered splattered audience: audience: audience: audience: audience: audience: audience: audience: audience: audience: audience: audience: audience: audience: audience: audience: splattered splattered splattered splattered splattered splattered splattered splattered splattered splattered splattered splattered splattered splattered splattered splattered audience: audience: audience: audience: audience: audience: audience: audience: audience: audience: audience: audience: audience: audience: audience: audience: splattered splattered splattered splattered splattered splattered splattered splattered splattered splattered splattered splattered splattered splattered splattered splattered audience: audience: audience: audience: audience: audience: audience: audience: audience: audience: audience: audience: audience: audience: audience: audience: splattered splattered splattered splattered splattered splattered splattered splattered splattered splattered splattered splattered splattered splattered splattered splattered audience: audience: audience: audience: audience: audience: audience: audience: audience: audience: audience: audience: audience: audience: audience: audience: splattered splattered splattered splattered splattered splattered splattered splattered splattered splattered splattered splattered splattered splattered splattered splattered audience: audience: audience: audience: audience: audience: audience: audience: audience: audience: audience: audience: audience: audience: audience: audience: splattered splattered splattered splattered splattered splattered splattered splattered splattered splattered splattered splattered splattered splattered splattered splattered audience: audience: audience: audience: audience: audience: audience: audience: audience: audience: audience: audience: audience: audience: audience: audience: splattered splattered splattered splattered splattered splattered splattered splattered\n"
     ]
    }
   ],
   "source": [
    "gen_length = 200\n",
    "# homer_simpson, moe_szyslak, or Barney_Gumble\n",
    "prime_word = 'homer_simpson'\n",
    "\n",
    "\n",
    "\"\"\"\n",
    "DON'T MODIFY ANYTHING IN THIS CELL THAT IS BELOW THIS LINE\n",
    "\"\"\"\n",
    "loaded_graph = tf.Graph()\n",
    "with tf.Session(graph=loaded_graph) as sess:\n",
    "    # Load saved model\n",
    "    loader = tf.train.import_meta_graph(load_dir + '.meta')\n",
    "    loader.restore(sess, load_dir)\n",
    "\n",
    "    # Get Tensors from loaded model\n",
    "    input_text, initial_state, final_state, probs = get_tensors(loaded_graph)\n",
    "\n",
    "    # Sentences generation setup\n",
    "    gen_sentences = [prime_word + ':']\n",
    "    prev_state = sess.run(initial_state, {input_text: np.array([[1]])})\n",
    "\n",
    "    # Generate sentences\n",
    "    for n in range(gen_length):\n",
    "        # Dynamic Input\n",
    "        dyn_input = [[vocab_to_int[word] for word in gen_sentences[-seq_length:]]]\n",
    "        dyn_seq_length = len(dyn_input[0])\n",
    "\n",
    "        # Get Prediction\n",
    "        probabilities, prev_state = sess.run(\n",
    "            [probs, final_state],\n",
    "            {input_text: dyn_input, initial_state: prev_state})\n",
    "        \n",
    "        pred_word = pick_word(probabilities[dyn_seq_length-1], int_to_vocab)\n",
    "\n",
    "        gen_sentences.append(pred_word)\n",
    "    \n",
    "    # Remove tokens\n",
    "    tv_script = ' '.join(gen_sentences)\n",
    "    for key, token in token_dict.items():\n",
    "        ending = ' ' if key in ['\\n', '(', '\"'] else ''\n",
    "        tv_script = tv_script.replace(' ' + token.lower(), key)\n",
    "    tv_script = tv_script.replace('\\n ', '\\n')\n",
    "    tv_script = tv_script.replace('( ', '(')\n",
    "        \n",
    "    print(tv_script)"
   ]
  },
  {
   "cell_type": "markdown",
   "metadata": {
    "deletable": true,
    "editable": true
   },
   "source": [
    "# The TV Script is Nonsensical\n",
    "It's ok if the TV script doesn't make any sense.  We trained on less than a megabyte of text.  In order to get good results, you'll have to use a smaller vocabulary or get more data.  Luckly there's more data!  As we mentioned in the begging of this project, this is a subset of [another dataset](https://www.kaggle.com/wcukierski/the-simpsons-by-the-data).  We didn't have you train on all the data, because that would take too long.  However, you are free to train your neural network on all the data.  After you complete the project, of course.\n",
    "# Submitting This Project\n",
    "When submitting this project, make sure to run all the cells before saving the notebook. Save the notebook file as \"dlnd_tv_script_generation.ipynb\" and save it as a HTML file under \"File\" -> \"Download as\". Include the \"helper.py\" and \"problem_unittests.py\" files in your submission."
   ]
  },
  {
   "cell_type": "code",
   "execution_count": null,
   "metadata": {
    "collapsed": true,
    "deletable": true,
    "editable": true
   },
   "outputs": [],
   "source": []
  },
  {
   "cell_type": "code",
   "execution_count": null,
   "metadata": {
    "collapsed": true,
    "deletable": true,
    "editable": true
   },
   "outputs": [],
   "source": []
  },
  {
   "cell_type": "code",
   "execution_count": null,
   "metadata": {
    "collapsed": true
   },
   "outputs": [],
   "source": []
  }
 ],
 "metadata": {
  "kernelspec": {
   "display_name": "Python 3",
   "language": "python",
   "name": "python3"
  },
  "language_info": {
   "codemirror_mode": {
    "name": "ipython",
    "version": 3
   },
   "file_extension": ".py",
   "mimetype": "text/x-python",
   "name": "python",
   "nbconvert_exporter": "python",
   "pygments_lexer": "ipython3",
   "version": "3.5.3"
  },
  "widgets": {
   "state": {},
   "version": "1.1.2"
  }
 },
 "nbformat": 4,
 "nbformat_minor": 0
}
